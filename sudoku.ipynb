{
 "cells": [
  {
   "cell_type": "code",
   "execution_count": 288,
   "id": "56f0773d",
   "metadata": {},
   "outputs": [],
   "source": [
    "import json\n",
    "import numpy as np\n",
    "from itertools import product\n",
    "from collections import defaultdict\n",
    "with open(\"sodoku_puzzles.json\", \"r\") as f:\n",
    "    puzzles = json.load(f)"
   ]
  },
  {
   "cell_type": "code",
   "execution_count": 289,
   "id": "6ebf6692",
   "metadata": {},
   "outputs": [],
   "source": [
    "box0_coords = [(0, i) for i in range(3)] + [(1, i) for i in range(3)] + [(2, i) for i in range(3)]\n",
    "box_coords = [[(t[0]+i, t[1]+j) for t in box0_coords] for i, j in product(range(0,9,3), range(0,9,3))]\n",
    "\n",
    "\n",
    "class Puzzle:\n",
    "    def __init__(self, puzzle: list[list[int]]):\n",
    "        self._puzzle = [row.copy() for row in puzzle]\n",
    "        \n",
    "    def _make_repr(self):\n",
    "        t = [\n",
    "            \"╔═══╤═══╤═══╦═══╤═══╤═══╦═══╤═══╤═══╗\",\n",
    "            \"╟───┼───┼───╫───┼───┼───╫───┼───┼───╢\",\n",
    "            \"╠═══╪═══╪═══╬═══╪═══╪═══╬═══╪═══╪═══╣\",\n",
    "            \"╚═══╧═══╧═══╩═══╧═══╧═══╩═══╧═══╧═══╝\"\n",
    "            ]\n",
    "        o=[t[0]]\n",
    "        for i,r in enumerate(self._puzzle):\n",
    "            s=\"║\"\n",
    "            for j,v in enumerate(r):\n",
    "                s+=f\" {v if v else ' '} \"\n",
    "                if j<8:s+=\"║\"if j in[2,5]else\"│\"\n",
    "            o.append(s+\"║\")\n",
    "            if i<8:o.append(t[2]if i in[2,5]else t[1])\n",
    "        o.append(t[3])\n",
    "        return\"\\n\".join(o)\n",
    "        \n",
    "    def __repr__(self):\n",
    "        return self._make_repr()\n",
    "        \n",
    "    def __getitem__(self, index: tuple[int, int]):\n",
    "        if isinstance(index, int):\n",
    "            i, j = index%9, index//9\n",
    "        else:\n",
    "            i, j = index\n",
    "        if isinstance(j, slice):\n",
    "            return [self._puzzle[_][i] for _ in list(range(9))[j]]\n",
    "        return self._puzzle[j][i]\n",
    "    \n",
    "    def __setitem__(self, index, value):\n",
    "        if isinstance(index, int):\n",
    "            i, j = index%9, index//9\n",
    "        else:\n",
    "            i, j = index\n",
    "        self._puzzle[j][i] = value\n",
    "    \n",
    "    def row(self, i, j):\n",
    "        return set(self[:, j]) - {0}\n",
    "    \n",
    "    def col(self, i, j):\n",
    "        return set(self[i, :]) - {0}\n",
    "    \n",
    "    def box(self, i, j):\n",
    "        c, r = 3*(i//3), 3*(j//3)\n",
    "        s = set()\n",
    "        for row in self[c:c+3, r:r+3]:\n",
    "            s.update(row)\n",
    "        return s - {0}\n",
    "    \n",
    "    def rows(self):\n",
    "        for i in range(9):\n",
    "            yield self._puzzle[i]\n",
    "    \n",
    "    def cols(self):\n",
    "        for i in range(9):\n",
    "            yield [self._puzzle[j][i] for j in range(9)]\n",
    "            \n",
    "    def boxes(self):\n",
    "        for bc in box_coords:\n",
    "            yield [self[i,j] for i, j in bc]\n",
    "    \n",
    "    def valid(self) -> bool:\n",
    "        for bits in self.rows():\n",
    "            for i in range(1,10):\n",
    "                if bits.count(i) > 1:\n",
    "                    return False\n",
    "        for bits in self.cols():\n",
    "            for i in range(1,10):\n",
    "                if bits.count(i) > 1:\n",
    "                    return False\n",
    "        for bits in self.boxes():\n",
    "            for i in range(1,10):\n",
    "                if bits.count(i) > 1:\n",
    "                    return False\n",
    "        return True\n",
    "    \n",
    "    def get_posibilites(self):\n",
    "        posibilities = defaultdict(set)\n",
    "        for i in range(9):\n",
    "            for j in range(9):\n",
    "                if self[i,j] != 0:\n",
    "                    continue\n",
    "                s = set(range(1,10))\n",
    "                s -= self.row(i, j)\n",
    "                s -= self.col(i, j)\n",
    "                s -= self.box(i, j)\n",
    "                posibilities[(i,j)] = s\n",
    "        return posibilities                "
   ]
  },
  {
   "cell_type": "code",
   "execution_count": 290,
   "id": "0e825e75",
   "metadata": {},
   "outputs": [],
   "source": [
    "def backtrack(p):\n",
    "    zeros = [i for i in range(81) if p[i]==0]\n",
    "    guesses = [0]*len(zeros)\n",
    "    pos = 0\n",
    "    while pos < len(zeros):\n",
    "        while guesses[pos] < 9:\n",
    "            guesses[pos] += 1\n",
    "            p[zeros[pos]] = guesses[pos]\n",
    "            if p.valid():\n",
    "                pos += 1\n",
    "                break\n",
    "        else:\n",
    "            guesses[pos] = 0\n",
    "            p[zeros[pos]] = guesses[pos]\n",
    "            pos -= 1"
   ]
  },
  {
   "cell_type": "code",
   "execution_count": 291,
   "id": "a91bbc0c",
   "metadata": {},
   "outputs": [],
   "source": [
    "from time import perf_counter"
   ]
  },
  {
   "cell_type": "code",
   "execution_count": 292,
   "id": "4871aedd",
   "metadata": {},
   "outputs": [],
   "source": [
    "results = []\n",
    "for puz in puzzles['RawSudoku']:\n",
    "    p = Puzzle(puz)\n",
    "    n_clues = len([i for i in range(81) if p[i] != 0])\n",
    "    tic = perf_counter()\n",
    "    backtrack(p)\n",
    "    toc = perf_counter() - tic \n",
    "    results.append((n_clues, toc))"
   ]
  },
  {
   "cell_type": "code",
   "execution_count": 293,
   "id": "b1e15e05",
   "metadata": {},
   "outputs": [
    {
     "data": {
      "text/plain": [
       "[(30, 0.09740995801985264),\n",
       " (30, 2.5592681248672307),\n",
       " (30, 0.13023437513038516),\n",
       " (30, 0.2811563750728965),\n",
       " (30, 0.3600884173065424),\n",
       " (31, 1.024451124947518),\n",
       " (31, 0.7635502913035452),\n",
       " (30, 0.6509804590605199),\n",
       " (31, 0.5436001662164927),\n",
       " (30, 0.02831229194998741),\n",
       " (31, 0.40931783290579915),\n",
       " (30, 0.7779790419153869),\n",
       " (30, 0.04999366728588939),\n",
       " (30, 0.1746843750588596),\n",
       " (30, 0.037166791036725044),\n",
       " (30, 0.1721420418471098),\n",
       " (30, 0.08209695806726813),\n",
       " (31, 0.6038671252317727),\n",
       " (30, 0.1191779999062419),\n",
       " (30, 0.1298966254107654),\n",
       " (30, 1.6405621659941971),\n",
       " (30, 1.1460931664332747),\n",
       " (30, 0.01690233312547207),\n",
       " (30, 0.07530441740527749),\n",
       " (30, 0.20657441718503833),\n",
       " (31, 0.15428195800632238),\n",
       " (30, 2.0665871668606997)]"
      ]
     },
     "execution_count": 293,
     "metadata": {},
     "output_type": "execute_result"
    }
   ],
   "source": [
    "results"
   ]
  },
  {
   "cell_type": "code",
   "execution_count": null,
   "id": "f8eeda31",
   "metadata": {},
   "outputs": [],
   "source": [
    "\n"
   ]
  },
  {
   "cell_type": "code",
   "execution_count": 279,
   "id": "92d328d5",
   "metadata": {},
   "outputs": [
    {
     "data": {
      "text/plain": [
       "╔═══╤═══╤═══╦═══╤═══╤═══╦═══╤═══╤═══╗\n",
       "║ 5 │ 1 │ 9 ║ 3 │ 2 │ 4 ║ 6 │ 7 │ 8 ║\n",
       "╟───┼───┼───╫───┼───┼───╫───┼───┼───╢\n",
       "║ 8 │ 6 │ 3 ║ 9 │ 1 │ 7 ║ 2 │ 5 │ 4 ║\n",
       "╟───┼───┼───╫───┼───┼───╫───┼───┼───╢\n",
       "║ 4 │ 2 │ 7 ║ 5 │ 8 │ 6 ║ 1 │ 9 │ 3 ║\n",
       "╠═══╪═══╪═══╬═══╪═══╪═══╬═══╪═══╪═══╣\n",
       "║ 1 │ 9 │ 8 ║ 7 │ 6 │ 5 ║ 4 │ 3 │ 2 ║\n",
       "╟───┼───┼───╫───┼───┼───╫───┼───┼───╢\n",
       "║ 2 │ 3 │ 5 ║ 1 │ 4 │ 9 ║ 8 │ 6 │ 7 ║\n",
       "╟───┼───┼───╫───┼───┼───╫───┼───┼───╢\n",
       "║ 6 │ 7 │ 4 ║ 8 │ 3 │ 2 ║ 9 │ 1 │ 5 ║\n",
       "╠═══╪═══╪═══╬═══╪═══╪═══╬═══╪═══╪═══╣\n",
       "║ 3 │ 8 │ 2 ║ 6 │ 5 │ 1 ║ 7 │ 4 │ 9 ║\n",
       "╟───┼───┼───╫───┼───┼───╫───┼───┼───╢\n",
       "║ 7 │ 4 │ 1 ║ 2 │ 9 │ 3 ║ 5 │ 8 │ 6 ║\n",
       "╟───┼───┼───╫───┼───┼───╫───┼───┼───╢\n",
       "║ 9 │ 5 │ 6 ║ 4 │ 7 │ 8 ║ 3 │ 2 │ 1 ║\n",
       "╚═══╧═══╧═══╩═══╧═══╧═══╩═══╧═══╧═══╝"
      ]
     },
     "execution_count": 279,
     "metadata": {},
     "output_type": "execute_result"
    }
   ],
   "source": [
    "backtrack(p)\n",
    "p"
   ]
  },
  {
   "cell_type": "code",
   "execution_count": 265,
   "id": "e3b95194",
   "metadata": {},
   "outputs": [],
   "source": [
    "t = 10\n",
    "while t < 20:\n",
    "    t += 1\n",
    "    if t == 12:\n",
    "        break\n",
    "else:\n",
    "    print(\"else\")"
   ]
  },
  {
   "cell_type": "code",
   "execution_count": 235,
   "id": "70e03a19",
   "metadata": {},
   "outputs": [],
   "source": [
    "l = [0,0,0,3,3,4]"
   ]
  },
  {
   "cell_type": "code",
   "execution_count": 253,
   "id": "f4f9e6e0",
   "metadata": {},
   "outputs": [],
   "source": [
    "# 10 -> (1,1)\n",
    "# 62 -> (8,6)\n",
    "# 80 -> (8,8)"
   ]
  },
  {
   "cell_type": "code",
   "execution_count": 255,
   "id": "709659d4",
   "metadata": {},
   "outputs": [
    {
     "data": {
      "text/plain": [
       "(8, 6)"
      ]
     },
     "execution_count": 255,
     "metadata": {},
     "output_type": "execute_result"
    }
   ],
   "source": [
    "i = 62\n",
    "i%9, i//9"
   ]
  },
  {
   "cell_type": "code",
   "execution_count": 252,
   "id": "79f77fcd",
   "metadata": {},
   "outputs": [
    {
     "data": {
      "text/plain": [
       "1"
      ]
     },
     "execution_count": 252,
     "metadata": {},
     "output_type": "execute_result"
    }
   ],
   "source": [
    "10%9"
   ]
  },
  {
   "cell_type": "code",
   "execution_count": 200,
   "id": "150b493b",
   "metadata": {},
   "outputs": [
    {
     "name": "stdout",
     "output_type": "stream",
     "text": [
      "(8, 7)\n",
      "(7, 7)\n"
     ]
    }
   ],
   "source": [
    "while True:\n",
    "    changes = 0\n",
    "    for k, v in p.get_posibilites().items():\n",
    "        if len(v) == 1:\n",
    "            print(k)\n",
    "            changes += 1\n",
    "            p[k] = v.pop()\n",
    "    if changes == 0:\n",
    "        break"
   ]
  },
  {
   "cell_type": "code",
   "execution_count": 201,
   "id": "f4059ecb",
   "metadata": {},
   "outputs": [
    {
     "data": {
      "text/plain": [
       "╔═══╤═══╤═══╦═══╤═══╤═══╦═══╤═══╤═══╗\n",
       "║   │ 9 │   ║ 8 │ 6 │ 5 ║ 2 │   │   ║\n",
       "╟───┼───┼───╫───┼───┼───╫───┼───┼───╢\n",
       "║   │   │ 5 ║   │ 1 │ 2 ║   │ 6 │ 8 ║\n",
       "╟───┼───┼───╫───┼───┼───╫───┼───┼───╢\n",
       "║   │   │   ║   │   │   ║   │ 4 │   ║\n",
       "╠═══╪═══╪═══╬═══╪═══╪═══╬═══╪═══╪═══╣\n",
       "║   │   │   ║   │   │ 8 ║   │ 5 │ 6 ║\n",
       "╟───┼───┼───╫───┼───┼───╫───┼───┼───╢\n",
       "║   │   │ 8 ║   │   │   ║ 4 │   │   ║\n",
       "╟───┼───┼───╫───┼───┼───╫───┼───┼───╢\n",
       "║ 4 │ 5 │   ║ 9 │   │   ║   │   │   ║\n",
       "╠═══╪═══╪═══╬═══╪═══╪═══╬═══╪═══╪═══╣\n",
       "║   │ 8 │   ║   │   │   ║   │   │   ║\n",
       "╟───┼───┼───╫───┼───┼───╫───┼───┼───╢\n",
       "║ 2 │ 4 │   ║ 1 │ 7 │   ║ 5 │ 8 │ 3 ║\n",
       "╟───┼───┼───╫───┼───┼───╫───┼───┼───╢\n",
       "║   │   │ 7 ║ 2 │ 8 │ 3 ║   │ 9 │   ║\n",
       "╚═══╧═══╧═══╩═══╧═══╧═══╩═══╧═══╧═══╝"
      ]
     },
     "execution_count": 201,
     "metadata": {},
     "output_type": "execute_result"
    }
   ],
   "source": [
    "p"
   ]
  },
  {
   "cell_type": "code",
   "execution_count": 206,
   "id": "51a556e0",
   "metadata": {},
   "outputs": [],
   "source": [
    "def split3(row):\n",
    "    return [row[:3], row[3:6], row[6:]]"
   ]
  },
  {
   "cell_type": "code",
   "execution_count": 207,
   "id": "37d296eb",
   "metadata": {},
   "outputs": [
    {
     "data": {
      "text/plain": [
       "[[0, 0, 0], [0, 0, 4], [0, 2, 0]]"
      ]
     },
     "execution_count": 207,
     "metadata": {},
     "output_type": "execute_result"
    }
   ],
   "source": [
    "split3(p[0,:])"
   ]
  },
  {
   "cell_type": "code",
   "execution_count": 208,
   "id": "ae365a49",
   "metadata": {},
   "outputs": [],
   "source": [
    "s = p.get_posibilites()"
   ]
  },
  {
   "cell_type": "code",
   "execution_count": 209,
   "id": "114f16d7",
   "metadata": {},
   "outputs": [
    {
     "data": {
      "text/plain": [
       "{1, 5, 6}"
      ]
     },
     "execution_count": 209,
     "metadata": {},
     "output_type": "execute_result"
    }
   ],
   "source": [
    "s[0,8]"
   ]
  },
  {
   "cell_type": "code",
   "execution_count": 195,
   "id": "ebc5e37e",
   "metadata": {},
   "outputs": [],
   "source": [
    "class Puz:\n",
    "    def __init__(self, puzzle):\n",
    "        p = []\n",
    "        for row in puzzle:\n",
    "            p.extend(row)\n",
    "        self._puzzle = np.array(p)"
   ]
  },
  {
   "cell_type": "code",
   "execution_count": 197,
   "id": "fc4e6540",
   "metadata": {},
   "outputs": [
    {
     "data": {
      "text/plain": [
       "array([0, 9, 0, 8, 6, 5, 2, 0, 0, 0, 0, 5, 0, 1, 2, 0, 6, 8, 0, 0, 0, 0,\n",
       "       0, 0, 0, 4, 0, 0, 0, 0, 0, 0, 8, 0, 5, 6, 0, 0, 8, 0, 0, 0, 4, 0,\n",
       "       0, 4, 5, 0, 9, 0, 0, 0, 0, 0, 0, 8, 0, 0, 0, 0, 0, 0, 0, 2, 4, 0,\n",
       "       1, 7, 0, 5, 0, 0, 0, 0, 7, 2, 8, 3, 0, 9, 0])"
      ]
     },
     "execution_count": 197,
     "metadata": {},
     "output_type": "execute_result"
    }
   ],
   "source": [
    "p = Puz(puzzles['RawSudoku'][0])\n",
    "p._puzzle"
   ]
  },
  {
   "cell_type": "code",
   "execution_count": null,
   "id": "66f37510",
   "metadata": {},
   "outputs": [],
   "source": []
  }
 ],
 "metadata": {
  "kernelspec": {
   "display_name": "Python 3",
   "language": "python",
   "name": "python3"
  },
  "language_info": {
   "codemirror_mode": {
    "name": "ipython",
    "version": 3
   },
   "file_extension": ".py",
   "mimetype": "text/x-python",
   "name": "python",
   "nbconvert_exporter": "python",
   "pygments_lexer": "ipython3",
   "version": "3.10.0"
  }
 },
 "nbformat": 4,
 "nbformat_minor": 5
}
