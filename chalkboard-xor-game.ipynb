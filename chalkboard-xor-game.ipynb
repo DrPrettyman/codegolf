{
 "cells": [
  {
   "cell_type": "markdown",
   "metadata": {},
   "source": [
    "You are given an array of integers nums represents the numbers written on a chalkboard.\n",
    "\n",
    "Alice and Bob take turns erasing exactly one number from the chalkboard, with Alice starting first. If erasing a number causes the bitwise XOR of all the elements of the chalkboard to become 0, then that player loses. The bitwise XOR of one element is that element itself, and the bitwise XOR of no elements is 0.\n",
    "\n",
    "Also, if any player starts their turn with the bitwise XOR of all the elements of the chalkboard equal to 0, then that player wins.\n",
    "\n",
    "Return true if and only if Alice wins the game, assuming both players play optimally."
   ]
  },
  {
   "cell_type": "code",
   "execution_count": 2,
   "metadata": {},
   "outputs": [],
   "source": [
    "from test import Test\n",
    "\t\t\t\n",
    "test = Test(\n",
    "\t\t({\"numbers\": [1,1,2]}, False),\n",
    "\t\t({\"numbers\": [0,1]}, True),\n",
    "\t\t({\"numbers\": [1,2,3]}, True),\n",
    "\t\t({\"numbers\": [240,122,196,255,135,134,3,219,99,151]}, True)\n",
    ")\n"
   ]
  },
  {
   "cell_type": "code",
   "execution_count": 3,
   "metadata": {},
   "outputs": [],
   "source": [
    "def xor(*numbers):\n",
    "    result = 0\n",
    "    for n in numbers:\n",
    "        result ^= n\n",
    "    return result"
   ]
  },
  {
   "cell_type": "code",
   "execution_count": 4,
   "metadata": {},
   "outputs": [],
   "source": [
    "def winnable(numbers: list[int]):\n",
    "    x = xor(*numbers)\n",
    "    if x == 0:\n",
    "        return True\n",
    "    options = set(numbers)\n",
    "    outcomes = []\n",
    "    for _opt in options:\n",
    "        b = numbers.copy()\n",
    "        b.remove(_opt)\n",
    "        outcomes.append(winnable(b))\n",
    "    if all(r == True for r in outcomes):\n",
    "        return False\n",
    "    return True"
   ]
  },
  {
   "cell_type": "code",
   "execution_count": 5,
   "metadata": {},
   "outputs": [
    {
     "data": {
      "text/plain": [
       "True"
      ]
     },
     "execution_count": 5,
     "metadata": {},
     "output_type": "execute_result"
    }
   ],
   "source": [
    "winnable([240,122,196,255,135,134,3,219,99,151])"
   ]
  },
  {
   "cell_type": "code",
   "execution_count": 6,
   "metadata": {},
   "outputs": [
    {
     "name": "stdout",
     "output_type": "stream",
     "text": [
      "All tests passed\n"
     ]
    }
   ],
   "source": [
    "test(winnable)"
   ]
  }
 ],
 "metadata": {
  "kernelspec": {
   "display_name": "Python 3",
   "language": "python",
   "name": "python3"
  },
  "language_info": {
   "codemirror_mode": {
    "name": "ipython",
    "version": 3
   },
   "file_extension": ".py",
   "mimetype": "text/x-python",
   "name": "python",
   "nbconvert_exporter": "python",
   "pygments_lexer": "ipython3",
   "version": "3.11.1"
  }
 },
 "nbformat": 4,
 "nbformat_minor": 2
}
