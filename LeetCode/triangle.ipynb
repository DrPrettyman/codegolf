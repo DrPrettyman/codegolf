{
 "cells": [
  {
   "cell_type": "markdown",
   "id": "8fb080db",
   "metadata": {},
   "source": [
    "# 120. Triangle\n",
    "\n",
    "Given a `triangle` array, return the minimum path sum from top to bottom.\n",
    "\n",
    "For each step, you may move to an adjacent number of the row below. More formally, if you are on index `i` on the current row, you may move to either index `i` or index `i + 1` on the next row.\n",
    "\n",
    "Example 1:\n",
    "\n",
    "Input: `triangle = [[2],[3,4],[6,5,7],[4,1,8,3]]`\n",
    "Output: `11`\n",
    "Explanation: The triangle looks like:\n",
    "   2\n",
    "  3 4\n",
    " 6 5 7\n",
    "4 1 8 3\n",
    "The minimum path sum from top to bottom is 2 + 3 + 5 + 1 = 11\n",
    "Example 2:\n",
    "\n",
    "Input: `triangle = [[-10]]`\n",
    "Output: `-10`"
   ]
  },
  {
   "cell_type": "code",
   "execution_count": 45,
   "id": "baf9d935",
   "metadata": {},
   "outputs": [],
   "source": [
    "def min_path(triangle: list[list[int]]):\n",
    "    sum_line = triangle[0]\n",
    "    for line in triangle[1:]:\n",
    "        oob = {-1, len(line)-1}  # indices out of bounds\n",
    "        sum_line = [min(n+sum_line[k] for k in ({j-1, j} - oob)) for j, n in enumerate(line)]\n",
    "    return min(sum_line)"
   ]
  },
  {
   "cell_type": "code",
   "execution_count": 46,
   "id": "3563172f",
   "metadata": {},
   "outputs": [
    {
     "data": {
      "text/plain": [
       "11"
      ]
     },
     "execution_count": 46,
     "metadata": {},
     "output_type": "execute_result"
    }
   ],
   "source": [
    "min_path(triangle=[[2],[3,4],[6,5,7],[4,1,8,3]])"
   ]
  },
  {
   "cell_type": "code",
   "execution_count": null,
   "id": "b89d9138",
   "metadata": {},
   "outputs": [],
   "source": []
  }
 ],
 "metadata": {
  "kernelspec": {
   "display_name": ".venv",
   "language": "python",
   "name": "python3"
  },
  "language_info": {
   "codemirror_mode": {
    "name": "ipython",
    "version": 3
   },
   "file_extension": ".py",
   "mimetype": "text/x-python",
   "name": "python",
   "nbconvert_exporter": "python",
   "pygments_lexer": "ipython3",
   "version": "3.11.1"
  }
 },
 "nbformat": 4,
 "nbformat_minor": 5
}
