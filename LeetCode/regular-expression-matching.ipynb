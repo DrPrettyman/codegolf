{
 "cells": [
  {
   "cell_type": "markdown",
   "id": "61755cc0",
   "metadata": {},
   "source": [
    "# 10. Regular expression matching\n",
    "\n",
    "Given an input string `s` and a pattern `p`, implement regular expression matching with support for `'.'` and `'*'` where:\n",
    "\n",
    "- `'.'` Matches any single character.​​​​\n",
    "- `'*'` Matches zero or more of the preceding element.\n",
    "\n",
    "The matching should cover the entire input string (not partial).\n",
    "\n",
    " \n",
    "\n",
    "### Example 1:\n",
    "\n",
    "Input: `s = \"aa\"`, `p = \"a\"`\n",
    "\n",
    "Output: `false`\n",
    "\n",
    "Explanation: `\"a\"` does not match the entire string `\"aa\"`.\n",
    "\n",
    "### Example 2:\n",
    "\n",
    "Input: `s = \"aa\"`, `p = \"a*\"`\n",
    "\n",
    "Output: `true`\n",
    "\n",
    "Explanation: `'*'` means zero or more of the preceding element, `'a'`. Therefore, by repeating `'a'` once, it becomes `\"aa\"`.\n",
    "\n",
    "### Example 3:\n",
    "\n",
    "Input: `s = \"ab\"`, `p = \".*\"`\n",
    "\n",
    "Output: `true`\n",
    "\n",
    "Explanation: `\".*\"` means \"zero or more (*) of any character (.)\"."
   ]
  },
  {
   "cell_type": "code",
   "execution_count": 1,
   "id": "79e64a13",
   "metadata": {},
   "outputs": [],
   "source": [
    "s = \"ab\"\n",
    "p = \".*\""
   ]
  },
  {
   "cell_type": "code",
   "execution_count": null,
   "id": "42008e8d",
   "metadata": {},
   "outputs": [
    {
     "name": "stdout",
     "output_type": "stream",
     "text": [
      "True\n"
     ]
    }
   ],
   "source": [
    "def char_match(s_char: str, p_char: str) -> bool:\n",
    "    return p_char == '.' or s_char == p_char\n",
    "\n",
    "def is_match(s: str, p: str) -> bool:\n",
    "    s_i, p_i = 0, 0\n",
    "    \n"
   ]
  },
  {
   "cell_type": "code",
   "execution_count": 5,
   "id": "1ff83324",
   "metadata": {},
   "outputs": [
    {
     "data": {
      "text/plain": [
       "['a', '.', '']"
      ]
     },
     "execution_count": 5,
     "metadata": {},
     "output_type": "execute_result"
    }
   ],
   "source": [
    "p = 'a*.*'\n",
    "p.split('*')\n"
   ]
  },
  {
   "cell_type": "code",
   "execution_count": 96,
   "id": "178d4d0c",
   "metadata": {},
   "outputs": [],
   "source": [
    "def char_match(s_char: str, p_char: str) -> bool:\n",
    "    return p_char == '.' or s_char == p_char\n",
    "\n",
    "class PatternElement:\n",
    "    def __init__(self, char: str, is_star: bool = False):\n",
    "        self.char = char\n",
    "        self.is_star = is_star\n",
    "        \n",
    "        self._string = f\"'{self.char}{'*' if self.is_star else ''}'\"\n",
    "\n",
    "    def __repr__(self):\n",
    "        return self._string\n",
    "    \n",
    "    def matches(self, s: str) -> list[str]:\n",
    "        if not self.is_star:\n",
    "            if char_match(s[0], self.char):\n",
    "                return [1]\n",
    "            return []\n",
    "        \n",
    "        matches = [0]\n",
    "        for i in range(len(s)):\n",
    "            if char_match(s[i], self.char):\n",
    "                matches.append(i+1)\n",
    "            else:\n",
    "                break\n",
    "        return matches\n",
    "\n",
    "        \n",
    "def split_pattern(pattern: str) -> list[PatternElement]:\n",
    "    elements = []\n",
    "    i = 0\n",
    "    while i < len(pattern) - 1:\n",
    "        if pattern[i+1] == '*':\n",
    "            elements.append(PatternElement(pattern[i], True))\n",
    "            i += 2\n",
    "        else:\n",
    "            elements.append(PatternElement(pattern[i]))\n",
    "            i += 1\n",
    "    if i == len(pattern) - 1:\n",
    "        elements.append(PatternElement(pattern[i]))\n",
    "    return elements\n",
    "\n",
    "def f(s, psplit):\n",
    "    matches = psplit[0].matches(s)\n",
    "\n",
    "    psplit_new = psplit[1:]\n",
    "    for m in matches:\n",
    "        s_new = s[m:]\n",
    "        \n",
    "        # print(f\"'{s_new}', \", psplit_new)\n",
    "        \n",
    "        if len(psplit_new) == 0:\n",
    "            if len(s_new) == 0:\n",
    "                return True\n",
    "        elif len(s_new) == 0:\n",
    "            if all(p.is_star for p in psplit_new):\n",
    "                return True\n",
    "            continue\n",
    "        else:\n",
    "            if f(s_new, psplit_new):\n",
    "                return True\n",
    "    return False\n",
    "\n",
    "def is_match(s: str, p: str) -> bool:\n",
    "    psplit = split_pattern(p)\n",
    "    \n",
    "    not_stars = [e.char for e in psplit if not e.is_star]\n",
    "    if len(not_stars) > len(s):\n",
    "        return False\n",
    "    for c in not_stars:\n",
    "        if c != '.' and c not in s:\n",
    "            return False\n",
    "    \n",
    "    return f(s, psplit)"
   ]
  },
  {
   "cell_type": "code",
   "execution_count": null,
   "id": "d949eb4a",
   "metadata": {},
   "outputs": [],
   "source": [
    "\n"
   ]
  },
  {
   "cell_type": "code",
   "execution_count": 98,
   "id": "3a8ba629",
   "metadata": {},
   "outputs": [
    {
     "data": {
      "text/plain": [
       "False"
      ]
     },
     "execution_count": 98,
     "metadata": {},
     "output_type": "execute_result"
    }
   ],
   "source": [
    "s = \"aaaaaaaaaaaaaaaaaaa\"\n",
    "p = \"a*a*a*a*a*a*a*a*a*b\"\n",
    "\n",
    "\n",
    "is_match(s, p)"
   ]
  },
  {
   "cell_type": "code",
   "execution_count": null,
   "id": "de32b7e5",
   "metadata": {},
   "outputs": [],
   "source": []
  }
 ],
 "metadata": {
  "kernelspec": {
   "display_name": "Python 3",
   "language": "python",
   "name": "python3"
  },
  "language_info": {
   "codemirror_mode": {
    "name": "ipython",
    "version": 3
   },
   "file_extension": ".py",
   "mimetype": "text/x-python",
   "name": "python",
   "nbconvert_exporter": "python",
   "pygments_lexer": "ipython3",
   "version": "3.10.0"
  }
 },
 "nbformat": 4,
 "nbformat_minor": 5
}
