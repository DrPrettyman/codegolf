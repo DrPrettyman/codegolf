{
 "cells": [
  {
   "cell_type": "code",
   "id": "initial_id",
   "metadata": {
    "collapsed": true,
    "ExecuteTime": {
     "end_time": "2024-10-31T09:32:56.800224Z",
     "start_time": "2024-10-31T09:32:56.794256Z"
    }
   },
   "source": [
    "from math import sqrt, log, floor, e, pi\n",
    "\n",
    "def to_base(n, b):\n",
    "\tk = floor(log(n, b)) + 1\n",
    "\tprecision = 5\n",
    "\tresult = \"\"\n",
    "\n",
    "\tfor i in range(k-1, -1*(precision+1), -1):\n",
    "\t\tif len(result) == k:\n",
    "\t\t\tresult += \".\"\n",
    "\t\t\n",
    "\t\tdigit = floor((n / b**i) % b)\n",
    "\t\tn -= digit * b**i\n",
    "\t\tresult += str(digit)\n",
    "\n",
    "\treturn result"
   ],
   "outputs": [],
   "execution_count": 1
  },
  {
   "metadata": {
    "ExecuteTime": {
     "end_time": "2024-09-23T17:35:08.126376Z",
     "start_time": "2024-09-23T17:35:08.124013Z"
    }
   },
   "cell_type": "code",
   "source": "to_base(10, e)",
   "id": "62792fd39b56114d",
   "outputs": [
    {
     "data": {
      "text/plain": [
       "'102.11201'"
      ]
     },
     "execution_count": 65,
     "metadata": {},
     "output_type": "execute_result"
    }
   ],
   "execution_count": 65
  },
  {
   "metadata": {
    "ExecuteTime": {
     "end_time": "2024-09-23T17:21:08.300661Z",
     "start_time": "2024-09-23T17:21:08.299060Z"
    }
   },
   "cell_type": "code",
   "source": "",
   "id": "25e93f4f21bcf4b7",
   "outputs": [],
   "execution_count": 8
  },
  {
   "metadata": {},
   "cell_type": "code",
   "outputs": [],
   "execution_count": null,
   "source": "",
   "id": "f36a4b2c8d6027d5"
  }
 ],
 "metadata": {
  "kernelspec": {
   "display_name": "Python 3",
   "language": "python",
   "name": "python3"
  },
  "language_info": {
   "codemirror_mode": {
    "name": "ipython",
    "version": 2
   },
   "file_extension": ".py",
   "mimetype": "text/x-python",
   "name": "python",
   "nbconvert_exporter": "python",
   "pygments_lexer": "ipython2",
   "version": "2.7.6"
  }
 },
 "nbformat": 4,
 "nbformat_minor": 5
}
