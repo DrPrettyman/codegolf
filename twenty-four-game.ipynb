{
 "cells": [
  {
   "cell_type": "markdown",
   "metadata": {
    "vscode": {
     "languageId": "plaintext"
    }
   },
   "source": [
    "Puzzle: https://code.golf/24-game\n",
    "\n",
    "The 24 game is an arithmetical puzzle in which the objective is to find a way to combine four integers using only basic arithmetic operations (+, -, ×, ÷) to get a result of 24. Each integer must be used exactly once.\n",
    "\n",
    "The variation we use is played with a standard 52-card deck, with integers ranging from 1 to 13. Print all solvable quadruples of integers. The integers of each quadruple should be printed in non-decreasing order.\n",
    "\n",
    "Keep in mind that some solutions involve fractions. For example, the only solution to 1 3 4 6 is 6/(1-3/4)."
   ]
  },
  {
   "cell_type": "markdown",
   "metadata": {},
   "source": [
    "I'm solving this by looping through all possible combinations of 4 cards from a deck of 52 cards.\n",
    "- For each combination, create all possible permutations of the cards.\n",
    "- For each permutation, combine the first two cards using all four operations, and check if the result is a valid solution.\n",
    "- If it is, add the permutation to the list of solutions.\n",
    "\n",
    "I'm keeping track of which permutations have already been checked to avoid duplicates.\n",
    "\n",
    "I've also made this a general solution. That is, it works for any goal number and any number of cards."
   ]
  },
  {
   "cell_type": "code",
   "execution_count": 160,
   "metadata": {},
   "outputs": [],
   "source": [
    "from itertools import combinations, permutations\n",
    "from time import perf_counter\n",
    "\n",
    "class Game:\n",
    "\tepsilon = 1e-6\n",
    " \n",
    "\tdef __init__(self, goal: int, cards: list[int], n_cards: int):\n",
    "\t\tself.goal = goal\n",
    "\t\tself.cards = cards\n",
    "\t\tself.n_cards = n_cards\n",
    "  \n",
    "\t\tself.is_goal = set()\n",
    "\t\tself.not_goal = set()\n",
    "\t\tself.solution_time = 0\n",
    "  \n",
    "\t\tself.solutions = self.solve()\n",
    "\n",
    "\tdef __repr__(self):\n",
    "\t\treturn f\"Found {len(self.solutions)} solutions in {self.solution_time:.2f} seconds\"\n",
    "\n",
    "\tdef print_solutions(self):\n",
    "\t\t\"\"\"\n",
    "  \t\tprint the output in the format specified by the puzzle description\n",
    "\t\t\"\"\"\n",
    "\t\tfor s in self.solutions:\n",
    "\t\t\tprint(\" \".join([str(_) for _ in s]))\n",
    "  \n",
    "\t@staticmethod\n",
    "\tdef make_new_cards(cards: tuple[int, ...]):\n",
    "\t\t\"\"\"\n",
    "\t\tGiven a length-k tuple of cards, return a generator of all possible length-k-1 tuples of cards\n",
    "\t\tresulting from applying the four operations to two cards.\n",
    "  \n",
    "\t\tE.g. if cards = (1, 2, 3), then the output will be:\n",
    "\t\t- (1 + 2, 3) = (3, 3)\n",
    "\t\t- (1 - 2, 3) = (-1, 3)\n",
    "\t\t- (1 * 2, 3) = (2, 3)\n",
    "\t\t- (1 / 2, 3) = (0.5, 3)\n",
    "\t\t- (1 + 3, 2) = (4, 2)\n",
    "\t\t- (1 - 3, 2) = (-2, 2)\n",
    "\t\t- (1 * 3, 2) = (3, 2)\n",
    "\t\t- (1 / 3, 2) = (1/3, 2)\n",
    "\t\t- (1, 2 + 3) = (1, 5)\n",
    "\t\t- (1, 2 - 3) = (1, -1)\n",
    "\t\t- (1, 2 * 3) = (1, 6)\n",
    "\t\t- (1, 2 / 3) = (1, 2/3)\n",
    "\t\t\"\"\"\n",
    "\t\tfor perm in set(permutations(cards)):\n",
    "\t\t\tyield (perm[0] + perm[1],) + perm[2:]\n",
    "\t\t\tyield (perm[0] - perm[1],) + perm[2:]\n",
    "\t\t\tyield (perm[0] * perm[1],) + perm[2:]\n",
    "\t\t\tif perm[1] != 0:\n",
    "\t\t\t\tyield (perm[0] / perm[1],) + perm[2:]\n",
    "\n",
    "\tdef check_goal(self, cards: tuple[int, ...]) -> bool:\n",
    "\t\t\"\"\"\n",
    "\t\tGiven a length-k tuple of cards, return True if the cards can be combined to form the goal number.\n",
    "\t\tIf the tuple has only one card, check if it is within epsilon of the goal.\n",
    "\t\tIf the cards cannot be combined to form the goal number, add the tuple to the not_goal set.\n",
    "\t\tOtherwise, add the tuple to the is_goal set and return True.\n",
    "\t\t\"\"\"\n",
    "\t\tif len(cards) == 1:\n",
    "\t\t\treturn abs(cards[0] - self.goal) < self.epsilon\n",
    "\n",
    "\t\tsorted_cards = tuple(sorted(cards))\n",
    "\t\tif sorted_cards in self.not_goal:\n",
    "\t\t\treturn False\n",
    "\t\tif sorted_cards in self.is_goal:\n",
    "\t\t\treturn True\n",
    "\t\t\t\n",
    "\t\tfor new_cards in self.make_new_cards(cards):\n",
    "\t\t\tif self.check_goal(new_cards):\n",
    "\t\t\t\tself.is_goal.add(sorted_cards)\n",
    "\t\t\t\treturn True\n",
    "\t\t\n",
    "\t\tself.not_goal.add(sorted_cards)\n",
    "\t\treturn False\n",
    "\t\t\t\t\t\t\n",
    "\tdef solve(self):\n",
    "\t\tself.is_goal = set()\n",
    "\t\tself.not_goal = set()\n",
    "\n",
    "\t\ttic = perf_counter()\n",
    "  \n",
    "\t\tfor cards in combinations(self.cards, self.n_cards):\n",
    "\t\t\tself.check_goal(cards)\n",
    "   \n",
    "\t\tself.solution_time = perf_counter() - tic\n",
    "\t\treturn sorted(_tuple for _tuple in self.is_goal if len(_tuple) == self.n_cards)"
   ]
  },
  {
   "cell_type": "code",
   "execution_count": 161,
   "metadata": {},
   "outputs": [
    {
     "name": "stdout",
     "output_type": "stream",
     "text": [
      "Found 1362 solutions in 0.22 seconds\n"
     ]
    }
   ],
   "source": [
    "game = Game(\n",
    "\tgoal=24,\n",
    "\tcards=sorted(list(range(1, 14))*4),\n",
    "\tn_cards=4\n",
    ")\n",
    "\n",
    "print(game)\n",
    "\n",
    "# game.print_solutions()"
   ]
  },
  {
   "cell_type": "code",
   "execution_count": 153,
   "metadata": {},
   "outputs": [
    {
     "name": "stdout",
     "output_type": "stream",
     "text": [
      "1362 solutions found in 1.84 seconds\n"
     ]
    }
   ],
   "source": [
    "# A more golfed version of the above code \n",
    "# It takes a little longer to run because it doesn't check for duplicates\n",
    "\n",
    "import itertools as t\n",
    "def f(h):\n",
    "\tif len(h)==1:\n",
    "\t\treturn abs(h[0]-24)<1e-6\n",
    "\tfor p in t.permutations(h):\n",
    "\t\tk=p[2:]\n",
    "\t\tif f((p[0]+p[1],)+k) or f((p[0]-p[1],)+k) or f((p[0]*p[1],)+k) or (p[1]!=0 and f((p[0]/p[1],)+k)):\n",
    "\t\t\treturn 1\n",
    "good_ones = []  # Remove this line\n",
    "tic = perf_counter()  # Remove this line\n",
    "for h in t.combinations_with_replacement(range(1,14),4):\n",
    "\tif f(h):\n",
    "\t\tgood_ones.append(h)  # Remove this line\n",
    "\t\t# print(\" \".join(str(_) for _ in h))  # Uncomment this line to print output\n",
    "soln_time = perf_counter() - tic  # Remove this line\n",
    "print(f\"{len(good_ones)} solutions found in {soln_time:.2f} seconds\")  # Remove this line"
   ]
  },
  {
   "cell_type": "code",
   "execution_count": null,
   "metadata": {},
   "outputs": [],
   "source": []
  }
 ],
 "metadata": {
  "kernelspec": {
   "display_name": "Python 3",
   "language": "python",
   "name": "python3"
  },
  "language_info": {
   "codemirror_mode": {
    "name": "ipython",
    "version": 3
   },
   "file_extension": ".py",
   "mimetype": "text/x-python",
   "name": "python",
   "nbconvert_exporter": "python",
   "pygments_lexer": "ipython3",
   "version": "3.11.1"
  }
 },
 "nbformat": 4,
 "nbformat_minor": 2
}
