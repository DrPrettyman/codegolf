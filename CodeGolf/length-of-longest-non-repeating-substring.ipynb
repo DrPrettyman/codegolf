{
 "cells": [
  {
   "cell_type": "markdown",
   "source": [
    "## Task\n",
    "\n",
    "Your task is to take as input a single string (or list of characters, list of code points, etc.) and return the length of the longest substring with no character appearing more than once.\n",
    "\n",
    "Aside: This challenge is similar to Longest Non-Repeating Substring, but without the source restriction ranking submissions by their own longest non-repeating substring.\n",
    "\n",
    "## Assumptions\n",
    "\n",
    "You may assume that the input contains only lowercase letters and is non-empty (ie. the input will match the regex (a-z)+).\n",
    "This challenge will use the following definition for substring: \"A contiguous sequence of characters contained in the input string\"\n",
    "By \"non-repeating\" I mean that no letter of the substring is repeated more than once\n",
    "\n",
    "## Examples\n",
    "\n",
    "If the input is abcdefgabc then the longest substrings with no repeating characters are abcdefg and bcdefga (their positions in the string are [abcdefg]abc and a[bcdefga]bc). The length of these substrings is 7, so the output would be 7.\n",
    "\n",
    "If the input is abadac then the longest substrings with no repeating characters are bad (a[bad]ac) and dac (aba[dac]) so the output is 3.\n",
    "\n",
    "If the input is aaaaaa then the longest substring with no repeating characters is a so the output is 1.\n",
    "\n",
    "If the input is abecdeababcabaa then the longest substrings with no repeating characters are abecd ([abecd]eababcabaa) and cdeab (abe[cdeab]abcabaa). The output is thus 5."
   ],
   "metadata": {
    "collapsed": false,
    "pycharm": {
     "name": "#%% md\n"
    }
   }
  },
  {
   "cell_type": "code",
   "execution_count": 45,
   "outputs": [],
   "source": [
    "# Test Cases\n",
    "test_cases = {\n",
    "    'abcdefgabc': 7,\n",
    "    'aaaaaa': 1,\n",
    "    'abecdeababcabaa': 5,\n",
    "    'abadac': 3,\n",
    "    'abababab': 2,\n",
    "    'helloworld': 5,\n",
    "    'longest': 7,\n",
    "    'nonrepeating': 7,\n",
    "    'substring': 8,\n",
    "    'herring': 4,\n",
    "    'abracadabra': 4,\n",
    "    'codegolf': 6,\n",
    "    'abczyoxpicdabcde': 10\n",
    "}"
   ],
   "metadata": {
    "collapsed": false,
    "pycharm": {
     "name": "#%%\n"
    }
   }
  },
  {
   "cell_type": "code",
   "execution_count": 42,
   "outputs": [],
   "source": [
    "def f(s: str, depth: int = 0):\n",
    "    print('|' + '\\t'*depth + '-' + s)\n",
    "    if len({*s})==len(s):\n",
    "        # if no repeating characters, return the len\n",
    "        return len(s)\n",
    "    else:\n",
    "        # else, try again with both s[1:] and s[:-1]\n",
    "        return max(f(s[1:], depth=depth+1), f(s[:-1], depth=depth+1))"
   ],
   "metadata": {
    "collapsed": false,
    "pycharm": {
     "name": "#%%\n"
    }
   }
  },
  {
   "cell_type": "code",
   "execution_count": 43,
   "outputs": [
    {
     "name": "stdout",
     "output_type": "stream",
     "text": [
      "|-abcdefb\n",
      "|\t-bcdefb\n",
      "|\t\t-cdefb\n",
      "|\t\t-bcdef\n",
      "|\t-abcdef\n"
     ]
    },
    {
     "data": {
      "text/plain": "6"
     },
     "execution_count": 43,
     "metadata": {},
     "output_type": "execute_result"
    }
   ],
   "source": [
    "f('abcdefb')"
   ],
   "metadata": {
    "collapsed": false,
    "pycharm": {
     "name": "#%%\n"
    }
   }
  },
  {
   "cell_type": "code",
   "execution_count": 47,
   "outputs": [
    {
     "data": {
      "text/plain": "True"
     },
     "execution_count": 47,
     "metadata": {},
     "output_type": "execute_result"
    }
   ],
   "source": [
    "all(f(_k)==_v for _k, _v in test_cases.items())"
   ],
   "metadata": {
    "collapsed": false,
    "pycharm": {
     "name": "#%%\n"
    }
   }
  },
  {
   "cell_type": "code",
   "execution_count": 44,
   "outputs": [],
   "source": [
    "f = lambda s: len({*s})<len(s) and max(f(s[1:]), f(s[:-1])) or len(s)"
   ],
   "metadata": {
    "collapsed": false,
    "pycharm": {
     "name": "#%%\n"
    }
   }
  },
  {
   "cell_type": "code",
   "execution_count": 46,
   "outputs": [
    {
     "data": {
      "text/plain": "True"
     },
     "execution_count": 46,
     "metadata": {},
     "output_type": "execute_result"
    }
   ],
   "source": [
    "all(f(_k)==_v for _k, _v in test_cases.items())"
   ],
   "metadata": {
    "collapsed": false,
    "pycharm": {
     "name": "#%%\n"
    }
   }
  },
  {
   "cell_type": "code",
   "execution_count": null,
   "outputs": [],
   "source": [],
   "metadata": {
    "collapsed": false,
    "pycharm": {
     "name": "#%%\n"
    }
   }
  }
 ],
 "metadata": {
  "kernelspec": {
   "display_name": "Python 3",
   "language": "python",
   "name": "python3"
  },
  "language_info": {
   "codemirror_mode": {
    "name": "ipython",
    "version": 2
   },
   "file_extension": ".py",
   "mimetype": "text/x-python",
   "name": "python",
   "nbconvert_exporter": "python",
   "pygments_lexer": "ipython2",
   "version": "2.7.6"
  }
 },
 "nbformat": 4,
 "nbformat_minor": 0
}