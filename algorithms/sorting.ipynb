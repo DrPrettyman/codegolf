{
 "cells": [
  {
   "metadata": {
    "ExecuteTime": {
     "end_time": "2024-10-31T09:06:54.636021Z",
     "start_time": "2024-10-31T09:06:54.624401Z"
    }
   },
   "cell_type": "code",
   "source": [
    "import random\n",
    "from time import perf_counter"
   ],
   "id": "a7819cb6c1d6d8eb",
   "outputs": [],
   "execution_count": 1
  },
  {
   "metadata": {},
   "cell_type": "markdown",
   "source": [
    "### Bubble Sort \n",
    "\n",
    "is the simplest sorting algorithm that works by repeatedly swapping the adjacent elements if they are in the wrong order. This algorithm is not suitable for large data sets as its average and worst-case time complexity are quite high.\n",
    "\n",
    "We sort the array using multiple passes. After the first pass, the maximum element goes to end (its correct position). Same way, after second pass, the second largest element goes to second last position and so on.\n",
    "In every pass, we process only those elements that have already not moved to correct position. After k passes, the largest k elements must have been moved to the last k positions.\n",
    "In a pass, we consider remaining elements and compare all adjacent and swap if larger element is before a smaller element. If we keep doing this, we get the largest (among the remaining elements) at its correct position."
   ],
   "id": "33e88356a44e51de"
  },
  {
   "metadata": {
    "ExecuteTime": {
     "end_time": "2024-10-31T09:09:28.203965Z",
     "start_time": "2024-10-31T09:09:28.201704Z"
    }
   },
   "cell_type": "code",
   "source": "lst = random.sample(range(1, 1000), 10)",
   "id": "157053aaaf00ad92",
   "outputs": [],
   "execution_count": 5
  },
  {
   "metadata": {
    "ExecuteTime": {
     "end_time": "2024-10-31T09:09:31.047810Z",
     "start_time": "2024-10-31T09:09:31.045219Z"
    }
   },
   "cell_type": "code",
   "source": "lst",
   "id": "51bf69334f2cb247",
   "outputs": [
    {
     "data": {
      "text/plain": [
       "[778, 173, 497, 503, 532, 123, 800, 247, 774, 518]"
      ]
     },
     "execution_count": 6,
     "metadata": {},
     "output_type": "execute_result"
    }
   ],
   "execution_count": 6
  },
  {
   "metadata": {
    "ExecuteTime": {
     "end_time": "2024-10-31T09:13:17.077700Z",
     "start_time": "2024-10-31T09:13:17.075337Z"
    }
   },
   "cell_type": "code",
   "source": [
    "def bubble_sort(lst):\n",
    "    n = len(lst)\n",
    "    \n",
    "    for i in range(n):\n",
    "        for j in range(n-i-1):\n",
    "            if lst[j] > lst[j+1]:\n",
    "                lst[j], lst[j+1] = lst[j+1], lst[j]\n",
    "                \n",
    "    return lst"
   ],
   "id": "e064310505a0ae5e",
   "outputs": [],
   "execution_count": 11
  },
  {
   "metadata": {
    "ExecuteTime": {
     "end_time": "2024-10-31T09:13:17.086883Z",
     "start_time": "2024-10-31T09:13:17.084503Z"
    }
   },
   "cell_type": "code",
   "source": "bubble_sort(lst)",
   "id": "e0cbcb9bbaa7ba38",
   "outputs": [
    {
     "data": {
      "text/plain": [
       "[123, 173, 247, 497, 503, 518, 532, 774, 778, 800]"
      ]
     },
     "execution_count": 12,
     "metadata": {},
     "output_type": "execute_result"
    }
   ],
   "execution_count": 12
  },
  {
   "metadata": {},
   "cell_type": "markdown",
   "source": [
    "### Insertion sort \n",
    "\n",
    "is a simple sorting algorithm that works by iteratively inserting each element of an unsorted list into its correct position in a sorted portion of the list. It is like sorting playing cards in your hands. You split the cards into two groups: the sorted cards and the unsorted cards. Then, you pick a card from the unsorted group and put it in the right place in the sorted group.\n",
    "\n",
    "We start with second element of the array as first element in the array is assumed to be sorted.\n",
    "Compare second element with the first element and check if the second element is smaller then swap them.\n",
    "Move to the third element and compare it with the first two elements and put at its correct position\n",
    "Repeat until the entire array is sorted."
   ],
   "id": "157e03bec832412e"
  },
  {
   "metadata": {
    "ExecuteTime": {
     "end_time": "2024-10-31T09:32:20.108846Z",
     "start_time": "2024-10-31T09:32:20.105185Z"
    }
   },
   "cell_type": "code",
   "source": [
    "def insertion_sort(lst):\n",
    "    new_lst = [lst.pop(0)]\n",
    "\n",
    "    while len(lst) > 0:\n",
    "        item = lst.pop(0)\n",
    "        for i in range(len(new_lst)):\n",
    "            if item < new_lst[i]:\n",
    "                new_lst = new_lst[:i] + [item] + new_lst[i:]\n",
    "                break\n",
    "        else:\n",
    "            new_lst.append(item)\n",
    "            \n",
    "    return new_lst"
   ],
   "id": "9fe0526fd292598f",
   "outputs": [],
   "execution_count": 31
  },
  {
   "metadata": {
    "ExecuteTime": {
     "end_time": "2024-10-31T09:32:10.864881Z",
     "start_time": "2024-10-31T09:32:10.862277Z"
    }
   },
   "cell_type": "code",
   "source": "insertion_sort([1,0,3,2])",
   "id": "436292fad495dd10",
   "outputs": [
    {
     "name": "stdout",
     "output_type": "stream",
     "text": [
      "[1] :: [0, 3, 2]\n",
      "[0, 1] :: [3, 2]\n",
      "[0, 1, 3] :: [2]\n",
      "[0, 1, 2, 3] :: []\n"
     ]
    },
    {
     "data": {
      "text/plain": [
       "[0, 1, 2, 3]"
      ]
     },
     "execution_count": 30,
     "metadata": {},
     "output_type": "execute_result"
    }
   ],
   "execution_count": 30
  },
  {
   "metadata": {
    "ExecuteTime": {
     "end_time": "2024-10-31T09:31:58.505854Z",
     "start_time": "2024-10-31T09:31:58.502653Z"
    }
   },
   "cell_type": "code",
   "source": [
    "item = 1\n",
    "new_lst = [0, 2]"
   ],
   "id": "553413970b75eb8c",
   "outputs": [],
   "execution_count": 25
  },
  {
   "metadata": {
    "ExecuteTime": {
     "end_time": "2024-10-31T09:31:58.698599Z",
     "start_time": "2024-10-31T09:31:58.695317Z"
    }
   },
   "cell_type": "code",
   "source": [
    "for i in range(len(new_lst)):\n",
    "    if item < new_lst[i]:\n",
    "        print(i)\n",
    "        new_lst = new_lst[:i] + [item] + new_lst[i:]\n",
    "        break"
   ],
   "id": "114d41528b3f4a4a",
   "outputs": [
    {
     "name": "stdout",
     "output_type": "stream",
     "text": [
      "1\n"
     ]
    }
   ],
   "execution_count": 26
  },
  {
   "metadata": {
    "ExecuteTime": {
     "end_time": "2024-10-31T09:31:58.883752Z",
     "start_time": "2024-10-31T09:31:58.881665Z"
    }
   },
   "cell_type": "code",
   "source": "print(new_lst)",
   "id": "b2e5778ace635e07",
   "outputs": [
    {
     "name": "stdout",
     "output_type": "stream",
     "text": [
      "[0, 1, 2]\n"
     ]
    }
   ],
   "execution_count": 27
  },
  {
   "metadata": {},
   "cell_type": "code",
   "outputs": [],
   "execution_count": null,
   "source": "i = 1",
   "id": "86207da0ff0b925d"
  },
  {
   "metadata": {
    "ExecuteTime": {
     "end_time": "2024-10-31T09:31:34.460456Z",
     "start_time": "2024-10-31T09:31:34.456818Z"
    }
   },
   "cell_type": "code",
   "source": "new_lst[:i]",
   "id": "a3f97137c7f5a45d",
   "outputs": [
    {
     "data": {
      "text/plain": [
       "[0]"
      ]
     },
     "execution_count": 19,
     "metadata": {},
     "output_type": "execute_result"
    }
   ],
   "execution_count": 19
  },
  {
   "metadata": {
    "ExecuteTime": {
     "end_time": "2024-10-31T09:31:42.089974Z",
     "start_time": "2024-10-31T09:31:42.087374Z"
    }
   },
   "cell_type": "code",
   "source": "new_lst[i:]",
   "id": "49b103993c11201e",
   "outputs": [
    {
     "data": {
      "text/plain": [
       "[2]"
      ]
     },
     "execution_count": 21,
     "metadata": {},
     "output_type": "execute_result"
    }
   ],
   "execution_count": 21
  },
  {
   "metadata": {},
   "cell_type": "code",
   "outputs": [],
   "execution_count": null,
   "source": "",
   "id": "413f6a3aa242782b"
  }
 ],
 "metadata": {
  "kernelspec": {
   "display_name": "Python 3",
   "language": "python",
   "name": "python3"
  },
  "language_info": {
   "codemirror_mode": {
    "name": "ipython",
    "version": 2
   },
   "file_extension": ".py",
   "mimetype": "text/x-python",
   "name": "python",
   "nbconvert_exporter": "python",
   "pygments_lexer": "ipython2",
   "version": "2.7.6"
  }
 },
 "nbformat": 4,
 "nbformat_minor": 5
}
