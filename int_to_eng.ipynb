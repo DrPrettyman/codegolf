{
 "cells": [
  {
   "metadata": {
    "ExecuteTime": {
     "end_time": "2024-11-18T08:57:57.746138Z",
     "start_time": "2024-11-18T08:57:57.743540Z"
    }
   },
   "cell_type": "code",
   "source": [
    "from zmq.backend import first\n",
    "\n",
    "56%10"
   ],
   "id": "a57aa62740dd45c8",
   "outputs": [
    {
     "data": {
      "text/plain": [
       "6"
      ]
     },
     "execution_count": 7,
     "metadata": {},
     "output_type": "execute_result"
    }
   ],
   "execution_count": 7
  },
  {
   "cell_type": "code",
   "id": "initial_id",
   "metadata": {
    "collapsed": true,
    "ExecuteTime": {
     "end_time": "2024-11-18T09:05:38.928301Z",
     "start_time": "2024-11-18T09:05:38.923637Z"
    }
   },
   "source": [
    "units = (\"\", \"one\", \"two\", \"three\", \"four\", \"five\", \"six\", \"seven\", \"eight\", \"nine\")\n",
    "tens = (\"\", \"ten\", \"twenty\", \"thirty\", \"forty\", \"fifty\", \"sixty\", \"seventy\", \"eighty\", \"ninety\")\n",
    "teens = (\"ten\", \"eleven\", \"twelve\", \"thirteen\", \"fourteen\", \"fifteen\", \"sixteen\", \"seventeen\", \"eighteen\", \"nineteen\")\n",
    "\n",
    "def split_little_int(num):\n",
    "    h = num // 100\n",
    "    num %= 100\n",
    "    t = num // 10\n",
    "    num %= 10\n",
    "    return h, t, num\n",
    "\n",
    "def little_int_to_eng(num):\n",
    "    \"\"\"spells out a number between 1 and 999\"\"\"\n",
    "    if num == 0:\n",
    "        return \"\"\n",
    "    \n",
    "    h, t, u = split_little_int(num)\n",
    "    \n",
    "    parts = []\n",
    "    if h:\n",
    "        parts.append(units[h]+\" hundred\")\n",
    "        if t or u:\n",
    "            parts.append(\"and\")\n",
    "        \n",
    "    if t == 1:\n",
    "        parts.append(teens[u])\n",
    "        return \" \".join(parts)\n",
    "    \n",
    "    if t:\n",
    "        parts.append(tens[t])\n",
    "        \n",
    "    if u:\n",
    "        parts.append(units[u])\n",
    "        \n",
    "    return \" \".join(parts)"
   ],
   "outputs": [],
   "execution_count": 19
  },
  {
   "metadata": {
    "ExecuteTime": {
     "end_time": "2024-11-18T09:42:27.406645Z",
     "start_time": "2024-11-18T09:42:27.403955Z"
    }
   },
   "cell_type": "code",
   "source": "little_int_to_eng(0)",
   "id": "29b4b04c562532d6",
   "outputs": [
    {
     "data": {
      "text/plain": [
       "''"
      ]
     },
     "execution_count": 28,
     "metadata": {},
     "output_type": "execute_result"
    }
   ],
   "execution_count": 28
  },
  {
   "metadata": {
    "ExecuteTime": {
     "end_time": "2024-11-18T09:52:20.960042Z",
     "start_time": "2024-11-18T09:52:20.957813Z"
    }
   },
   "cell_type": "code",
   "source": [
    "num = 12345678910111213\n",
    "numstr = str(num)\n",
    "numstr = \"0\" * (3 - len(numstr) % 3) + numstr\n",
    "parts = [int(numstr[i:i+3]) for i in range(0, len(numstr), 3)]"
   ],
   "id": "a5a8c487b18ef8ce",
   "outputs": [],
   "execution_count": 56
  },
  {
   "metadata": {
    "ExecuteTime": {
     "end_time": "2024-11-18T09:52:22.913471Z",
     "start_time": "2024-11-18T09:52:22.910347Z"
    }
   },
   "cell_type": "code",
   "source": "parts",
   "id": "aff3e3376a63c7ad",
   "outputs": [
    {
     "data": {
      "text/plain": [
       "[12, 345, 678, 910, 111, 213]"
      ]
     },
     "execution_count": 57,
     "metadata": {},
     "output_type": "execute_result"
    }
   ],
   "execution_count": 57
  },
  {
   "metadata": {
    "ExecuteTime": {
     "end_time": "2024-11-18T09:52:46.914281Z",
     "start_time": "2024-11-18T09:52:46.911789Z"
    }
   },
   "cell_type": "code",
   "source": "list(range(len(parts)))[::-1]",
   "id": "67c067b3fa993c1e",
   "outputs": [
    {
     "data": {
      "text/plain": [
       "[5, 4, 3, 2, 1, 0]"
      ]
     },
     "execution_count": 60,
     "metadata": {},
     "output_type": "execute_result"
    }
   ],
   "execution_count": 60
  },
  {
   "metadata": {},
   "cell_type": "code",
   "outputs": [],
   "execution_count": null,
   "source": "",
   "id": "d5a4d80a1cad764f"
  },
  {
   "metadata": {
    "ExecuteTime": {
     "end_time": "2024-11-18T15:00:25.782702Z",
     "start_time": "2024-11-18T15:00:25.779732Z"
    }
   },
   "cell_type": "code",
   "source": "str(112).count('1')",
   "id": "d43726f8e0572b5c",
   "outputs": [
    {
     "data": {
      "text/plain": [
       "2"
      ]
     },
     "execution_count": 443,
     "metadata": {},
     "output_type": "execute_result"
    }
   ],
   "execution_count": 443
  },
  {
   "metadata": {},
   "cell_type": "code",
   "outputs": [],
   "execution_count": null,
   "source": "",
   "id": "c97c4ef0d0ff3882"
  },
  {
   "metadata": {
    "ExecuteTime": {
     "end_time": "2024-11-18T14:59:41.663388Z",
     "start_time": "2024-11-18T14:59:41.659766Z"
    }
   },
   "cell_type": "code",
   "source": [
    "def count_ones_naive(n: int) -> int:\n",
    "    c = 0\n",
    "    for i in range(n+1):\n",
    "        c += str(i).count(\"1\")\n",
    "    return c"
   ],
   "id": "1dc9d3201f0725a1",
   "outputs": [],
   "execution_count": 439
  },
  {
   "metadata": {
    "ExecuteTime": {
     "end_time": "2024-11-18T15:00:41.420456Z",
     "start_time": "2024-11-18T15:00:41.417572Z"
    }
   },
   "cell_type": "code",
   "source": "count_ones_naive(100)",
   "id": "ab8beb70bd2f42df",
   "outputs": [
    {
     "data": {
      "text/plain": [
       "21"
      ]
     },
     "execution_count": 444,
     "metadata": {},
     "output_type": "execute_result"
    }
   ],
   "execution_count": 444
  },
  {
   "metadata": {
    "ExecuteTime": {
     "end_time": "2024-11-18T20:58:54.715478Z",
     "start_time": "2024-11-18T20:58:54.711089Z"
    }
   },
   "cell_type": "code",
   "source": [
    "def ones_in_nines(k):\n",
    "    \"\"\"\n",
    "    assume k is of the form a*10**b-1\n",
    "    counts the number of digit 1 in all the numbers upto k\n",
    "    \"\"\"\n",
    "    p = len(str(k+1)) - 1 \n",
    "    first_digit = int(str(k)[0])\n",
    "    \n",
    "    c = p*10**(p-1)\n",
    "    \n",
    "    if first_digit == 9:\n",
    "        return c\n",
    "    \n",
    "    d = (10+p)*10**(p-1)\n",
    "\n",
    "    return d + first_digit*c\n",
    "\n",
    "def nines_part(n):\n",
    "    \"\"\"\n",
    "    e.g. nines_part(7012) >>> 6999\n",
    "    \"\"\"\n",
    "    p = 10**(len(str(n))-1)\n",
    "    if (n+1)%p == 0:\n",
    "        return n\n",
    "    return (n//p)*p-1"
   ],
   "id": "21901858303556b3",
   "outputs": [],
   "execution_count": 803
  },
  {
   "metadata": {
    "ExecuteTime": {
     "end_time": "2024-11-18T20:58:55.550235Z",
     "start_time": "2024-11-18T20:58:55.547838Z"
    }
   },
   "cell_type": "code",
   "source": "ones_in_nines(6999)",
   "id": "3d0332f21f65fb19",
   "outputs": [
    {
     "data": {
      "text/plain": [
       "3100"
      ]
     },
     "execution_count": 804,
     "metadata": {},
     "output_type": "execute_result"
    }
   ],
   "execution_count": 804
  },
  {
   "metadata": {
    "ExecuteTime": {
     "end_time": "2024-11-18T20:39:15.490955Z",
     "start_time": "2024-11-18T20:39:15.488673Z"
    }
   },
   "cell_type": "code",
   "source": "",
   "id": "fd293244c69085fe",
   "outputs": [],
   "execution_count": null
  },
  {
   "metadata": {
    "ExecuteTime": {
     "end_time": "2024-11-18T21:09:16.684890Z",
     "start_time": "2024-11-18T21:09:16.681607Z"
    }
   },
   "cell_type": "code",
   "source": [
    "def f(n):\n",
    "    if n//10 == 0:\n",
    "        return 0 if n==0 else 1\n",
    "    \n",
    "    _nines_part = nines_part(n)\n",
    "    remainder = n - _nines_part\n",
    "    count = ones_in_nines(_nines_part)\n",
    "    if int(str(n)[0]) == 1:\n",
    "        count += remainder\n",
    "        \n",
    "    if remainder == 0:\n",
    "        return count\n",
    "        \n",
    "    return count + f(remainder-1)"
   ],
   "id": "9062977fcd57a038",
   "outputs": [],
   "execution_count": 851
  },
  {
   "metadata": {
    "ExecuteTime": {
     "end_time": "2024-11-18T21:20:06.289291Z",
     "start_time": "2024-11-18T21:09:16.929586Z"
    }
   },
   "cell_type": "code",
   "source": [
    "for n in range(1, 100_000):\n",
    "    assert f(n) == count_ones_naive(n)"
   ],
   "id": "b876489ef90e4d94",
   "outputs": [],
   "execution_count": 852
  },
  {
   "metadata": {
    "ExecuteTime": {
     "end_time": "2024-11-18T21:07:26.122962Z",
     "start_time": "2024-11-18T21:07:26.120459Z"
    }
   },
   "cell_type": "code",
   "source": [
    "n = 1570\n",
    "count_ones_naive(n)"
   ],
   "id": "3b61b45f627c117e",
   "outputs": [
    {
     "data": {
      "text/plain": [
       "1088"
      ]
     },
     "execution_count": 843,
     "metadata": {},
     "output_type": "execute_result"
    }
   ],
   "execution_count": 843
  },
  {
   "metadata": {
    "ExecuteTime": {
     "end_time": "2024-11-18T21:07:26.788089Z",
     "start_time": "2024-11-18T21:07:26.785761Z"
    }
   },
   "cell_type": "code",
   "source": "f(n)",
   "id": "6a46f1cfb8788c5",
   "outputs": [
    {
     "name": "stdout",
     "output_type": "stream",
     "text": [
      "1570\n",
      ".... 999 (300)\n",
      "....     + 571\n",
      "570\n",
      ".... 499 (200)\n",
      "70\n",
      ".... 69 (17)\n",
      "0\n"
     ]
    },
    {
     "data": {
      "text/plain": [
       "1088"
      ]
     },
     "execution_count": 844,
     "metadata": {},
     "output_type": "execute_result"
    }
   ],
   "execution_count": 844
  },
  {
   "metadata": {
    "ExecuteTime": {
     "end_time": "2024-11-18T21:02:44.419874Z",
     "start_time": "2024-11-18T21:02:44.416814Z"
    }
   },
   "cell_type": "code",
   "source": "count_ones_naive(999) + 571 + count_ones_naive(571)",
   "id": "fac56ab296787948",
   "outputs": [
    {
     "data": {
      "text/plain": [
       "1089"
      ]
     },
     "execution_count": 835,
     "metadata": {},
     "output_type": "execute_result"
    }
   ],
   "execution_count": 835
  },
  {
   "metadata": {
    "ExecuteTime": {
     "end_time": "2024-11-18T21:04:49.392655Z",
     "start_time": "2024-11-18T21:04:49.390407Z"
    }
   },
   "cell_type": "code",
   "source": "1088 - (300 + 218)",
   "id": "85302a71e8ad9d96",
   "outputs": [
    {
     "data": {
      "text/plain": [
       "570"
      ]
     },
     "execution_count": 841,
     "metadata": {},
     "output_type": "execute_result"
    }
   ],
   "execution_count": 841
  },
  {
   "metadata": {
    "ExecuteTime": {
     "end_time": "2024-11-18T21:04:36.256429Z",
     "start_time": "2024-11-18T21:04:36.253828Z"
    }
   },
   "cell_type": "code",
   "source": "count_ones_naive(999)",
   "id": "8c405ebf6ec892ff",
   "outputs": [
    {
     "data": {
      "text/plain": [
       "300"
      ]
     },
     "execution_count": 840,
     "metadata": {},
     "output_type": "execute_result"
    }
   ],
   "execution_count": 840
  },
  {
   "metadata": {
    "ExecuteTime": {
     "end_time": "2024-11-18T20:58:10.160830Z",
     "start_time": "2024-11-18T20:58:10.158358Z"
    }
   },
   "cell_type": "code",
   "source": "count_ones_naive(100)",
   "id": "b8113042de679063",
   "outputs": [
    {
     "data": {
      "text/plain": [
       "21"
      ]
     },
     "execution_count": 802,
     "metadata": {},
     "output_type": "execute_result"
    }
   ],
   "execution_count": 802
  },
  {
   "metadata": {
    "ExecuteTime": {
     "end_time": "2024-11-18T16:02:33.806094Z",
     "start_time": "2024-11-18T16:02:33.803783Z"
    }
   },
   "cell_type": "code",
   "source": "f(100)",
   "id": "25673994d4b39fcd",
   "outputs": [
    {
     "name": "stdout",
     "output_type": "stream",
     "text": [
      "100\n",
      ".... 99\n",
      "1\n"
     ]
    },
    {
     "data": {
      "text/plain": [
       "21"
      ]
     },
     "execution_count": 619,
     "metadata": {},
     "output_type": "execute_result"
    }
   ],
   "execution_count": 619
  },
  {
   "metadata": {
    "ExecuteTime": {
     "end_time": "2024-11-18T16:02:39.424352Z",
     "start_time": "2024-11-18T16:02:39.421867Z"
    }
   },
   "cell_type": "code",
   "source": "f(10)",
   "id": "958cde4d69855228",
   "outputs": [
    {
     "name": "stdout",
     "output_type": "stream",
     "text": [
      "10\n",
      ".... 9\n",
      "1\n"
     ]
    },
    {
     "data": {
      "text/plain": [
       "2"
      ]
     },
     "execution_count": 621,
     "metadata": {},
     "output_type": "execute_result"
    }
   ],
   "execution_count": 621
  },
  {
   "metadata": {
    "ExecuteTime": {
     "end_time": "2024-11-18T16:01:57.055300Z",
     "start_time": "2024-11-18T16:01:57.052982Z"
    }
   },
   "cell_type": "code",
   "source": "ones_in_nines(99)",
   "id": "7d1428f2bfaf7ce0",
   "outputs": [
    {
     "data": {
      "text/plain": [
       "20"
      ]
     },
     "execution_count": 613,
     "metadata": {},
     "output_type": "execute_result"
    }
   ],
   "execution_count": 613
  },
  {
   "metadata": {
    "ExecuteTime": {
     "end_time": "2024-11-18T16:01:15.697820Z",
     "start_time": "2024-11-18T16:01:15.694657Z"
    }
   },
   "cell_type": "code",
   "source": "f(2)",
   "id": "30e3de4091e85cf7",
   "outputs": [
    {
     "name": "stdout",
     "output_type": "stream",
     "text": [
      "2\n"
     ]
    },
    {
     "data": {
      "text/plain": [
       "1"
      ]
     },
     "execution_count": 606,
     "metadata": {},
     "output_type": "execute_result"
    }
   ],
   "execution_count": 606
  },
  {
   "metadata": {},
   "cell_type": "code",
   "outputs": [],
   "execution_count": null,
   "source": "",
   "id": "c4f7b8a32659e838"
  },
  {
   "metadata": {},
   "cell_type": "code",
   "outputs": [],
   "execution_count": null,
   "source": "",
   "id": "4f45441a7d263b01"
  },
  {
   "metadata": {},
   "cell_type": "code",
   "outputs": [],
   "execution_count": null,
   "source": "",
   "id": "cf6d627e6627a58b"
  },
  {
   "metadata": {},
   "cell_type": "code",
   "outputs": [],
   "execution_count": null,
   "source": "",
   "id": "5bed9e537443f4d8"
  },
  {
   "metadata": {},
   "cell_type": "code",
   "outputs": [],
   "execution_count": null,
   "source": "",
   "id": "f59c39509662a51c"
  },
  {
   "metadata": {},
   "cell_type": "code",
   "outputs": [],
   "execution_count": null,
   "source": "",
   "id": "13d8183d2f44ba4f"
  },
  {
   "metadata": {},
   "cell_type": "code",
   "outputs": [],
   "execution_count": null,
   "source": "",
   "id": "ec6b0c9395f014cd"
  },
  {
   "metadata": {},
   "cell_type": "code",
   "outputs": [],
   "execution_count": null,
   "source": "",
   "id": "9efc3f6a662a5748"
  },
  {
   "metadata": {
    "ExecuteTime": {
     "end_time": "2024-11-18T17:35:14.275461Z",
     "start_time": "2024-11-18T17:35:14.272372Z"
    }
   },
   "cell_type": "code",
   "source": [
    "def f(n):\n",
    "    return abs(int(str(n)[::-1]) - n)"
   ],
   "id": "a9a242018a0c054f",
   "outputs": [],
   "execution_count": 734
  },
  {
   "metadata": {
    "ExecuteTime": {
     "end_time": "2024-11-18T17:35:14.577932Z",
     "start_time": "2024-11-18T17:35:14.574547Z"
    }
   },
   "cell_type": "code",
   "source": [
    "def g(n):\n",
    "    results = [n]\n",
    "    while results[-1] != 0 and len(results) < 1000:\n",
    "        new = f(results[-1])\n",
    "        \n",
    "        if new in results:\n",
    "            return results\n",
    "        \n",
    "        results.append(new)\n",
    "        \n",
    "    return results\n",
    "        "
   ],
   "id": "ac68a173653f6440",
   "outputs": [],
   "execution_count": 735
  },
  {
   "metadata": {
    "ExecuteTime": {
     "end_time": "2024-11-18T17:35:49.906513Z",
     "start_time": "2024-11-18T17:35:44.410224Z"
    }
   },
   "cell_type": "code",
   "source": [
    "records = []\n",
    "for i in range(1_000_000):\n",
    "    l = g(i)\n",
    "    records.append(\n",
    "        {\n",
    "            \"n\": i,\n",
    "            \"length\": len(l),\n",
    "            \"final\": l[-1],\n",
    "            \"zero\": l[-1]==0,\n",
    "            \"results\": l\n",
    "        }\n",
    "    )"
   ],
   "id": "9197b4d568b37e47",
   "outputs": [],
   "execution_count": 736
  },
  {
   "metadata": {
    "ExecuteTime": {
     "end_time": "2024-11-18T17:35:55.923449Z",
     "start_time": "2024-11-18T17:35:55.920599Z"
    }
   },
   "cell_type": "code",
   "source": "import pandas as pd",
   "id": "1dbc066f650cf57a",
   "outputs": [],
   "execution_count": 737
  },
  {
   "metadata": {
    "ExecuteTime": {
     "end_time": "2024-11-18T17:35:58.054317Z",
     "start_time": "2024-11-18T17:35:57.289550Z"
    }
   },
   "cell_type": "code",
   "source": "df = pd.DataFrame(records)",
   "id": "31598403219a46dd",
   "outputs": [],
   "execution_count": 738
  },
  {
   "metadata": {
    "ExecuteTime": {
     "end_time": "2024-11-18T17:36:02.457616Z",
     "start_time": "2024-11-18T17:36:02.452411Z"
    }
   },
   "cell_type": "code",
   "source": "df",
   "id": "925faa595c830c7d",
   "outputs": [
    {
     "data": {
      "text/plain": [
       "             n  length  final  zero  \\\n",
       "0            0       1      0  True   \n",
       "1            1       2      0  True   \n",
       "2            2       2      0  True   \n",
       "3            3       2      0  True   \n",
       "4            4       2      0  True   \n",
       "...        ...     ...    ...   ...   \n",
       "999995  999995       6      0  True   \n",
       "999996  999996       5      0  True   \n",
       "999997  999997       7      0  True   \n",
       "999998  999998       3      0  True   \n",
       "999999  999999       2      0  True   \n",
       "\n",
       "                                                  results  \n",
       "0                                                     [0]  \n",
       "1                                                  [1, 0]  \n",
       "2                                                  [2, 0]  \n",
       "3                                                  [3, 0]  \n",
       "4                                                  [4, 0]  \n",
       "...                                                   ...  \n",
       "999995         [999995, 399996, 299997, 499995, 99999, 0]  \n",
       "999996                 [999996, 299997, 499995, 99999, 0]  \n",
       "999997  [999997, 199998, 699993, 299997, 499995, 99999...  \n",
       "999998                                 [999998, 99999, 0]  \n",
       "999999                                        [999999, 0]  \n",
       "\n",
       "[1000000 rows x 5 columns]"
      ],
      "text/html": [
       "<div>\n",
       "<style scoped>\n",
       "    .dataframe tbody tr th:only-of-type {\n",
       "        vertical-align: middle;\n",
       "    }\n",
       "\n",
       "    .dataframe tbody tr th {\n",
       "        vertical-align: top;\n",
       "    }\n",
       "\n",
       "    .dataframe thead th {\n",
       "        text-align: right;\n",
       "    }\n",
       "</style>\n",
       "<table border=\"1\" class=\"dataframe\">\n",
       "  <thead>\n",
       "    <tr style=\"text-align: right;\">\n",
       "      <th></th>\n",
       "      <th>n</th>\n",
       "      <th>length</th>\n",
       "      <th>final</th>\n",
       "      <th>zero</th>\n",
       "      <th>results</th>\n",
       "    </tr>\n",
       "  </thead>\n",
       "  <tbody>\n",
       "    <tr>\n",
       "      <th>0</th>\n",
       "      <td>0</td>\n",
       "      <td>1</td>\n",
       "      <td>0</td>\n",
       "      <td>True</td>\n",
       "      <td>[0]</td>\n",
       "    </tr>\n",
       "    <tr>\n",
       "      <th>1</th>\n",
       "      <td>1</td>\n",
       "      <td>2</td>\n",
       "      <td>0</td>\n",
       "      <td>True</td>\n",
       "      <td>[1, 0]</td>\n",
       "    </tr>\n",
       "    <tr>\n",
       "      <th>2</th>\n",
       "      <td>2</td>\n",
       "      <td>2</td>\n",
       "      <td>0</td>\n",
       "      <td>True</td>\n",
       "      <td>[2, 0]</td>\n",
       "    </tr>\n",
       "    <tr>\n",
       "      <th>3</th>\n",
       "      <td>3</td>\n",
       "      <td>2</td>\n",
       "      <td>0</td>\n",
       "      <td>True</td>\n",
       "      <td>[3, 0]</td>\n",
       "    </tr>\n",
       "    <tr>\n",
       "      <th>4</th>\n",
       "      <td>4</td>\n",
       "      <td>2</td>\n",
       "      <td>0</td>\n",
       "      <td>True</td>\n",
       "      <td>[4, 0]</td>\n",
       "    </tr>\n",
       "    <tr>\n",
       "      <th>...</th>\n",
       "      <td>...</td>\n",
       "      <td>...</td>\n",
       "      <td>...</td>\n",
       "      <td>...</td>\n",
       "      <td>...</td>\n",
       "    </tr>\n",
       "    <tr>\n",
       "      <th>999995</th>\n",
       "      <td>999995</td>\n",
       "      <td>6</td>\n",
       "      <td>0</td>\n",
       "      <td>True</td>\n",
       "      <td>[999995, 399996, 299997, 499995, 99999, 0]</td>\n",
       "    </tr>\n",
       "    <tr>\n",
       "      <th>999996</th>\n",
       "      <td>999996</td>\n",
       "      <td>5</td>\n",
       "      <td>0</td>\n",
       "      <td>True</td>\n",
       "      <td>[999996, 299997, 499995, 99999, 0]</td>\n",
       "    </tr>\n",
       "    <tr>\n",
       "      <th>999997</th>\n",
       "      <td>999997</td>\n",
       "      <td>7</td>\n",
       "      <td>0</td>\n",
       "      <td>True</td>\n",
       "      <td>[999997, 199998, 699993, 299997, 499995, 99999...</td>\n",
       "    </tr>\n",
       "    <tr>\n",
       "      <th>999998</th>\n",
       "      <td>999998</td>\n",
       "      <td>3</td>\n",
       "      <td>0</td>\n",
       "      <td>True</td>\n",
       "      <td>[999998, 99999, 0]</td>\n",
       "    </tr>\n",
       "    <tr>\n",
       "      <th>999999</th>\n",
       "      <td>999999</td>\n",
       "      <td>2</td>\n",
       "      <td>0</td>\n",
       "      <td>True</td>\n",
       "      <td>[999999, 0]</td>\n",
       "    </tr>\n",
       "  </tbody>\n",
       "</table>\n",
       "<p>1000000 rows × 5 columns</p>\n",
       "</div>"
      ]
     },
     "execution_count": 739,
     "metadata": {},
     "output_type": "execute_result"
    }
   ],
   "execution_count": 739
  },
  {
   "metadata": {
    "ExecuteTime": {
     "end_time": "2024-11-18T17:38:27.369485Z",
     "start_time": "2024-11-18T17:38:27.362563Z"
    }
   },
   "cell_type": "code",
   "source": "df['length'].value_counts()",
   "id": "a8070513c76250c4",
   "outputs": [
    {
     "data": {
      "text/plain": [
       "length\n",
       "9     86682\n",
       "7     78270\n",
       "8     77358\n",
       "10    72352\n",
       "11    71180\n",
       "6     70392\n",
       "12    66627\n",
       "13    64825\n",
       "14    53155\n",
       "15    48754\n",
       "5     48627\n",
       "16    39624\n",
       "17    32439\n",
       "4     28202\n",
       "18    26478\n",
       "19    22790\n",
       "20    18269\n",
       "3     13924\n",
       "21    13238\n",
       "22    10899\n",
       "23     8657\n",
       "24     7770\n",
       "25     4614\n",
       "27     4234\n",
       "26     3776\n",
       "29     2781\n",
       "35     2295\n",
       "33     2121\n",
       "2      2004\n",
       "31     1857\n",
       "32     1843\n",
       "30     1587\n",
       "34     1568\n",
       "36     1549\n",
       "28     1394\n",
       "38     1266\n",
       "39     1141\n",
       "37     1051\n",
       "44      654\n",
       "42      540\n",
       "45      525\n",
       "46      413\n",
       "40      400\n",
       "43      368\n",
       "49      348\n",
       "48      336\n",
       "47      294\n",
       "41      279\n",
       "50      249\n",
       "1         1\n",
       "Name: count, dtype: int64"
      ]
     },
     "execution_count": 740,
     "metadata": {},
     "output_type": "execute_result"
    }
   ],
   "execution_count": 740
  },
  {
   "metadata": {},
   "cell_type": "code",
   "outputs": [],
   "execution_count": null,
   "source": "",
   "id": "e73cb7c4a7b9ebdb"
  },
  {
   "metadata": {},
   "cell_type": "code",
   "outputs": [],
   "execution_count": null,
   "source": "",
   "id": "2d3e1df1e887ab2c"
  },
  {
   "metadata": {
    "ExecuteTime": {
     "end_time": "2024-11-18T16:27:57.556865Z",
     "start_time": "2024-11-18T16:27:57.551714Z"
    }
   },
   "cell_type": "code",
   "source": "df['final'].unique()",
   "id": "7013cb001299070a",
   "outputs": [
    {
     "data": {
      "text/plain": [
       "array([     0,   2178,   6534,  21978,  65934, 219978, 659934])"
      ]
     },
     "execution_count": 729,
     "metadata": {},
     "output_type": "execute_result"
    }
   ],
   "execution_count": 729
  },
  {
   "metadata": {
    "ExecuteTime": {
     "end_time": "2024-11-18T16:27:03.231465Z",
     "start_time": "2024-11-18T16:27:03.229143Z"
    }
   },
   "cell_type": "code",
   "source": "f(21178)",
   "id": "aa845dc1d1844997",
   "outputs": [
    {
     "data": {
      "text/plain": [
       "65934"
      ]
     },
     "execution_count": 724,
     "metadata": {},
     "output_type": "execute_result"
    }
   ],
   "execution_count": 724
  },
  {
   "metadata": {
    "ExecuteTime": {
     "end_time": "2024-11-18T16:27:08.535372Z",
     "start_time": "2024-11-18T16:27:08.533339Z"
    }
   },
   "cell_type": "code",
   "source": "f(65134)",
   "id": "83e0211651c7f405",
   "outputs": [
    {
     "data": {
      "text/plain": [
       "21978"
      ]
     },
     "execution_count": 725,
     "metadata": {},
     "output_type": "execute_result"
    }
   ],
   "execution_count": 725
  },
  {
   "metadata": {
    "ExecuteTime": {
     "end_time": "2024-11-18T16:20:42.100185Z",
     "start_time": "2024-11-18T16:20:42.097679Z"
    }
   },
   "cell_type": "code",
   "source": "2178/2",
   "id": "24e8cc806ff5abc1",
   "outputs": [
    {
     "data": {
      "text/plain": [
       "1089.0"
      ]
     },
     "execution_count": 704,
     "metadata": {},
     "output_type": "execute_result"
    }
   ],
   "execution_count": 704
  },
  {
   "metadata": {
    "ExecuteTime": {
     "end_time": "2024-11-18T17:35:09.267599Z",
     "start_time": "2024-11-18T17:35:09.264878Z"
    }
   },
   "cell_type": "code",
   "source": "6534/2178",
   "id": "a4ec253ee2ed0eaf",
   "outputs": [
    {
     "data": {
      "text/plain": [
       "3.0"
      ]
     },
     "execution_count": 733,
     "metadata": {},
     "output_type": "execute_result"
    }
   ],
   "execution_count": 733
  },
  {
   "metadata": {
    "ExecuteTime": {
     "end_time": "2024-11-18T16:22:51.469587Z",
     "start_time": "2024-11-18T16:22:51.467176Z"
    }
   },
   "cell_type": "code",
   "source": "abs(2178 - 8712)",
   "id": "2b53260e2fd8e789",
   "outputs": [
    {
     "data": {
      "text/plain": [
       "6534"
      ]
     },
     "execution_count": 711,
     "metadata": {},
     "output_type": "execute_result"
    }
   ],
   "execution_count": 711
  },
  {
   "metadata": {
    "ExecuteTime": {
     "end_time": "2024-11-18T16:23:06.241022Z",
     "start_time": "2024-11-18T16:23:06.238842Z"
    }
   },
   "cell_type": "code",
   "source": "abs(6534 - 4356)",
   "id": "518236fd8a95126",
   "outputs": [
    {
     "data": {
      "text/plain": [
       "2178"
      ]
     },
     "execution_count": 712,
     "metadata": {},
     "output_type": "execute_result"
    }
   ],
   "execution_count": 712
  },
  {
   "metadata": {
    "ExecuteTime": {
     "end_time": "2024-11-18T16:23:23.284605Z",
     "start_time": "2024-11-18T16:23:23.281352Z"
    }
   },
   "cell_type": "code",
   "source": "8712/2178",
   "id": "a132897b8c2a7b50",
   "outputs": [
    {
     "data": {
      "text/plain": [
       "4.0"
      ]
     },
     "execution_count": 713,
     "metadata": {},
     "output_type": "execute_result"
    }
   ],
   "execution_count": 713
  },
  {
   "metadata": {
    "ExecuteTime": {
     "end_time": "2024-11-18T21:36:20.464614Z",
     "start_time": "2024-11-18T21:36:20.461830Z"
    }
   },
   "cell_type": "code",
   "source": "",
   "id": "7850a1dc704e7f1a",
   "outputs": [],
   "execution_count": 855
  },
  {
   "metadata": {
    "ExecuteTime": {
     "end_time": "2024-11-18T21:38:04.932535Z",
     "start_time": "2024-11-18T21:38:04.930383Z"
    }
   },
   "cell_type": "code",
   "source": "",
   "id": "33fa01f61977342d",
   "outputs": [],
   "execution_count": 857
  },
  {
   "metadata": {
    "ExecuteTime": {
     "end_time": "2024-11-19T08:40:16.477566Z",
     "start_time": "2024-11-19T08:40:16.471642Z"
    }
   },
   "cell_type": "code",
   "source": [
    "def two(a, b):\n",
    "    yield a + b\n",
    "    yield a - b\n",
    "    yield b - a\n",
    "    yield a * b\n",
    "    if a != 0:\n",
    "        yield b / a\n",
    "    if b != 0:\n",
    "        yield a / b\n",
    "\n",
    "def three(a, b, c):\n",
    "    for j in two(a, b):\n",
    "        for k in two(j, c):\n",
    "            yield k\n",
    "    for j in two(a, c):\n",
    "        for k in two(j, b):\n",
    "            yield k\n",
    "    for j in two(b, c):\n",
    "        for k in two(j, a):\n",
    "            yield k\n",
    "\n",
    "def four(a, b, c, d):\n",
    "    \n",
    "    for j in three(a, b, c):\n",
    "        for k in two(j, d):\n",
    "            yield k\n",
    "            \n",
    "    for j in three(a, b, d):\n",
    "        for k in two(j, c):\n",
    "            yield k\n",
    "            \n",
    "    for j in three(a, c, d):\n",
    "        for k in two(j, b):\n",
    "            yield k\n",
    "            \n",
    "    for j in three(b, c, d):\n",
    "        for k in two(j, a):\n",
    "            yield k     \n",
    "            \n",
    "    for j in two(a, b):\n",
    "        for k in two(c, d):\n",
    "            yield from two(j, k)\n",
    "            \n",
    "    for j in two(a, c):\n",
    "        for k in two(b, d):\n",
    "            yield from two(j, k)\n",
    "            \n",
    "    for j in two(a, d):\n",
    "        for k in two(b, c):\n",
    "            yield from two(j, k)\n",
    "            \n",
    "def four24(a, b, c, d):\n",
    "    for m in four(a, b, c, d):\n",
    "        if abs(m - 24) < 0.1:\n",
    "            return True\n",
    "    else:\n",
    "        return False"
   ],
   "id": "f1722560ff99e776",
   "outputs": [],
   "execution_count": 876
  },
  {
   "metadata": {
    "ExecuteTime": {
     "end_time": "2024-11-19T08:40:17.107544Z",
     "start_time": "2024-11-19T08:40:17.105030Z"
    }
   },
   "cell_type": "code",
   "source": "four24(1,9,1,2)",
   "id": "c6a42435a63a8bb",
   "outputs": [
    {
     "data": {
      "text/plain": [
       "True"
      ]
     },
     "execution_count": 877,
     "metadata": {},
     "output_type": "execute_result"
    }
   ],
   "execution_count": 877
  },
  {
   "metadata": {
    "ExecuteTime": {
     "end_time": "2024-11-18T21:41:17.160571Z",
     "start_time": "2024-11-18T21:41:17.158651Z"
    }
   },
   "cell_type": "code",
   "source": "c",
   "id": "96542caf66b576c7",
   "outputs": [
    {
     "data": {
      "text/plain": [
       "2592"
      ]
     },
     "execution_count": 862,
     "metadata": {},
     "output_type": "execute_result"
    }
   ],
   "execution_count": 862
  },
  {
   "metadata": {
    "ExecuteTime": {
     "end_time": "2024-11-18T21:41:29.577939Z",
     "start_time": "2024-11-18T21:41:29.575915Z"
    }
   },
   "cell_type": "code",
   "source": "2592/4",
   "id": "408d318ccd831594",
   "outputs": [
    {
     "data": {
      "text/plain": [
       "648.0"
      ]
     },
     "execution_count": 863,
     "metadata": {},
     "output_type": "execute_result"
    }
   ],
   "execution_count": 863
  },
  {
   "metadata": {
    "ExecuteTime": {
     "end_time": "2024-11-18T21:41:39.837802Z",
     "start_time": "2024-11-18T21:41:39.835620Z"
    }
   },
   "cell_type": "code",
   "source": "648/4",
   "id": "2d11c8fbd820036",
   "outputs": [
    {
     "data": {
      "text/plain": [
       "162.0"
      ]
     },
     "execution_count": 864,
     "metadata": {},
     "output_type": "execute_result"
    }
   ],
   "execution_count": 864
  },
  {
   "metadata": {
    "ExecuteTime": {
     "end_time": "2024-11-18T21:41:49.779328Z",
     "start_time": "2024-11-18T21:41:49.777030Z"
    }
   },
   "cell_type": "code",
   "source": "162/2",
   "id": "ae5551a1456fe082",
   "outputs": [
    {
     "data": {
      "text/plain": [
       "81.0"
      ]
     },
     "execution_count": 866,
     "metadata": {},
     "output_type": "execute_result"
    }
   ],
   "execution_count": 866
  },
  {
   "metadata": {
    "ExecuteTime": {
     "end_time": "2024-11-18T21:41:58.498423Z",
     "start_time": "2024-11-18T21:41:58.495229Z"
    }
   },
   "cell_type": "code",
   "source": "4*3*2*1",
   "id": "be3bb358cbf391e8",
   "outputs": [
    {
     "data": {
      "text/plain": [
       "24"
      ]
     },
     "execution_count": 867,
     "metadata": {},
     "output_type": "execute_result"
    }
   ],
   "execution_count": 867
  },
  {
   "metadata": {
    "ExecuteTime": {
     "end_time": "2024-11-19T08:48:15.933984Z",
     "start_time": "2024-11-19T08:48:15.932385Z"
    }
   },
   "cell_type": "code",
   "source": "import numpy as np",
   "id": "43c25cd61b7f2764",
   "outputs": [],
   "execution_count": 878
  },
  {
   "metadata": {
    "ExecuteTime": {
     "end_time": "2024-11-19T08:51:37.230989Z",
     "start_time": "2024-11-19T08:51:37.228664Z"
    }
   },
   "cell_type": "code",
   "source": "np.array([0,0]) + 2*np.array([1,0])",
   "id": "a2d017f54d0af306",
   "outputs": [
    {
     "data": {
      "text/plain": [
       "array([2, 0])"
      ]
     },
     "execution_count": 882,
     "metadata": {},
     "output_type": "execute_result"
    }
   ],
   "execution_count": 882
  },
  {
   "metadata": {},
   "cell_type": "code",
   "outputs": [],
   "execution_count": null,
   "source": [
    "class Solution:\n",
    "    def isSelfCrossing(self, distance: list[int]) -> bool:\n",
    "        if len(distance) < 4:\n",
    "            return False\n",
    "        \n",
    "        \n",
    "        "
   ],
   "id": "caa9a7a64350f711"
  },
  {
   "metadata": {
    "ExecuteTime": {
     "end_time": "2024-11-19T09:00:08.931596Z",
     "start_time": "2024-11-19T09:00:08.928359Z"
    }
   },
   "cell_type": "code",
   "source": [
    "vectors = [\n",
    "    np.array([0,1]),\n",
    "    np.array([-1,0]),\n",
    "    np.array([0,-1]),\n",
    "    np.array([1,0])\n",
    "]"
   ],
   "id": "8fdc7055cd40cf99",
   "outputs": [],
   "execution_count": 906
  },
  {
   "metadata": {
    "ExecuteTime": {
     "end_time": "2024-11-19T09:00:09.310263Z",
     "start_time": "2024-11-19T09:00:09.307599Z"
    }
   },
   "cell_type": "code",
   "source": "cross([1,2,3,4])",
   "id": "8ca21feacdf7cd14",
   "outputs": [
    {
     "name": "stdout",
     "output_type": "stream",
     "text": [
      "0 []\n",
      "f [(np.int64(0), np.int64(0))]\n",
      "1 [(np.int64(0), np.int64(0))]\n",
      "f [(np.int64(0), np.int64(0)), (np.int64(0), np.int64(1))]\n",
      "f [(np.int64(0), np.int64(0)), (np.int64(0), np.int64(1)), (np.int64(-1), np.int64(1))]\n",
      "2 [(np.int64(0), np.int64(0)), (np.int64(0), np.int64(1)), (np.int64(-1), np.int64(1))]\n",
      "f [(np.int64(0), np.int64(0)), (np.int64(0), np.int64(1)), (np.int64(-1), np.int64(1)), (np.int64(-2), np.int64(1))]\n",
      "f [(np.int64(0), np.int64(0)), (np.int64(0), np.int64(1)), (np.int64(-1), np.int64(1)), (np.int64(-2), np.int64(1)), (np.int64(-2), np.int64(0))]\n",
      "f [(np.int64(0), np.int64(0)), (np.int64(0), np.int64(1)), (np.int64(-1), np.int64(1)), (np.int64(-2), np.int64(1)), (np.int64(-2), np.int64(0)), (np.int64(-2), np.int64(-1))]\n",
      "3 [(np.int64(0), np.int64(0)), (np.int64(0), np.int64(1)), (np.int64(-1), np.int64(1)), (np.int64(-2), np.int64(1)), (np.int64(-2), np.int64(0)), (np.int64(-2), np.int64(-1))]\n",
      "f [(np.int64(0), np.int64(0)), (np.int64(0), np.int64(1)), (np.int64(-1), np.int64(1)), (np.int64(-2), np.int64(1)), (np.int64(-2), np.int64(0)), (np.int64(-2), np.int64(-1)), (np.int64(-2), np.int64(-2))]\n",
      "f [(np.int64(0), np.int64(0)), (np.int64(0), np.int64(1)), (np.int64(-1), np.int64(1)), (np.int64(-2), np.int64(1)), (np.int64(-2), np.int64(0)), (np.int64(-2), np.int64(-1)), (np.int64(-2), np.int64(-2)), (np.int64(-1), np.int64(-2))]\n",
      "f [(np.int64(0), np.int64(0)), (np.int64(0), np.int64(1)), (np.int64(-1), np.int64(1)), (np.int64(-2), np.int64(1)), (np.int64(-2), np.int64(0)), (np.int64(-2), np.int64(-1)), (np.int64(-2), np.int64(-2)), (np.int64(-1), np.int64(-2)), (np.int64(0), np.int64(-2))]\n",
      "f [(np.int64(0), np.int64(0)), (np.int64(0), np.int64(1)), (np.int64(-1), np.int64(1)), (np.int64(-2), np.int64(1)), (np.int64(-2), np.int64(0)), (np.int64(-2), np.int64(-1)), (np.int64(-2), np.int64(-2)), (np.int64(-1), np.int64(-2)), (np.int64(0), np.int64(-2)), (np.int64(1), np.int64(-2))]\n"
     ]
    },
    {
     "data": {
      "text/plain": [
       "False"
      ]
     },
     "execution_count": 907,
     "metadata": {},
     "output_type": "execute_result"
    }
   ],
   "execution_count": 907
  },
  {
   "metadata": {
    "ExecuteTime": {
     "end_time": "2024-11-19T08:59:50.787865Z",
     "start_time": "2024-11-19T08:59:50.784940Z"
    }
   },
   "cell_type": "code",
   "source": "tuple(np.array([0,1]))",
   "id": "d149de561833e0e2",
   "outputs": [
    {
     "data": {
      "text/plain": [
       "(np.int64(0), np.int64(1))"
      ]
     },
     "execution_count": 905,
     "metadata": {},
     "output_type": "execute_result"
    }
   ],
   "execution_count": 905
  },
  {
   "metadata": {},
   "cell_type": "code",
   "outputs": [],
   "execution_count": null,
   "source": "[2,1,1,2]",
   "id": "bc2576a025c6c684"
  },
  {
   "metadata": {},
   "cell_type": "code",
   "outputs": [],
   "execution_count": null,
   "source": "",
   "id": "b3764d7f46b158fa"
  },
  {
   "metadata": {},
   "cell_type": "code",
   "outputs": [],
   "execution_count": null,
   "source": "",
   "id": "8a0a29a6c862d3c"
  },
  {
   "metadata": {},
   "cell_type": "code",
   "outputs": [],
   "execution_count": null,
   "source": "",
   "id": "bf3cdca1894de15a"
  },
  {
   "metadata": {},
   "cell_type": "code",
   "outputs": [],
   "execution_count": null,
   "source": "",
   "id": "77c68d672a754a3e"
  },
  {
   "metadata": {
    "ExecuteTime": {
     "end_time": "2024-11-19T15:27:52.460817Z",
     "start_time": "2024-11-19T15:27:52.457913Z"
    }
   },
   "cell_type": "code",
   "source": [
    "for i in range(7):\n",
    "    for j in range(12):\n",
    "        print(i, j)\n",
    "        if j > 3:\n",
    "            break"
   ],
   "id": "44377942c46c8d40",
   "outputs": [
    {
     "name": "stdout",
     "output_type": "stream",
     "text": [
      "0 0\n",
      "0 1\n",
      "0 2\n",
      "0 3\n",
      "0 4\n",
      "1 0\n",
      "1 1\n",
      "1 2\n",
      "1 3\n",
      "1 4\n",
      "2 0\n",
      "2 1\n",
      "2 2\n",
      "2 3\n",
      "2 4\n",
      "3 0\n",
      "3 1\n",
      "3 2\n",
      "3 3\n",
      "3 4\n",
      "4 0\n",
      "4 1\n",
      "4 2\n",
      "4 3\n",
      "4 4\n",
      "5 0\n",
      "5 1\n",
      "5 2\n",
      "5 3\n",
      "5 4\n",
      "6 0\n",
      "6 1\n",
      "6 2\n",
      "6 3\n",
      "6 4\n"
     ]
    }
   ],
   "execution_count": 910
  },
  {
   "metadata": {
    "ExecuteTime": {
     "end_time": "2024-11-19T15:34:02.847379Z",
     "start_time": "2024-11-19T15:34:02.844801Z"
    }
   },
   "cell_type": "code",
   "source": "from time import perf_counter",
   "id": "feb9bf8160694334",
   "outputs": [],
   "execution_count": 911
  },
  {
   "metadata": {
    "ExecuteTime": {
     "end_time": "2024-11-19T15:34:24.076674Z",
     "start_time": "2024-11-19T15:34:24.074744Z"
    }
   },
   "cell_type": "code",
   "source": "t0 = perf_counter()",
   "id": "405714b5b9a71c19",
   "outputs": [],
   "execution_count": 913
  },
  {
   "metadata": {
    "ExecuteTime": {
     "end_time": "2024-11-19T15:34:27.048763Z",
     "start_time": "2024-11-19T15:34:27.045381Z"
    }
   },
   "cell_type": "code",
   "source": "print(perf_counter()-t0)",
   "id": "f1dbd0920b764d26",
   "outputs": [
    {
     "name": "stdout",
     "output_type": "stream",
     "text": [
      "2.9706138749606907\n"
     ]
    }
   ],
   "execution_count": 914
  },
  {
   "metadata": {},
   "cell_type": "code",
   "outputs": [],
   "execution_count": null,
   "source": "",
   "id": "bb009ff5ad2a7daa"
  }
 ],
 "metadata": {
  "kernelspec": {
   "display_name": "Python 3",
   "language": "python",
   "name": "python3"
  },
  "language_info": {
   "codemirror_mode": {
    "name": "ipython",
    "version": 2
   },
   "file_extension": ".py",
   "mimetype": "text/x-python",
   "name": "python",
   "nbconvert_exporter": "python",
   "pygments_lexer": "ipython2",
   "version": "2.7.6"
  }
 },
 "nbformat": 4,
 "nbformat_minor": 5
}
