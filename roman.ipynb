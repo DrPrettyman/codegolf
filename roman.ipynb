{
 "cells": [
  {
   "cell_type": "code",
   "execution_count": 2,
   "id": "initial_id",
   "metadata": {
    "ExecuteTime": {
     "end_time": "2024-11-12T13:42:00.400679Z",
     "start_time": "2024-11-12T13:42:00.394246Z"
    },
    "collapsed": true
   },
   "outputs": [],
   "source": [
    "import re\n",
    "\n",
    "\n",
    "class Solution:\n",
    "    digits = [\"\", \"I\", \"II\", \"III\", \"IV\", \"V\", \"VI\", \"VII\", \"VIII\", \"IX\"]\n",
    "    \n",
    "    @staticmethod\n",
    "    def get_parts(n: int) -> list[int]:\n",
    "        # splits an int into a list [thousands, hundreds, tens, units]\n",
    "        m = n\n",
    "        parts = []\n",
    "        for _ in (1000, 100, 10, 1):\n",
    "            parts.append(m//_)\n",
    "            m = m%_\n",
    "        return parts\n",
    "    \n",
    "    @staticmethod\n",
    "    def transform_digit(d: str, pv: int) -> str:\n",
    "        \"\"\"\n",
    "        Transforms a roman numeral I-IX (1-9) to a different place value. \n",
    "        Place value is specified by the `pv` parameter.\n",
    "        1: \"units\"\n",
    "        2: \"tens\"\n",
    "        3: \"hundreds\"\n",
    "        4: \"thousands\"\n",
    "        \n",
    "        E.g. \n",
    "            transform_digit(\"IV\", 2) -> \"XL\"  # transforms 4 into 40. \n",
    "            transform_digit(\"VII\", 3) -> \"DCC\"  # transforms 7 into 700. \n",
    "        \"\"\"\n",
    "        s = \"\"\n",
    "        for numeral in d:\n",
    "            if numeral == \"I\":\n",
    "                s += \"_IXCM\"[pv]\n",
    "            elif numeral == \"V\":\n",
    "                s += \"_VLD_\"[pv]\n",
    "            elif numeral == \"X\":\n",
    "                s += \"IXCM_\"[pv]\n",
    "            else:\n",
    "                # We don't get here\n",
    "                raise KeyError\n",
    "        return s\n",
    "    \n",
    "    def intToRoman(self, num: int) -> str:\n",
    "        _parts = Solution.get_parts(num)\n",
    "        _parts_roman = [Solution.digits[_] for _ in _parts]\n",
    "        return \"\".join([Solution.transform_digit(d, 4-i) for i, d in enumerate(_parts_roman)])"
   ]
  },
  {
   "cell_type": "code",
   "execution_count": 3,
   "id": "7083622ac00102db",
   "metadata": {
    "ExecuteTime": {
     "end_time": "2024-11-12T13:44:50.976298Z",
     "start_time": "2024-11-12T13:44:50.974704Z"
    }
   },
   "outputs": [],
   "source": [
    "s = \"MCMXCIV\"\n",
    "r = s[::-1]"
   ]
  },
  {
   "cell_type": "code",
   "execution_count": 4,
   "id": "6723d1fbcdad6046",
   "metadata": {
    "ExecuteTime": {
     "end_time": "2024-11-12T13:44:51.238999Z",
     "start_time": "2024-11-12T13:44:51.235572Z"
    }
   },
   "outputs": [
    {
     "data": {
      "text/plain": [
       "'VICXMCM'"
      ]
     },
     "execution_count": 4,
     "metadata": {},
     "output_type": "execute_result"
    }
   ],
   "source": [
    "r"
   ]
  },
  {
   "cell_type": "code",
   "execution_count": 65,
   "id": "609bbc7fb70acb9",
   "metadata": {
    "ExecuteTime": {
     "end_time": "2024-11-12T13:43:49.089635Z",
     "start_time": "2024-11-12T13:43:49.086905Z"
    }
   },
   "outputs": [
    {
     "data": {
      "text/plain": [
       "['M', 'CD', 'XL', 'IV']"
      ]
     },
     "execution_count": 65,
     "metadata": {},
     "output_type": "execute_result"
    }
   ],
   "source": [
    "(\"M\", \"CD\", \"XL\", \"IV\")"
   ]
  },
  {
   "cell_type": "code",
   "execution_count": 86,
   "id": "30efa1e63b1718ae",
   "metadata": {
    "ExecuteTime": {
     "end_time": "2024-11-12T13:53:47.824628Z",
     "start_time": "2024-11-12T13:53:47.821593Z"
    }
   },
   "outputs": [],
   "source": [
    "def indices(s, pv: int):\n",
    "    numerals = (\"IV\", \"XL\", \"CD\", \"M\")[pv-1]\n",
    "    numerals = [_ for _ in numerals if _ in s]\n",
    "    \n",
    "    min_indices = [s.index(numeral) for numeral in numerals]\n",
    "    if len(min_indices) == 0:\n",
    "        min_index = None\n",
    "    else:\n",
    "        min_index = min(min_indices)\n",
    "    \n",
    "    r = s[::-1]\n",
    "    max_indices = [len(s) - 1 - r.index(numeral) for numeral in numerals]\n",
    "    if len(max_indices) == 0:\n",
    "        max_index = None\n",
    "    else:\n",
    "        max_index = max(max_indices)\n",
    "    \n",
    "    return min_index, max_index"
   ]
  },
  {
   "cell_type": "code",
   "execution_count": 87,
   "id": "aa2cff3be5d0e181",
   "metadata": {
    "ExecuteTime": {
     "end_time": "2024-11-12T13:53:48.810241Z",
     "start_time": "2024-11-12T13:53:48.808220Z"
    }
   },
   "outputs": [
    {
     "data": {
      "text/plain": [
       "(0, 2)"
      ]
     },
     "execution_count": 87,
     "metadata": {},
     "output_type": "execute_result"
    }
   ],
   "source": [
    "indices(\"MCMXCIV\", 4)"
   ]
  },
  {
   "cell_type": "code",
   "execution_count": 89,
   "id": "92fff84ff55717e9",
   "metadata": {
    "ExecuteTime": {
     "end_time": "2024-11-12T13:54:08.629571Z",
     "start_time": "2024-11-12T13:54:08.625944Z"
    }
   },
   "outputs": [
    {
     "data": {
      "text/plain": [
       "'MCM'"
      ]
     },
     "execution_count": 89,
     "metadata": {},
     "output_type": "execute_result"
    }
   ],
   "source": [
    "\"MCMXCIV\"[0:2+1]"
   ]
  },
  {
   "cell_type": "code",
   "execution_count": null,
   "id": "86964a4e1260acf",
   "metadata": {},
   "outputs": [],
   "source": []
  }
 ],
 "metadata": {
  "kernelspec": {
   "display_name": "Python 3",
   "language": "python",
   "name": "python3"
  },
  "language_info": {
   "codemirror_mode": {
    "name": "ipython",
    "version": 3
   },
   "file_extension": ".py",
   "mimetype": "text/x-python",
   "name": "python",
   "nbconvert_exporter": "python",
   "pygments_lexer": "ipython3",
   "version": "3.10.0"
  }
 },
 "nbformat": 4,
 "nbformat_minor": 5
}
