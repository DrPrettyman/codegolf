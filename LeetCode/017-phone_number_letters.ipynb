{
 "cells": [
  {
   "cell_type": "markdown",
   "id": "2df48654",
   "metadata": {},
   "source": [
    "# 17. Letter Combinations of a Phone Number\n",
    "\n",
    "[LeetCode link](https://leetcode.com/problems/letter-combinations-of-a-phone-number/)\n",
    "\n",
    "Given a string containing digits from 2-9 inclusive, return all possible letter combinations that the number could represent. Return the answer in any order.\n",
    "\n",
    "A mapping of digits to letters (just like on the telephone buttons) is given below. Note that 1 does not map to any letters.\n",
    "\n",
    "### Example 1:\n",
    "\n",
    "Input: `digits = \"23\"`\n",
    "\n",
    "Output: `[\"ad\",\"ae\",\"af\",\"bd\",\"be\",\"bf\",\"cd\",\"ce\",\"cf\"]`\n",
    "\n",
    "### Example 2:\n",
    "\n",
    "Input: `digits = \"\"`\n",
    "\n",
    "Output: `[]`"
   ]
  },
  {
   "cell_type": "code",
   "execution_count": 18,
   "id": "25be9fd4",
   "metadata": {},
   "outputs": [],
   "source": [
    "lookup = {\"2\": \"abc\", \"3\": \"def\", \"4\": \"ghi\", \"5\": \"jkl\", \"6\": \"mno\", \"7\": \"pqrs\", \"8\": \"tuv\", \"9\": \"wxyz\"}\n",
    "\n",
    "digits = \"2\"\n",
    "\n",
    "def letter_combinations(digits: str):\n",
    "    combos = [\"\"]\n",
    "    for d in digits:\n",
    "        new_combos = []\n",
    "        letters = lookup[d]\n",
    "        for _c in combos:\n",
    "            for _l in letters:\n",
    "                new_combos.append(_c+_l)\n",
    "        combos = new_combos\n",
    "    if len(combos) == 1:\n",
    "        return []\n",
    "    return combos"
   ]
  },
  {
   "cell_type": "code",
   "execution_count": 19,
   "id": "7a795e0a",
   "metadata": {},
   "outputs": [
    {
     "data": {
      "text/plain": [
       "['ad', 'ae', 'af', 'bd', 'be', 'bf', 'cd', 'ce', 'cf']"
      ]
     },
     "execution_count": 19,
     "metadata": {},
     "output_type": "execute_result"
    }
   ],
   "source": [
    "letter_combinations(\"23\")"
   ]
  },
  {
   "cell_type": "code",
   "execution_count": null,
   "id": "152ec75e",
   "metadata": {},
   "outputs": [],
   "source": []
  }
 ],
 "metadata": {
  "kernelspec": {
   "display_name": ".venv",
   "language": "python",
   "name": "python3"
  },
  "language_info": {
   "codemirror_mode": {
    "name": "ipython",
    "version": 3
   },
   "file_extension": ".py",
   "mimetype": "text/x-python",
   "name": "python",
   "nbconvert_exporter": "python",
   "pygments_lexer": "ipython3",
   "version": "3.11.1"
  }
 },
 "nbformat": 4,
 "nbformat_minor": 5
}
