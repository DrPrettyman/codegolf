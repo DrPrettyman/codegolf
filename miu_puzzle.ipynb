{
 "cells": [
  {
   "cell_type": "code",
   "execution_count": 1,
   "id": "522f0aab",
   "metadata": {},
   "outputs": [],
   "source": [
    "import re"
   ]
  },
  {
   "cell_type": "code",
   "execution_count": null,
   "id": "5cd76b9b",
   "metadata": {},
   "outputs": [],
   "source": [
    "def find_all(string, substring):\n",
    "    n = len(substring)\n",
    "    return [i for i in range(len(string)) if string[i:i+n] == substring]"
   ]
  },
  {
   "cell_type": "code",
   "execution_count": 26,
   "id": "ff3c7634",
   "metadata": {},
   "outputs": [
    {
     "data": {
      "text/plain": [
       "[1, 2, 3, 7]"
      ]
     },
     "execution_count": 26,
     "metadata": {},
     "output_type": "execute_result"
    }
   ],
   "source": [
    "find_all(\"MIIIIIUIIIMUUM\", \"III\")"
   ]
  },
  {
   "cell_type": "code",
   "execution_count": null,
   "id": "d56360e5",
   "metadata": {},
   "outputs": [],
   "source": []
  },
  {
   "cell_type": "code",
   "execution_count": 67,
   "id": "a44c5aa5",
   "metadata": {},
   "outputs": [],
   "source": [
    "def sub_at_index(s: str, a: int, b: int, repl: str):\n",
    "    return s[:a] + repl + s[b:]\n",
    "\n",
    "def str_remove(s: str, a, b):\n",
    "    return s[:a] + s[b:]\n",
    "\n",
    "def rule1(s: str):\n",
    "    if s.endswith(\"I\"):\n",
    "        return {s+\"U\"}\n",
    "    return set()\n",
    "    \n",
    "def rule2(s: str):\n",
    "    if s.startswith(\"M\"):\n",
    "        return {s + s[1:]}\n",
    "    return set()\n",
    "\n",
    "def rule3(s: str):\n",
    "    indices = [i for i in range(len(s)) if s[i:i+3] == \"III\"]\n",
    "    return {sub_at_index(s, i, i+3, \"U\") for i in indices}\n",
    "\n",
    "def rule4(s: str):\n",
    "    indices = [i for i in range(len(s)) if s[i:i+2] == \"UU\"]\n",
    "    return {str_remove(s, i, i+2) for i in indices}\n",
    "\n",
    "def all_rules(s: str):\n",
    "    return rule1(s) | rule2(s) | rule3(s) | rule4(s)\n",
    "        "
   ]
  },
  {
   "cell_type": "code",
   "execution_count": 68,
   "id": "8178c224",
   "metadata": {},
   "outputs": [
    {
     "data": {
      "text/plain": [
       "{'MIIIIUMUMII', 'MIUUMIIIMII', 'MUIUMIIIMII'}"
      ]
     },
     "execution_count": 68,
     "metadata": {},
     "output_type": "execute_result"
    }
   ],
   "source": [
    "rule3(\"MIIIIUMIIIMII\")"
   ]
  },
  {
   "cell_type": "code",
   "execution_count": 69,
   "id": "3102b93d",
   "metadata": {},
   "outputs": [
    {
     "data": {
      "text/plain": [
       "{'MIIUUUM', 'MUUIIUM'}"
      ]
     },
     "execution_count": 69,
     "metadata": {},
     "output_type": "execute_result"
    }
   ],
   "source": [
    "rule4(\"MUUIIUUUM\")"
   ]
  },
  {
   "cell_type": "code",
   "execution_count": 70,
   "id": "64cfef3e",
   "metadata": {},
   "outputs": [],
   "source": [
    "s = \"MI\""
   ]
  },
  {
   "cell_type": "code",
   "execution_count": 97,
   "id": "a43f5995",
   "metadata": {},
   "outputs": [
    {
     "name": "stdout",
     "output_type": "stream",
     "text": [
      "10 : 3986987\n",
      "False\n"
     ]
    }
   ],
   "source": [
    "reserve = set()\n",
    "bag = set([\"MI\"])\n",
    "_it = 0\n",
    "while len(reserve) < 100_000 and \"MU\" not in bag:\n",
    "    new_bag = set()\n",
    "    for s in bag:\n",
    "        new_bag.update(all_rules(s))\n",
    "    reserve.update(bag)\n",
    "    bag = new_bag\n",
    "    _it += 1\n",
    "reserve.update(bag)\n",
    "    \n",
    "print(_it, \":\", len(reserve))\n",
    "print(\"MU\" in reserve)"
   ]
  },
  {
   "cell_type": "code",
   "execution_count": 62,
   "id": "6ae8f398",
   "metadata": {},
   "outputs": [],
   "source": [
    "def sub_at_index(s: str, a: int, b: int, repl: str):\n",
    "    return s[:a] + repl + s[b:]\n",
    "\n",
    "def str_remove(s: str, a, b):\n",
    "    return s[:a] + s[b:]\n",
    "\n",
    "class MIUSystem:\n",
    "    def __init__(self, bag: set[str] | str):\n",
    "        if isinstance(bag, str):\n",
    "            bag = set([bag])\n",
    "        self.todo = bag\n",
    "        self.done = set()\n",
    "        \n",
    "    @property\n",
    "    def bag(self):\n",
    "        return self.todo | self.done\n",
    "    \n",
    "    def __len__(self):\n",
    "        return len(self.bag)\n",
    "    \n",
    "    def __contains__(self, s: str):\n",
    "        return s in self.todo or s in self.done\n",
    "        \n",
    "    def update(self):\n",
    "        new_bag = set()\n",
    "        for s in self.todo:\n",
    "            new_bag.update({_s for _s in self.all_rules(s) if len(_s) < 51})\n",
    "        self.done.update(self.todo)\n",
    "        self.todo = new_bag - self.done\n",
    "\n",
    "    @staticmethod\n",
    "    def rule1(s: str):\n",
    "        if s.endswith(\"I\"):\n",
    "            return {s+\"U\"}\n",
    "        return set()\n",
    "    \n",
    "    @staticmethod\n",
    "    def rule2(s: str):\n",
    "        if s.startswith(\"M\"):\n",
    "            return {s + s[1:]}\n",
    "        return set()\n",
    "    \n",
    "    @staticmethod\n",
    "    def rule3(s: str):\n",
    "        indices = [i for i in range(len(s)) if s[i:i+3] == \"III\"]\n",
    "        return {sub_at_index(s, i, i+3, \"U\") for i in indices}\n",
    "\n",
    "    @staticmethod\n",
    "    def rule4(s: str):\n",
    "        indices = [i for i in range(len(s)) if s[i:i+2] == \"UU\"]\n",
    "        return {str_remove(s, i, i+2) for i in indices}\n",
    "\n",
    "    def all_rules(self, s: str):\n",
    "        return self.rule1(s) | self.rule2(s) | self.rule3(s) | self.rule4(s)"
   ]
  },
  {
   "cell_type": "code",
   "execution_count": 64,
   "id": "99e3810e",
   "metadata": {},
   "outputs": [],
   "source": [
    "miu = MIUSystem(\"MUI\")\n",
    "\n",
    "lens = {0: len(miu)}\n",
    "for i in range(1, 13):\n",
    "    miu.update()\n",
    "    lens[i] = len(miu)"
   ]
  },
  {
   "cell_type": "code",
   "execution_count": 65,
   "id": "7ca2e115",
   "metadata": {},
   "outputs": [
    {
     "data": {
      "text/plain": [
       "{0: 1,\n",
       " 1: 3,\n",
       " 2: 6,\n",
       " 3: 11,\n",
       " 4: 21,\n",
       " 5: 45,\n",
       " 6: 133,\n",
       " 7: 531,\n",
       " 8: 2328,\n",
       " 9: 9122,\n",
       " 10: 29568,\n",
       " 11: 83174,\n",
       " 12: 246395}"
      ]
     },
     "execution_count": 65,
     "metadata": {},
     "output_type": "execute_result"
    }
   ],
   "source": [
    "lens"
   ]
  },
  {
   "cell_type": "code",
   "execution_count": 34,
   "id": "6251560a",
   "metadata": {},
   "outputs": [],
   "source": [
    "miu.update()"
   ]
  },
  {
   "cell_type": "code",
   "execution_count": 35,
   "id": "ffe56c77",
   "metadata": {},
   "outputs": [
    {
     "data": {
      "text/plain": [
       "106053474"
      ]
     },
     "execution_count": 35,
     "metadata": {},
     "output_type": "execute_result"
    }
   ],
   "source": [
    "len(miu)"
   ]
  },
  {
   "cell_type": "code",
   "execution_count": 66,
   "id": "cf968c04",
   "metadata": {},
   "outputs": [
    {
     "data": {
      "text/plain": [
       "False"
      ]
     },
     "execution_count": 66,
     "metadata": {},
     "output_type": "execute_result"
    }
   ],
   "source": [
    "\"MU\" in miu"
   ]
  },
  {
   "cell_type": "code",
   "execution_count": 33,
   "id": "a32b4b5c",
   "metadata": {},
   "outputs": [
    {
     "data": {
      "text/plain": [
       "{'MII', 'MIU'}"
      ]
     },
     "execution_count": 33,
     "metadata": {},
     "output_type": "execute_result"
    }
   ],
   "source": [
    "miu.all_rules(\"MI\")"
   ]
  },
  {
   "cell_type": "code",
   "execution_count": 37,
   "id": "2fe748ea",
   "metadata": {},
   "outputs": [],
   "source": [
    "miu3 = MIUSystem(\"MUI\")"
   ]
  },
  {
   "cell_type": "code",
   "execution_count": 50,
   "id": "6f6f537d",
   "metadata": {},
   "outputs": [],
   "source": [
    "miu3.update()"
   ]
  },
  {
   "cell_type": "code",
   "execution_count": 51,
   "id": "ff29eb12",
   "metadata": {},
   "outputs": [
    {
     "data": {
      "text/plain": [
       "{'MUI',\n",
       " 'MUIIIIU',\n",
       " 'MUIIIIUUIIIIU',\n",
       " 'MUIIIIUUIIUUIIU',\n",
       " 'MUIIIUUIU',\n",
       " 'MUIIIUUIUUIIIUUIU',\n",
       " 'MUIIIUUIUUIIUUIUUIU',\n",
       " 'MUIIIUUIUUIUUIIUUIU',\n",
       " 'MUIIIUUIUUIUUIUUIUUIU',\n",
       " 'MUIIU',\n",
       " 'MUIIUUIIIIUUIIU',\n",
       " 'MUIIUUIIU',\n",
       " 'MUIIUUIIUUIIIIU',\n",
       " 'MUIIUUIIUUIIUUIIU',\n",
       " 'MUIIUUIIUUIIUUIIUUIIUUIIUUIIUUIIU',\n",
       " 'MUIIUUIIUUIIUUIUUIU',\n",
       " 'MUIIUUIIUUIUUIUUIIU',\n",
       " 'MUIIUUIIUUIUUIUUIUUIU',\n",
       " 'MUIIUUIUUIIIUUIUUIU',\n",
       " 'MUIIUUIUUIIUUIUUIUUIU',\n",
       " 'MUIIUUIUUIU',\n",
       " 'MUIIUUIUUIUUIIIUUIU',\n",
       " 'MUIIUUIUUIUUIIUUIIU',\n",
       " 'MUIIUUIUUIUUIIUUIUUIU',\n",
       " 'MUIIUUIUUIUUIIUUIUUIUUIIUUIUUIUUIIUUIUUIU',\n",
       " 'MUIIUUIUUIUUIUUIIUUIU',\n",
       " 'MUIIUUIUUIUUIUUIUUIIU',\n",
       " 'MUIIUUIUUIUUIUUIUUIUUIU',\n",
       " 'MUIIUUIUUIUUIUUIUUIUUIUUIIUUIUUIUUIUUIUUIUUIU',\n",
       " 'MUIIUUIUUIUUIUUIUUIUUIUUIUUIUUIUUIUUIUUIUUIUUIU',\n",
       " 'MUIU',\n",
       " 'MUIUI',\n",
       " 'MUIUIIUIIUIIUIU',\n",
       " 'MUIUIIUIIUIUUIUIU',\n",
       " 'MUIUIIUIU',\n",
       " 'MUIUIIUIUUIUIIUIU',\n",
       " 'MUIUIIUIUUIUIIUIUUIUIIUIUUIUIIUIU',\n",
       " 'MUIUIIUIUUIUIUUIUIU',\n",
       " 'MUIUIIUIUUIUIUUIUIUUIUIIUIUUIUIUUIUIU',\n",
       " 'MUIUIIUIUUIUIUUIUIUUIUIUUIUIUUIUIUUIUIU',\n",
       " 'MUIUIU',\n",
       " 'MUIUIUIUI',\n",
       " 'MUIUIUIUIIUIUIUIU',\n",
       " 'MUIUIUIUIIUIUIUIUUIUIUIUIIUIUIUIU',\n",
       " 'MUIUIUIUIIUIUIUIUUIUIUIUIUUIUIUIUIU',\n",
       " 'MUIUIUIUIU',\n",
       " 'MUIUIUIUIUIUIUIUI',\n",
       " 'MUIUIUIUIUIUIUIUIIUIUIUIUIUIUIUIU',\n",
       " 'MUIUIUIUIUIUIUIUIU',\n",
       " 'MUIUIUIUIUIUIUIUIUIUIUIUIUIUIUIUI',\n",
       " 'MUIUIUIUIUIUIUIUIUIUIUIUIUIUIUIUIU',\n",
       " 'MUIUIUIUIUIUIUIUIUIUIUIUIUIUIUIUIUIUIUIUIUIUIUIUIUIUIUIUIUIUIUIUI',\n",
       " 'MUIUIUIUIUIUIUIUIUIUIUIUIUIUIUIUIUIUIUIUIUIUIUIUIUIUIUIUIUIUIUIUIU',\n",
       " 'MUIUIUIUIUIUIUIUIUIUIUIUIUIUIUIUIUIUIUIUIUIUIUIUIUIUIUIUIUIUIUIUIUIUIUIUIUIUIUIUIUIUIUIUIUIUIUIUIUIUIUIUIUIUIUIUIUIUIUIUIUIUIUIUI',\n",
       " 'MUIUIUIUIUIUIUIUIUIUIUIUIUIUIUIUIUUIUIUIUIUIUIUIUIUIUIUIUIUIUIUIUIU',\n",
       " 'MUIUIUIUIUIUIUIUIUUIUIUIUIUIUIUIUIU',\n",
       " 'MUIUIUIUIUIUIUIUIUUIUIUIUIUIUIUIUIUUIUIUIUIUIUIUIUIUUIUIUIUIUIUIUIUIU',\n",
       " 'MUIUIUIUIUUIUIUIUIIUIUIUIUUIUIUIUIU',\n",
       " 'MUIUIUIUIUUIUIUIUIU',\n",
       " 'MUIUIUIUIUUIUIUIUIUUIUIUIUIIUIUIUIU',\n",
       " 'MUIUIUIUIUUIUIUIUIUUIUIUIUIUUIUIUIUIU',\n",
       " 'MUIUIUIUIUUIUIUIUIUUIUIUIUIUUIUIUIUIUUIUIUIUIUUIUIUIUIUUIUIUIUIUUIUIUIUIU',\n",
       " 'MUIUIUUIUIIUIIUIU',\n",
       " 'MUIUIUUIUIIUIUUIUIU',\n",
       " 'MUIUIUUIUIIUIUUIUIUUIUIUUIUIIUIUUIUIU',\n",
       " 'MUIUIUUIUIIUIUUIUIUUIUIUUIUIUUIUIUUIUIU',\n",
       " 'MUIUIUUIUIU',\n",
       " 'MUIUIUUIUIUUIUIIUIU',\n",
       " 'MUIUIUUIUIUUIUIIUIUUIUIUUIUIUUIUIIUIU',\n",
       " 'MUIUIUUIUIUUIUIIUIUUIUIUUIUIUUIUIUUIUIU',\n",
       " 'MUIUIUUIUIUUIUIUUIUIIUIUUIUIUUIUIUUIUIU',\n",
       " 'MUIUIUUIUIUUIUIUUIUIU',\n",
       " 'MUIUIUUIUIUUIUIUUIUIUUIUIIUIUUIUIUUIUIU',\n",
       " 'MUIUIUUIUIUUIUIUUIUIUUIUIUUIUIIUIUUIUIU',\n",
       " 'MUIUIUUIUIUUIUIUUIUIUUIUIUUIUIUUIUIIUIU',\n",
       " 'MUIUIUUIUIUUIUIUUIUIUUIUIUUIUIUUIUIUUIUIU',\n",
       " 'MUIUIUUIUIUUIUIUUIUIUUIUIUUIUIUUIUIUUIUIUUIUIUUIUIUUIUIUUIUIUUIUIUUIUIUUIUIUUIUIU',\n",
       " 'MUIUU',\n",
       " 'MUIUUIIIU',\n",
       " 'MUIUUIIIUUIUUIIIU',\n",
       " 'MUIUUIIIUUIUUIIUUIU',\n",
       " 'MUIUUIIIUUIUUIUUIIU',\n",
       " 'MUIUUIIIUUIUUIUUIUUIU',\n",
       " 'MUIUUIIUUIIUUIIUUIU',\n",
       " 'MUIUUIIUUIIUUIUUIUUIU',\n",
       " 'MUIUUIIUUIU',\n",
       " 'MUIUUIIUUIUUIIIUUIU',\n",
       " 'MUIUUIIUUIUUIIUUIUUIU',\n",
       " 'MUIUUIIUUIUUIUUIIIU',\n",
       " 'MUIUUIIUUIUUIUUIIUUIU',\n",
       " 'MUIUUIIUUIUUIUUIIUUIUUIUUIIUUIUUIUUIIUUIU',\n",
       " 'MUIUUIIUUIUUIUUIUUIIU',\n",
       " 'MUIUUIIUUIUUIUUIUUIUUIU',\n",
       " 'MUIUUIIUUIUUIUUIUUIUUIUUIUUIIUUIUUIUUIUUIUUIU',\n",
       " 'MUIUUIIUUIUUIUUIUUIUUIUUIUUIUUIUUIUUIUUIUUIUUIU',\n",
       " 'MUIUUIU',\n",
       " 'MUIUUIUUIIIUUIUUIIU',\n",
       " 'MUIUUIUUIIIUUIUUIUUIU',\n",
       " 'MUIUUIUUIIU',\n",
       " 'MUIUUIUUIIUUIIUUIIU',\n",
       " 'MUIUUIUUIIUUIIUUIUUIU',\n",
       " 'MUIUUIUUIIUUIUUIIIU',\n",
       " 'MUIUUIUUIIUUIUUIIUUIU',\n",
       " 'MUIUUIUUIIUUIUUIUUIIU',\n",
       " 'MUIUUIUUIIUUIUUIUUIIUUIUUIUUIIUUIUUIUUIIU',\n",
       " 'MUIUUIUUIIUUIUUIUUIUUIU',\n",
       " 'MUIUUIUUIIUUIUUIUUIUUIUUIUUIUUIIUUIUUIUUIUUIU',\n",
       " 'MUIUUIUUIIUUIUUIUUIUUIUUIUUIUUIUUIUUIUUIUUIUUIU',\n",
       " 'MUIUUIUUIUUIIIUUIUUIU',\n",
       " 'MUIUUIUUIUUIIUUIIUUIU',\n",
       " 'MUIUUIUUIUUIIUUIUUIIU',\n",
       " 'MUIUUIUUIUUIIUUIUUIUUIU',\n",
       " 'MUIUUIUUIUUIIUUIUUIUUIUUIUUIUUIUUIIUUIUUIUUIU',\n",
       " 'MUIUUIUUIUUIIUUIUUIUUIUUIUUIUUIUUIUUIUUIUUIUUIU',\n",
       " 'MUIUUIUUIUUIU',\n",
       " 'MUIUUIUUIUUIUUIIIUUIU',\n",
       " 'MUIUUIUUIUUIUUIIUUIIU',\n",
       " 'MUIUUIUUIUUIUUIIUUIUUIU',\n",
       " 'MUIUUIUUIUUIUUIIUUIUUIUUIUUIUUIUUIUUIIUUIUUIU',\n",
       " 'MUIUUIUUIUUIUUIIUUIUUIUUIUUIUUIUUIUUIUUIUUIUUIU',\n",
       " 'MUIUUIUUIUUIUUIUUIIIU',\n",
       " 'MUIUUIUUIUUIUUIUUIIUUIU',\n",
       " 'MUIUUIUUIUUIUUIUUIIUUIUUIUUIUUIUUIUUIUUIIUUIU',\n",
       " 'MUIUUIUUIUUIUUIUUIIUUIUUIUUIUUIUUIUUIUUIUUIUUIU',\n",
       " 'MUIUUIUUIUUIUUIUUIUUIIU',\n",
       " 'MUIUUIUUIUUIUUIUUIUUIIUUIUUIUUIUUIUUIUUIUUIIU',\n",
       " 'MUIUUIUUIUUIUUIUUIUUIIUUIUUIUUIUUIUUIUUIUUIUUIU',\n",
       " 'MUIUUIUUIUUIUUIUUIUUIUUIIUUIUUIUUIUUIUUIUUIUUIU',\n",
       " 'MUIUUIUUIUUIUUIUUIUUIUUIU',\n",
       " 'MUIUUIUUIUUIUUIUUIUUIUUIUUIIUUIUUIUUIUUIUUIUUIU',\n",
       " 'MUIUUIUUIUUIUUIUUIUUIUUIUUIUUIIUUIUUIUUIUUIUUIU',\n",
       " 'MUIUUIUUIUUIUUIUUIUUIUUIUUIUUIUUIIUUIUUIUUIUUIU',\n",
       " 'MUIUUIUUIUUIUUIUUIUUIUUIUUIUUIUUIUUIIUUIUUIUUIU',\n",
       " 'MUIUUIUUIUUIUUIUUIUUIUUIUUIUUIUUIUUIUUIIUUIUUIU',\n",
       " 'MUIUUIUUIUUIUUIUUIUUIUUIUUIUUIUUIUUIUUIUUIIUUIU',\n",
       " 'MUIUUIUUIUUIUUIUUIUUIUUIUUIUUIUUIUUIUUIUUIUUIIU',\n",
       " 'MUIUUIUUIUUIUUIUUIUUIUUIUUIUUIUUIUUIUUIUUIUUIUUIU',\n",
       " 'MUIUUIUUIUUIUUIUUIUUIUUIUUIUUIUUIUUIUUIUUIUUIUUIUUIUUIUUIUUIUUIUUIUUIUUIUUIUUIUUIUUIUUIUUIUUIUUIU',\n",
       " 'MUIUUUU',\n",
       " 'MUUIU',\n",
       " 'MUUUUIU'}"
      ]
     },
     "execution_count": 51,
     "metadata": {},
     "output_type": "execute_result"
    }
   ],
   "source": [
    "miu3.bag"
   ]
  },
  {
   "cell_type": "code",
   "execution_count": 52,
   "id": "e4ba9a7d",
   "metadata": {},
   "outputs": [
    {
     "data": {
      "text/plain": [
       "False"
      ]
     },
     "execution_count": 52,
     "metadata": {},
     "output_type": "execute_result"
    }
   ],
   "source": [
    "\"MU\" in miu3"
   ]
  },
  {
   "cell_type": "code",
   "execution_count": null,
   "id": "2513f041",
   "metadata": {},
   "outputs": [],
   "source": []
  }
 ],
 "metadata": {
  "kernelspec": {
   "display_name": ".venv",
   "language": "python",
   "name": "python3"
  },
  "language_info": {
   "codemirror_mode": {
    "name": "ipython",
    "version": 3
   },
   "file_extension": ".py",
   "mimetype": "text/x-python",
   "name": "python",
   "nbconvert_exporter": "python",
   "pygments_lexer": "ipython3",
   "version": "3.11.1"
  }
 },
 "nbformat": 4,
 "nbformat_minor": 5
}
