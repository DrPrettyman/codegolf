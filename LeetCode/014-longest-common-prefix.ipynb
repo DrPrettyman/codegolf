{
 "cells": [
  {
   "cell_type": "markdown",
   "id": "04e73050",
   "metadata": {},
   "source": [
    "# 14. Longest Common Prefix\n",
    "\n",
    "https://leetcode.com/problems/longest-common-prefix/description/\n",
    "\n",
    "Write a function to find the longest common prefix string amongst an array of strings.\n",
    "\n",
    "If there is no common prefix, return an empty string \"\"."
   ]
  },
  {
   "cell_type": "code",
   "execution_count": 3,
   "id": "c08d4e99",
   "metadata": {},
   "outputs": [],
   "source": [
    "def longest_common_prefix(strs: list[str]) -> str:\n",
    "    min_len = min(len(s) for s in strs)\n",
    "    prefix = []\n",
    "    for i in range(min_len):\n",
    "        chars = set(s[i] for s in strs)\n",
    "        if len(chars) > 1:\n",
    "            break\n",
    "        prefix.append(chars.pop())\n",
    "    return \"\".join(prefix)"
   ]
  },
  {
   "cell_type": "code",
   "execution_count": 6,
   "id": "1eca492f",
   "metadata": {},
   "outputs": [
    {
     "data": {
      "text/plain": [
       "'fl'"
      ]
     },
     "execution_count": 6,
     "metadata": {},
     "output_type": "execute_result"
    }
   ],
   "source": [
    "longest_common_prefix([\"flower\",\"flow\",\"flight\"])"
   ]
  },
  {
   "cell_type": "code",
   "execution_count": 7,
   "id": "a76d500d",
   "metadata": {},
   "outputs": [
    {
     "data": {
      "text/plain": [
       "''"
      ]
     },
     "execution_count": 7,
     "metadata": {},
     "output_type": "execute_result"
    }
   ],
   "source": [
    "longest_common_prefix([\"abc\", \"def\"])"
   ]
  },
  {
   "cell_type": "code",
   "execution_count": null,
   "id": "1eba2457",
   "metadata": {},
   "outputs": [],
   "source": []
  }
 ],
 "metadata": {
  "kernelspec": {
   "display_name": ".venv",
   "language": "python",
   "name": "python3"
  },
  "language_info": {
   "codemirror_mode": {
    "name": "ipython",
    "version": 3
   },
   "file_extension": ".py",
   "mimetype": "text/x-python",
   "name": "python",
   "nbconvert_exporter": "python",
   "pygments_lexer": "ipython3",
   "version": "3.11.1"
  }
 },
 "nbformat": 4,
 "nbformat_minor": 5
}
