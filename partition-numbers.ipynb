{
 "cells": [
  {
   "cell_type": "markdown",
   "metadata": {},
   "source": [
    "Puzzle: https://code.golf/partition-numbers\n",
    "\n",
    "The nth partition number is the number of ways that n can be expressed as the sum of positive integers, where ordering does not matter.\n",
    "For example, 4 can be partitioned in five distinct ways:\n",
    "\n",
    "4\n",
    "3 + 1\n",
    "2 + 2\n",
    "1 + 2 + 1\n",
    "1 + 1 + 1 + 1\n",
    "\n",
    "Print the first 100 partition numbers, each on a separate line."
   ]
  },
  {
   "cell_type": "code",
   "execution_count": 225,
   "metadata": {},
   "outputs": [
    {
     "name": "stdout",
     "output_type": "stream",
     "text": [
      "1 : 1\n",
      "2 : 2\n",
      "3 : 3\n",
      "4 : 5\n",
      "5 : 7\n",
      "6 : 11\n",
      "7 : 15\n",
      "8 : 22\n",
      "9 : 30\n",
      "10 : 42\n",
      "11 : 56\n",
      "12 : 77\n",
      "13 : 101\n",
      "14 : 135\n",
      "15 : 176\n",
      "16 : 231\n",
      "17 : 297\n",
      "18 : 385\n",
      "19 : 490\n",
      "20 : 627\n",
      "21 : 792\n",
      "22 : 1002\n",
      "23 : 1255\n",
      "24 : 1575\n",
      "25 : 1958\n",
      "26 : 2436\n",
      "27 : 3010\n",
      "28 : 3718\n",
      "29 : 4565\n",
      "30 : 5604\n"
     ]
    }
   ],
   "source": [
    "# This method is a very satifying algorithm but is very inefficient for numbers greater than 40.\n",
    "# Holding all the partitions in memory from the previous step and looping through them is very slow.\n",
    "\n",
    "def add_one(t):\n",
    "\tyield t + (1,)\n",
    "\tfor q in set(t):\n",
    "\t\ti = t.index(q)\n",
    "\t\tl = list(t)\n",
    "\t\tl.pop(i)\n",
    "\t\tl.insert(i, q+1)\n",
    "\t\tyield tuple(l)\n",
    "  \n",
    "k, _old = 1, {(1,)}\n",
    "print(k, \":\",len(_old))\n",
    "while k < 30:\n",
    "\t_new = set()\n",
    "\tfor _partition in _old:\n",
    "\t\t_new.update(add_one(_partition))\n",
    "\t_old = _new\n",
    "\tk += 1\n",
    "\tprint(k, \":\",len(_new))"
   ]
  },
  {
   "cell_type": "markdown",
   "metadata": {},
   "source": [
    "Thankfully, Euler has solved the problem for us.\n",
    "\n",
    "$$p(n) = \\sum_{k\\in\\mathbb{Z}\\setminus\\{0\\}} (-1)^{k+1} p(n-k(3k-1)/2)$$\n",
    "\n"
   ]
  },
  {
   "cell_type": "code",
   "execution_count": 201,
   "metadata": {},
   "outputs": [],
   "source": [
    "def pentagonal_generator():\n",
    "\t\"\"\"Generator for the generalised pentagonal numbers\"\"\"\n",
    "\tk = 1\n",
    "\twhile True:\n",
    "\t\tyield k*(3*k-1)/2\n",
    "\t\tyield k*(3*k+1)/2\n",
    "\t\tk += 1\n",
    "\n",
    "def pentagonal(n):\n",
    "\t\"\"\"Generator for the generalised pentagonal numbers up to n\"\"\"\n",
    "\tg = pentagonal_generator()\n",
    "\tr = next(g)\n",
    "\twhile r <= n:\n",
    "\t\tyield r\n",
    "\t\tr = next(g)"
   ]
  },
  {
   "cell_type": "code",
   "execution_count": 226,
   "metadata": {},
   "outputs": [
    {
     "name": "stdout",
     "output_type": "stream",
     "text": [
      "1\n",
      "2\n",
      "3\n",
      "5\n",
      "7\n",
      "11\n",
      "15\n",
      "22\n",
      "30\n",
      "42\n",
      "56\n",
      "77\n",
      "101\n",
      "135\n",
      "176\n",
      "231\n",
      "297\n",
      "385\n",
      "490\n",
      "627\n",
      "792\n",
      "1002\n",
      "1255\n",
      "1575\n",
      "1958\n",
      "2436\n",
      "3010\n",
      "3718\n",
      "4565\n",
      "5604\n",
      "6842\n",
      "8349\n",
      "10143\n",
      "12310\n",
      "14883\n",
      "17977\n",
      "21637\n",
      "26015\n",
      "31185\n",
      "37338\n",
      "44583\n",
      "53174\n",
      "63261\n",
      "75175\n",
      "89134\n",
      "105558\n",
      "124754\n",
      "147273\n",
      "173525\n",
      "204226\n",
      "239943\n",
      "281589\n",
      "329931\n",
      "386155\n",
      "451276\n",
      "526823\n",
      "614154\n",
      "715220\n",
      "831820\n",
      "966467\n",
      "1121505\n",
      "1300156\n",
      "1505499\n",
      "1741630\n",
      "2012558\n",
      "2323520\n",
      "2679689\n",
      "3087735\n",
      "3554345\n",
      "4087968\n",
      "4697205\n",
      "5392783\n",
      "6185689\n",
      "7089500\n",
      "8118264\n",
      "9289091\n",
      "10619863\n",
      "12132164\n",
      "13848650\n",
      "15796476\n",
      "18004327\n",
      "20506255\n",
      "23338469\n",
      "26543660\n",
      "30167357\n",
      "34262962\n",
      "38887673\n",
      "44108109\n",
      "49995925\n",
      "56634173\n",
      "64112359\n",
      "72533807\n",
      "82010177\n",
      "92669720\n",
      "104651419\n",
      "118114304\n",
      "133230930\n",
      "150198136\n",
      "169229875\n",
      "190569292\n"
     ]
    }
   ],
   "source": [
    "d = {0: 1}\n",
    "\n",
    "def p(n):\n",
    "    if n in d:\n",
    "        return d[n]\n",
    "    s, j = 0, 0\n",
    "    for t in pentagonal(n):\n",
    "        s += (-1)**(j//2) * p(n-t)\n",
    "        j += 1\n",
    "    d[n] = s\n",
    "    return s\n",
    "\n",
    "for n in range(1, 101):\n",
    "    print(p(n))"
   ]
  },
  {
   "cell_type": "code",
   "execution_count": 279,
   "metadata": {},
   "outputs": [],
   "source": [
    "from random import random\n",
    "from math import floor\n",
    "import pandas as pd\n"
   ]
  },
  {
   "cell_type": "code",
   "execution_count": 286,
   "metadata": {},
   "outputs": [],
   "source": [
    "s = pd.Series([floor(random() * 23 + 3) for _ in range(10000)])"
   ]
  },
  {
   "cell_type": "code",
   "execution_count": 292,
   "metadata": {},
   "outputs": [
    {
     "data": {
      "text/plain": [
       "count    10000.000000\n",
       "mean        13.969200\n",
       "std          6.600213\n",
       "min          3.000000\n",
       "25%          8.000000\n",
       "50%         14.000000\n",
       "75%         20.000000\n",
       "max         25.000000\n",
       "dtype: float64"
      ]
     },
     "execution_count": 292,
     "metadata": {},
     "output_type": "execute_result"
    }
   ],
   "source": [
    "s.describe()"
   ]
  },
  {
   "cell_type": "code",
   "execution_count": 291,
   "metadata": {},
   "outputs": [
    {
     "data": {
      "text/plain": [
       "<Axes: >"
      ]
     },
     "execution_count": 291,
     "metadata": {},
     "output_type": "execute_result"
    },
    {
     "data": {
      "image/png": "[encoded data removed]",
      "text/plain": [
       "<Figure size 640x480 with 1 Axes>"
      ]
     },
     "metadata": {},
     "output_type": "display_data"
    }
   ],
   "source": [
    "s.hist(bins=list(range(0, 30)))"
   ]
  },
  {
   "cell_type": "code",
   "execution_count": null,
   "metadata": {},
   "outputs": [],
   "source": []
  }
 ],
 "metadata": {
  "kernelspec": {
   "display_name": "Python 3",
   "language": "python",
   "name": "python3"
  },
  "language_info": {
   "codemirror_mode": {
    "name": "ipython",
    "version": 3
   },
   "file_extension": ".py",
   "mimetype": "text/x-python",
   "name": "python",
   "nbconvert_exporter": "python",
   "pygments_lexer": "ipython3",
   "version": "3.11.1"
  }
 },
 "nbformat": 4,
 "nbformat_minor": 2
}
