{
 "cells": [
  {
   "cell_type": "markdown",
   "id": "5d848b52",
   "metadata": {},
   "source": [
    "# 880. Decoded String at Index\n",
    "\n",
    "You are given an encoded string s. To decode the string to a tape, the encoded string is read one character at a time and the following steps are taken:\n",
    "\n",
    "- If the character read is a letter, that letter is written onto the tape.\n",
    "- If the character read is a digit d, the entire current tape is repeatedly written d - 1 more times in total.\n",
    "\n",
    "Given an integer k, return the kth letter (1-indexed) in the decoded string."
   ]
  },
  {
   "cell_type": "code",
   "execution_count": 242,
   "id": "ce1e1844",
   "metadata": {},
   "outputs": [],
   "source": [
    "from test_cases import Test\n",
    "\n",
    "test = Test(\n",
    "    ({\"s\": \"leet2code3\", \"k\": 10}, \"o\")\n",
    ")"
   ]
  },
  {
   "cell_type": "code",
   "execution_count": 243,
   "id": "2966416c",
   "metadata": {},
   "outputs": [],
   "source": [
    "s = \"leet2code3\""
   ]
  },
  {
   "cell_type": "code",
   "execution_count": 244,
   "id": "00c5282e",
   "metadata": {},
   "outputs": [],
   "source": [
    "import re\n",
    "\n",
    "def split_encoded(s: str):\n",
    "    for _item in re.split(r\"(?=\\d)|(?<=\\d)\", s):\n",
    "        if not _item:\n",
    "            continue\n",
    "        if _item in \"23456789\":\n",
    "            yield int(_item)\n",
    "        else:\n",
    "            yield _item"
   ]
  },
  {
   "cell_type": "code",
   "execution_count": 245,
   "id": "366fd339",
   "metadata": {},
   "outputs": [
    {
     "data": {
      "text/plain": [
       "['leet', 2, 'code', 3]"
      ]
     },
     "execution_count": 245,
     "metadata": {},
     "output_type": "execute_result"
    }
   ],
   "source": [
    "list(split_encoded(\"leet2code3\"))"
   ]
  },
  {
   "cell_type": "code",
   "execution_count": 251,
   "id": "8865e381",
   "metadata": {},
   "outputs": [],
   "source": [
    "import re\n",
    "\n",
    "class NestedString:\n",
    "    def __init__(self, value, repeat: int = 1, extra: str = \"\"):\n",
    "        self.value = value\n",
    "        self.repeat = repeat\n",
    "        self.extra = extra\n",
    "        self._len = None\n",
    "        \n",
    "    @classmethod\n",
    "    def decode(cls, s: str):\n",
    "        _split = re.split(r\"(?=\\d)|(?<=\\d)\", s)\n",
    "        a = _split[0]\n",
    "        for _item in _split[1:]:\n",
    "            if not _item:\n",
    "                continue\n",
    "            if _item in \"23456789\":\n",
    "                a = cls(a, int(_item))\n",
    "            else:\n",
    "                a = a + _item\n",
    "        return a\n",
    "            \n",
    "    def __len__(self):\n",
    "        if self._len is None:\n",
    "            self._len = len(self.value) * self.repeat + len(self.extra)\n",
    "        return self._len\n",
    "    \n",
    "    def __add__(self, other: str):\n",
    "        return self.__class__(self.value, self.repeat, self.extra+other)\n",
    "    \n",
    "    def __str__(self):\n",
    "        return self.value.__str__() * self.repeat + self.extra\n",
    "    \n",
    "    def __repr__(self):\n",
    "        return f\"'{self.__str__()}'\"\n",
    "    \n",
    "    def __getitem__(self, index):\n",
    "        if index >= self.__len__() or index < 0:\n",
    "            raise IndexError\n",
    "        \n",
    "        # print(f\"getting item {index} of {self}\")\n",
    "        \n",
    "        j = index - (self.__len__() - len(self.extra))\n",
    "        if j >= 0:\n",
    "            # print(f\"getting item {j} of {self.extra}\")\n",
    "            return self.extra[j]\n",
    "        \n",
    "        j = index % len(self.value)\n",
    "        return self.value[j]"
   ]
  },
  {
   "cell_type": "code",
   "execution_count": 252,
   "id": "2c90e2d8",
   "metadata": {},
   "outputs": [],
   "source": [
    "r = NestedString.decode(\"leet2code3\")"
   ]
  },
  {
   "cell_type": "code",
   "execution_count": 253,
   "id": "5e1b92fa",
   "metadata": {},
   "outputs": [
    {
     "data": {
      "text/plain": [
       "'o'"
      ]
     },
     "execution_count": 253,
     "metadata": {},
     "output_type": "execute_result"
    }
   ],
   "source": [
    "r[9]"
   ]
  },
  {
   "cell_type": "code",
   "execution_count": 254,
   "id": "6e07abef",
   "metadata": {},
   "outputs": [],
   "source": [
    "def get_letter_at_index(s: str, k: int):\n",
    "    r = NestedString.decode(s)\n",
    "    return r[k-1]"
   ]
  },
  {
   "cell_type": "code",
   "execution_count": 255,
   "id": "7713176e",
   "metadata": {},
   "outputs": [
    {
     "name": "stdout",
     "output_type": "stream",
     "text": [
      "All tests passed\n"
     ]
    }
   ],
   "source": [
    "test(get_letter_at_index)"
   ]
  },
  {
   "cell_type": "code",
   "execution_count": null,
   "id": "1344f752",
   "metadata": {},
   "outputs": [],
   "source": []
  },
  {
   "cell_type": "code",
   "execution_count": null,
   "id": "6cec5724",
   "metadata": {},
   "outputs": [],
   "source": []
  },
  {
   "cell_type": "code",
   "execution_count": null,
   "id": "eb04b7a3",
   "metadata": {},
   "outputs": [],
   "source": []
  },
  {
   "cell_type": "code",
   "execution_count": null,
   "id": "1d50aac2",
   "metadata": {},
   "outputs": [],
   "source": []
  },
  {
   "cell_type": "markdown",
   "id": "a2eda251",
   "metadata": {},
   "source": [
    "# A simpler case:"
   ]
  },
  {
   "cell_type": "code",
   "execution_count": null,
   "id": "b43cd0cb",
   "metadata": {},
   "outputs": [],
   "source": [
    "class RepeatedString:\n",
    "    \"\"\"String s repeated n times\"\"\"\n",
    "    def __init__(self, s: str, n: int):\n",
    "        self.s = s\n",
    "        self.n = n\n",
    "        \n",
    "    def __str__(self):\n",
    "        return self.s * self.n\n",
    "\n",
    "    def __len__(self):\n",
    "        return len(self.s) * self.n\n",
    "    \n",
    "    def __getitem__(self, index: int):\n",
    "        return self.s[index%len(self.s)]"
   ]
  },
  {
   "cell_type": "code",
   "execution_count": 257,
   "id": "ca43ac55",
   "metadata": {},
   "outputs": [],
   "source": [
    "r = RepeatedString(\"hello\", 5)"
   ]
  },
  {
   "cell_type": "code",
   "execution_count": 266,
   "id": "bdb6bc26",
   "metadata": {},
   "outputs": [
    {
     "data": {
      "text/plain": [
       "25"
      ]
     },
     "execution_count": 266,
     "metadata": {},
     "output_type": "execute_result"
    }
   ],
   "source": [
    "len(r)"
   ]
  },
  {
   "cell_type": "code",
   "execution_count": 262,
   "id": "1419901a",
   "metadata": {},
   "outputs": [
    {
     "data": {
      "text/plain": [
       "'hellohellohellohellohello'"
      ]
     },
     "execution_count": 262,
     "metadata": {},
     "output_type": "execute_result"
    }
   ],
   "source": [
    "str(r)"
   ]
  },
  {
   "cell_type": "code",
   "execution_count": 264,
   "id": "8f5a7171",
   "metadata": {},
   "outputs": [
    {
     "data": {
      "text/plain": [
       "'e'"
      ]
     },
     "execution_count": 264,
     "metadata": {},
     "output_type": "execute_result"
    }
   ],
   "source": [
    "str(r)[16]"
   ]
  },
  {
   "cell_type": "code",
   "execution_count": 265,
   "id": "a7cdf818",
   "metadata": {},
   "outputs": [
    {
     "data": {
      "text/plain": [
       "'e'"
      ]
     },
     "execution_count": 265,
     "metadata": {},
     "output_type": "execute_result"
    }
   ],
   "source": [
    "r[16]"
   ]
  },
  {
   "cell_type": "code",
   "execution_count": null,
   "id": "0b977d67",
   "metadata": {},
   "outputs": [],
   "source": []
  }
 ],
 "metadata": {
  "kernelspec": {
   "display_name": ".venv",
   "language": "python",
   "name": "python3"
  },
  "language_info": {
   "codemirror_mode": {
    "name": "ipython",
    "version": 3
   },
   "file_extension": ".py",
   "mimetype": "text/x-python",
   "name": "python",
   "nbconvert_exporter": "python",
   "pygments_lexer": "ipython3",
   "version": "3.11.1"
  }
 },
 "nbformat": 4,
 "nbformat_minor": 5
}
