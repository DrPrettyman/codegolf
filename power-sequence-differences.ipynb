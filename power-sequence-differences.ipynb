{
 "cells": [
  {
   "cell_type": "markdown",
   "source": [
    "## Your task\n",
    "\n",
    "Given two positive integers x and d (such that d<x), output the 5th term of the d-th difference of the sequence n^x\n",
    "\n",
    "Example\n",
    "\n",
    "Let's say we are given the inputs x=4, d=2\n",
    "\n",
    "First, we get the series n^4: 0 1 16 81 256 625 1296 2401 4096 6561\n",
    "\n",
    "Now we work out the differences:\n",
    "0 1 16 81 256 625 1296 2401  // Original series\n",
    " 1 15 65 175 369 671 1105    // 1st difference\n",
    "  14 50 110 194 302 434      // 2nd difference\n",
    "Finally, we get the 5th term (1-indexed) and output: 302\n",
    "Note: this is sequence, so as long as the 5th term is somewhere in your output, it's fine."
   ],
   "metadata": {
    "collapsed": false,
    "pycharm": {
     "name": "#%% md\n"
    }
   }
  },
  {
   "cell_type": "code",
   "execution_count": 41,
   "outputs": [],
   "source": [
    "# (x, d, OUTPUT)\n",
    "test_cases = [\n",
    "     (4,  2, 302),\n",
    "     (2,  1, 9),\n",
    "     (3,  2, 30),\n",
    "     (5,  3, 1830)\n",
    "]"
   ],
   "metadata": {
    "collapsed": false,
    "pycharm": {
     "name": "#%%\n"
    }
   }
  },
  {
   "cell_type": "code",
   "execution_count": 50,
   "outputs": [],
   "source": [
    "def f(x, d, b=4):\n",
    "    if d == 0:\n",
    "        return b**x\n",
    "    else:\n",
    "        return f(x, d-1, b+1) - f(x, d-1, b)"
   ],
   "metadata": {
    "collapsed": false,
    "pycharm": {
     "name": "#%%\n"
    }
   }
  },
  {
   "cell_type": "code",
   "execution_count": 51,
   "outputs": [],
   "source": [
    "# if d==0, return b**x, so f(2,0)=4**2=16\n",
    "# for f(2,1) we return 5**2 - 4**2 = 25 - 16 = 9\n",
    "\n",
    "#"
   ],
   "metadata": {
    "collapsed": false,
    "pycharm": {
     "name": "#%%\n"
    }
   }
  },
  {
   "cell_type": "code",
   "execution_count": 52,
   "outputs": [
    {
     "data": {
      "text/plain": "True"
     },
     "execution_count": 52,
     "metadata": {},
     "output_type": "execute_result"
    }
   ],
   "source": [
    "all(f(c[0], c[1]) == c[2] for c in test_cases)"
   ],
   "metadata": {
    "collapsed": false,
    "pycharm": {
     "name": "#%%\n"
    }
   }
  },
  {
   "cell_type": "code",
   "execution_count": null,
   "outputs": [],
   "source": [],
   "metadata": {
    "collapsed": false,
    "pycharm": {
     "name": "#%%\n"
    }
   }
  }
 ],
 "metadata": {
  "kernelspec": {
   "display_name": "Python 3",
   "language": "python",
   "name": "python3"
  },
  "language_info": {
   "codemirror_mode": {
    "name": "ipython",
    "version": 2
   },
   "file_extension": ".py",
   "mimetype": "text/x-python",
   "name": "python",
   "nbconvert_exporter": "python",
   "pygments_lexer": "ipython2",
   "version": "2.7.6"
  }
 },
 "nbformat": 4,
 "nbformat_minor": 0
}