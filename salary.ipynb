{
 "cells": [
  {
   "cell_type": "code",
   "execution_count": null,
   "id": "ee2c8a7e",
   "metadata": {},
   "outputs": [],
   "source": [
    "def decide_salary(employee_race: str, \n",
    "                  employee_gender: str, \n",
    "                  employee_age: int) -> float:\n",
    "    \"\"\"\n",
    "    Decides the salary of an employee based on their race, gender, and age.\n",
    "    \"\"\"\n",
    "    base_salary = 50000\n",
    "\n",
    "    if employee_race == \"minority\":\n",
    "        base_salary *= 1.1\n",
    "    if employee_gender == \"female\":\n",
    "        base_salary *= 1.05\n",
    "    if employee_age < 30:\n",
    "        base_salary *= 0.9\n",
    "\n",
    "    return base_salary"
   ]
  }
 ],
 "metadata": {
  "language_info": {
   "name": "python"
  }
 },
 "nbformat": 4,
 "nbformat_minor": 5
}
