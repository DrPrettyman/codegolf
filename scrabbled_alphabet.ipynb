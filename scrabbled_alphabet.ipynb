{
 "cells": [
  {
   "cell_type": "code",
   "execution_count": 30,
   "id": "14ac8af5",
   "metadata": {},
   "outputs": [],
   "source": [
    "import sys\n",
    "import string"
   ]
  },
  {
   "cell_type": "code",
   "execution_count": null,
   "id": "7b6d4f6a",
   "metadata": {},
   "outputs": [
    {
     "data": {
      "text/plain": [
       "'abcdefghijklmnopqrstuvwxyz'"
      ]
     },
     "execution_count": 34,
     "metadata": {},
     "output_type": "execute_result"
    }
   ],
   "source": [
    "string.ascii_lowercase\n",
    "alphabet = \"htjqdgrfaxumibevzwkcsoplyn\" "
   ]
  },
  {
   "cell_type": "code",
   "execution_count": 37,
   "id": "87f12639",
   "metadata": {},
   "outputs": [],
   "source": [
    "d = dict(zip(alphabet, string.ascii_lowercase))"
   ]
  },
  {
   "cell_type": "code",
   "execution_count": 60,
   "id": "7dbaa541",
   "metadata": {},
   "outputs": [],
   "source": [
    "alphabet = \"htjqdgrfaxumibevzwkcsoplyn\" \n",
    "words = \"give however become early nation large\".split()\n",
    "\n",
    "tups = [(tuple(alphabet.index(c) for c in word), word) for word in words]\n",
    "mwords = [(\"\".join(d[c] for c in word), word) for word in words]"
   ]
  },
  {
   "cell_type": "code",
   "execution_count": 61,
   "id": "64922e4c",
   "metadata": {},
   "outputs": [
    {
     "data": {
      "text/plain": [
       "'however give become early large nation'"
      ]
     },
     "execution_count": 61,
     "metadata": {},
     "output_type": "execute_result"
    }
   ],
   "source": [
    "\" \".join(t[1] for t in sorted(mwords))"
   ]
  },
  {
   "cell_type": "code",
   "execution_count": 62,
   "id": "e4f6d832",
   "metadata": {},
   "outputs": [
    {
     "data": {
      "text/plain": [
       "'however give become early large nation'"
      ]
     },
     "execution_count": 62,
     "metadata": {},
     "output_type": "execute_result"
    }
   ],
   "source": [
    "\" \".join(t[1] for t in sorted(tups))"
   ]
  },
  {
   "cell_type": "code",
   "execution_count": null,
   "id": "7d9ad815",
   "metadata": {},
   "outputs": [],
   "source": []
  }
 ],
 "metadata": {
  "kernelspec": {
   "display_name": "Python 3",
   "language": "python",
   "name": "python3"
  },
  "language_info": {
   "codemirror_mode": {
    "name": "ipython",
    "version": 3
   },
   "file_extension": ".py",
   "mimetype": "text/x-python",
   "name": "python",
   "nbconvert_exporter": "python",
   "pygments_lexer": "ipython3",
   "version": "3.10.0"
  }
 },
 "nbformat": 4,
 "nbformat_minor": 5
}
