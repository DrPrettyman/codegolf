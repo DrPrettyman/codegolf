{
 "cells": [
  {
   "metadata": {
    "ExecuteTime": {
     "end_time": "2024-10-31T09:40:26.057414Z",
     "start_time": "2024-10-31T09:40:26.053538Z"
    }
   },
   "cell_type": "code",
   "source": [
    "import copy\n",
    "import random\n",
    "from time import perf_counter\n",
    "\n",
    "test_list = random.sample(range(1, 10_000), 1_000)\n",
    "test_list_sorted = sorted(test_list)\n",
    "\n",
    "def test(sort_function):\n",
    "    _test_list = copy.copy(test_list)\n",
    "    _test_list_sorted = copy.copy(test_list_sorted)\n",
    "    start = perf_counter()\n",
    "    sorted_list = sort_function(_test_list)\n",
    "    time_taken = perf_counter() - start\n",
    "    \n",
    "    print(\"Passes:    \", sorted_list==_test_list_sorted)\n",
    "    print(\"Time taken:\", time_taken)"
   ],
   "id": "d59b02bc5bcc43a0",
   "outputs": [],
   "execution_count": 49
  },
  {
   "metadata": {
    "ExecuteTime": {
     "end_time": "2024-10-31T09:35:55.098522Z",
     "start_time": "2024-10-31T09:35:55.096886Z"
    }
   },
   "cell_type": "code",
   "source": "",
   "id": "b69ff4029df39fbf",
   "outputs": [],
   "execution_count": null
  },
  {
   "metadata": {},
   "cell_type": "markdown",
   "source": [
    "### Bubble Sort \n",
    "\n",
    "is the simplest sorting algorithm that works by repeatedly swapping the adjacent elements if they are in the wrong order. This algorithm is not suitable for large data sets as its average and worst-case time complexity are quite high.\n",
    "\n",
    "We sort the array using multiple passes. After the first pass, the maximum element goes to end (its correct position). Same way, after second pass, the second largest element goes to second last position and so on.\n",
    "In every pass, we process only those elements that have already not moved to correct position. After k passes, the largest k elements must have been moved to the last k positions.\n",
    "In a pass, we consider remaining elements and compare all adjacent and swap if larger element is before a smaller element. If we keep doing this, we get the largest (among the remaining elements) at its correct position."
   ],
   "id": "33e88356a44e51de"
  },
  {
   "metadata": {
    "ExecuteTime": {
     "end_time": "2024-10-31T09:40:27.917358Z",
     "start_time": "2024-10-31T09:40:27.913613Z"
    }
   },
   "cell_type": "code",
   "source": [
    "def bubble_sort(lst):\n",
    "    n = len(lst)\n",
    "    \n",
    "    for i in range(n):\n",
    "        for j in range(n-i-1):\n",
    "            if lst[j] > lst[j+1]:\n",
    "                lst[j], lst[j+1] = lst[j+1], lst[j]\n",
    "                \n",
    "    return lst"
   ],
   "id": "e064310505a0ae5e",
   "outputs": [],
   "execution_count": 50
  },
  {
   "metadata": {
    "ExecuteTime": {
     "end_time": "2024-10-31T09:40:28.123011Z",
     "start_time": "2024-10-31T09:40:28.090038Z"
    }
   },
   "cell_type": "code",
   "source": "test(bubble_sort)",
   "id": "e0cbcb9bbaa7ba38",
   "outputs": [
    {
     "name": "stdout",
     "output_type": "stream",
     "text": [
      "Passes:     True\n",
      "Time taken: 0.030981834046542645\n"
     ]
    }
   ],
   "execution_count": 51
  },
  {
   "metadata": {},
   "cell_type": "markdown",
   "source": [
    "### Insertion sort \n",
    "\n",
    "is a simple sorting algorithm that works by iteratively inserting each element of an unsorted list into its correct position in a sorted portion of the list. It is like sorting playing cards in your hands. You split the cards into two groups: the sorted cards and the unsorted cards. Then, you pick a card from the unsorted group and put it in the right place in the sorted group.\n",
    "\n",
    "We start with second element of the array as first element in the array is assumed to be sorted.\n",
    "Compare second element with the first element and check if the second element is smaller then swap them.\n",
    "Move to the third element and compare it with the first two elements and put at its correct position\n",
    "Repeat until the entire array is sorted."
   ],
   "id": "157e03bec832412e"
  },
  {
   "metadata": {
    "ExecuteTime": {
     "end_time": "2024-10-31T09:40:30.401549Z",
     "start_time": "2024-10-31T09:40:30.397699Z"
    }
   },
   "cell_type": "code",
   "source": [
    "def insertion_sort(lst):\n",
    "    new_lst = [lst.pop(0)]\n",
    "\n",
    "    while len(lst) > 0:\n",
    "        item = lst.pop(0)\n",
    "        for i in range(len(new_lst)):\n",
    "            if item < new_lst[i]:\n",
    "                new_lst = new_lst[:i] + [item] + new_lst[i:]\n",
    "                break\n",
    "        else:\n",
    "            new_lst.append(item)\n",
    "            \n",
    "    return new_lst"
   ],
   "id": "9fe0526fd292598f",
   "outputs": [],
   "execution_count": 52
  },
  {
   "metadata": {
    "ExecuteTime": {
     "end_time": "2024-10-31T09:40:30.565086Z",
     "start_time": "2024-10-31T09:40:30.555261Z"
    }
   },
   "cell_type": "code",
   "source": "test(insertion_sort)",
   "id": "436292fad495dd10",
   "outputs": [
    {
     "name": "stdout",
     "output_type": "stream",
     "text": [
      "Passes:     True\n",
      "Time taken: 0.0077142908703535795\n"
     ]
    }
   ],
   "execution_count": 53
  },
  {
   "metadata": {},
   "cell_type": "markdown",
   "source": [
    "### Selection Sort \n",
    "\n",
    "is a comparison-based sorting algorithm. It sorts an array by repeatedly selecting the smallest (or largest) element from the unsorted portion and swapping it with the first unsorted element. This process continues until the entire array is sorted.\n",
    "\n",
    "First we find the smallest element and swap it with the first element. This way we get the smallest element at its correct position.\n",
    "Then we find the smallest among remaining elements (or second smallest) and move it to its correct position by swapping.\n",
    "We keep doing this until we get all elements moved to correct position."
   ],
   "id": "2b0a5c572e3d291c"
  },
  {
   "metadata": {
    "ExecuteTime": {
     "end_time": "2024-10-31T09:40:32.528456Z",
     "start_time": "2024-10-31T09:40:32.525784Z"
    }
   },
   "cell_type": "code",
   "source": [
    "def selection_sort(lst):\n",
    "    n = len(lst)\n",
    "    \n",
    "    for i in range(n-1):\n",
    "        min_index = i\n",
    "        \n",
    "        for j in range(i+1, n):\n",
    "            if lst[j] < lst[min_index]:\n",
    "                min_index = j\n",
    "                \n",
    "        lst[i], lst[min_index] = lst[min_index], lst[i]\n",
    "        \n",
    "    return lst"
   ],
   "id": "6288605036aaf373",
   "outputs": [],
   "execution_count": 54
  },
  {
   "metadata": {
    "ExecuteTime": {
     "end_time": "2024-10-31T09:40:32.581132Z",
     "start_time": "2024-10-31T09:40:32.564775Z"
    }
   },
   "cell_type": "code",
   "source": "test(selection_sort)",
   "id": "d724bb2fe02c7c12",
   "outputs": [
    {
     "name": "stdout",
     "output_type": "stream",
     "text": [
      "Passes:     True\n",
      "Time taken: 0.014324082992970943\n"
     ]
    }
   ],
   "execution_count": 55
  },
  {
   "metadata": {},
   "cell_type": "markdown",
   "source": "### Quick Sort",
   "id": "127f5e3a26058b57"
  },
  {
   "metadata": {},
   "cell_type": "code",
   "outputs": [],
   "execution_count": null,
   "source": "",
   "id": "5a4564f2361844d2"
  },
  {
   "metadata": {},
   "cell_type": "code",
   "outputs": [],
   "execution_count": null,
   "source": "",
   "id": "69ab896c3c715f95"
  },
  {
   "metadata": {},
   "cell_type": "code",
   "outputs": [],
   "execution_count": null,
   "source": "",
   "id": "1df9b2d5b706280d"
  },
  {
   "metadata": {},
   "cell_type": "code",
   "outputs": [],
   "execution_count": null,
   "source": "",
   "id": "828efca27813ec2c"
  }
 ],
 "metadata": {
  "kernelspec": {
   "display_name": "Python 3",
   "language": "python",
   "name": "python3"
  },
  "language_info": {
   "codemirror_mode": {
    "name": "ipython",
    "version": 2
   },
   "file_extension": ".py",
   "mimetype": "text/x-python",
   "name": "python",
   "nbconvert_exporter": "python",
   "pygments_lexer": "ipython2",
   "version": "2.7.6"
  }
 },
 "nbformat": 4,
 "nbformat_minor": 5
}
