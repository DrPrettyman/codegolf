{
 "cells": [
  {
   "cell_type": "code",
   "execution_count": 8,
   "id": "d7a76951",
   "metadata": {},
   "outputs": [],
   "source": [
    "def bubble_sort(arr):\n",
    "    \"\"\"\n",
    "    Bubble Sort implementation.\n",
    "    Repeatedly steps through the list, compares adjacent elements, and swaps them if they are in the wrong order.\n",
    "    \"\"\"\n",
    "    n = len(arr)\n",
    "    for i in range(n):\n",
    "        # Flag to optimize if no swaps are made in a pass\n",
    "        swapped = False\n",
    "        \n",
    "        # Last i elements are already in place\n",
    "        for j in range(0, n - i - 1):\n",
    "            # Compare adjacent elements\n",
    "            if arr[j] > arr[j + 1]:\n",
    "                arr[j], arr[j + 1] = arr[j + 1], arr[j]\n",
    "                swapped = True\n",
    "        \n",
    "        # If no swaps were made in this pass, array is sorted\n",
    "        if not swapped:\n",
    "            break\n",
    "        \n",
    "def partition(arr, low, high):\n",
    "    \"\"\"\n",
    "    Lomuto partition scheme.\n",
    "    \"\"\"\n",
    "    # Choose the rightmost element as pivot\n",
    "    pivot = arr[high]\n",
    "    \n",
    "    # Index of smaller element\n",
    "    i = low - 1\n",
    "    \n",
    "    for j in range(low, high):\n",
    "        # If current element is smaller than or equal to pivot\n",
    "        if arr[j] <= pivot:\n",
    "            i += 1\n",
    "            arr[i], arr[j] = arr[j], arr[i]\n",
    "    \n",
    "    # Place pivot in correct position\n",
    "    arr[i + 1], arr[high] = arr[high], arr[i + 1]\n",
    "    return i + 1\n",
    "        \n",
    "def quicksort(arr, low=0, high=None):\n",
    "    \"\"\"\n",
    "    Quick Sort implementation using Lomuto partition scheme.\n",
    "    \"\"\"\n",
    "    if high is None:\n",
    "        high = len(arr) - 1\n",
    "    \n",
    "    if low < high:\n",
    "        # Partition the array and get the pivot index\n",
    "        pivot_index = partition(arr, low, high)\n",
    "        \n",
    "        # Recursively sort elements before and after partition\n",
    "        quicksort(arr, low, pivot_index - 1)\n",
    "        quicksort(arr, pivot_index + 1, high)\n",
    "\n"
   ]
  },
  {
   "cell_type": "code",
   "execution_count": 31,
   "id": "3a12150b",
   "metadata": {},
   "outputs": [],
   "source": [
    "import random\n",
    "import copy\n",
    "from time import perf_counter_ns"
   ]
  },
  {
   "cell_type": "code",
   "execution_count": 15,
   "id": "970ee139",
   "metadata": {},
   "outputs": [
    {
     "name": "stdout",
     "output_type": "stream",
     "text": [
      "[0, 2, 3, 6, 7, 9]\n"
     ]
    }
   ],
   "source": [
    "arr = [7,2,6,3,9,0]\n",
    "quicksort(arr)\n",
    "print(arr)"
   ]
  },
  {
   "cell_type": "code",
   "execution_count": null,
   "id": "30a5b624",
   "metadata": {},
   "outputs": [],
   "source": []
  },
  {
   "cell_type": "code",
   "execution_count": 46,
   "id": "f194de61",
   "metadata": {},
   "outputs": [],
   "source": [
    "random.seed(42)  # For reproducibility\n",
    "# Generate a random list of integers\n",
    "\n",
    "def generate_random_list(n):\n",
    "    \"\"\"\n",
    "    Generates a list of n random integers between 1 and 100.\n",
    "    \"\"\"\n",
    "    if n <= 0:\n",
    "        return []\n",
    "    return [random.randint(1, 100) for _ in range(n)]\n"
   ]
  },
  {
   "cell_type": "code",
   "execution_count": 53,
   "id": "fde0b4b0",
   "metadata": {},
   "outputs": [],
   "source": [
    "arr = generate_random_list(10_000)"
   ]
  },
  {
   "cell_type": "code",
   "execution_count": 54,
   "id": "cc4cb778",
   "metadata": {},
   "outputs": [
    {
     "name": "stdout",
     "output_type": "stream",
     "text": [
      "Bubble sort:   3982844084 nanoseconds\n",
      "Quick sort:      49507833 nanoseconds\n",
      "Built-in sort:    2769125 nanoseconds\n"
     ]
    }
   ],
   "source": [
    "tic = perf_counter_ns()\n",
    "arr0 = copy.deepcopy(arr)  # Copy to avoid in-place sorting\n",
    "bubble_sort(arr0)\n",
    "toc = perf_counter_ns()\n",
    "print(f\"Bubble sort:   {toc - tic:>10} nanoseconds\")\n",
    "\n",
    "tic = perf_counter_ns()\n",
    "arr1 = copy.deepcopy(arr)\n",
    "quicksort(arr1)\n",
    "toc = perf_counter_ns()\n",
    "print(f\"Quick sort:    {toc - tic:>10} nanoseconds\")\n",
    "\n",
    "tic = perf_counter_ns()\n",
    "arr2 = copy.deepcopy(arr)\n",
    "# Using Python's built-in sort function\n",
    "arr2 = sorted(arr2)\n",
    "toc = perf_counter_ns()\n",
    "print(f\"Built-in sort: {toc - tic:>10} nanoseconds\")\n"
   ]
  },
  {
   "cell_type": "code",
   "execution_count": 43,
   "id": "94bc4c99",
   "metadata": {},
   "outputs": [
    {
     "data": {
      "text/plain": [
       "True"
      ]
     },
     "execution_count": 43,
     "metadata": {},
     "output_type": "execute_result"
    }
   ],
   "source": [
    "arr0==arr1"
   ]
  },
  {
   "cell_type": "code",
   "execution_count": 44,
   "id": "3a67d5c3",
   "metadata": {},
   "outputs": [
    {
     "data": {
      "text/plain": [
       "True"
      ]
     },
     "execution_count": 44,
     "metadata": {},
     "output_type": "execute_result"
    }
   ],
   "source": [
    "arr0==arr2"
   ]
  },
  {
   "cell_type": "code",
   "execution_count": 45,
   "id": "203db7c3",
   "metadata": {},
   "outputs": [
    {
     "data": {
      "text/plain": [
       "False"
      ]
     },
     "execution_count": 45,
     "metadata": {},
     "output_type": "execute_result"
    }
   ],
   "source": [
    "arr0==arr"
   ]
  },
  {
   "cell_type": "code",
   "execution_count": null,
   "id": "429a6d58",
   "metadata": {},
   "outputs": [],
   "source": []
  }
 ],
 "metadata": {
  "kernelspec": {
   "display_name": "Python 3",
   "language": "python",
   "name": "python3"
  },
  "language_info": {
   "codemirror_mode": {
    "name": "ipython",
    "version": 3
   },
   "file_extension": ".py",
   "mimetype": "text/x-python",
   "name": "python",
   "nbconvert_exporter": "python",
   "pygments_lexer": "ipython3",
   "version": "3.10.0"
  }
 },
 "nbformat": 4,
 "nbformat_minor": 5
}
