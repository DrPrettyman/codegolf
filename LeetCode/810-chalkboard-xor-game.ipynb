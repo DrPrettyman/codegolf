{
 "cells": [
  {
   "cell_type": "markdown",
   "metadata": {},
   "source": [
    "# 810. Chalkboard XOR Game\n",
    "\n",
    "You are given an array of integers nums represents the numbers written on a chalkboard.\n",
    "\n",
    "Alice and Bob take turns erasing exactly one number from the chalkboard, with Alice starting first. If erasing a number causes the bitwise XOR of all the elements of the chalkboard to become 0, then that player loses. The bitwise XOR of one element is that element itself, and the bitwise XOR of no elements is 0.\n",
    "\n",
    "Also, if any player starts their turn with the bitwise XOR of all the elements of the chalkboard equal to 0, then that player wins.\n",
    "\n",
    "Return true if and only if Alice wins the game, assuming both players play optimally."
   ]
  },
  {
   "cell_type": "code",
   "execution_count": 18,
   "metadata": {},
   "outputs": [],
   "source": [
    "from test_cases import Test\n",
    "\t\t\t\n",
    "test = Test(\n",
    "\t\t({\"numbers\": [1,1,2]}, False),\n",
    "\t\t({\"numbers\": [0,1]}, True),\n",
    "\t\t({\"numbers\": [1,2,3]}, True),\n",
    "\t\t({\"numbers\": [240,122,196,255,135,134,3,219,99,151]}, True)\n",
    ")"
   ]
  },
  {
   "cell_type": "code",
   "execution_count": 33,
   "metadata": {},
   "outputs": [],
   "source": [
    "def xor(numbers: list[int]):\n",
    "    result = 0\n",
    "    for n in numbers:\n",
    "        result ^= n\n",
    "    return result\n",
    "\n",
    "from functools import reduce\n",
    "import operator\n",
    "\n",
    "# def xor(numbers: list[int]):\n",
    "#     return reduce(operator.xor, numbers, 0)"
   ]
  },
  {
   "cell_type": "code",
   "execution_count": 37,
   "metadata": {},
   "outputs": [
    {
     "data": {
      "text/plain": [
       "156"
      ]
     },
     "execution_count": 37,
     "metadata": {},
     "output_type": "execute_result"
    }
   ],
   "source": [
    "reduce(operator.xor, [240,122,196,255,135,134,3,219,99,151], 0)"
   ]
  },
  {
   "cell_type": "code",
   "execution_count": 34,
   "metadata": {},
   "outputs": [
    {
     "data": {
      "text/plain": [
       "4"
      ]
     },
     "execution_count": 34,
     "metadata": {},
     "output_type": "execute_result"
    }
   ],
   "source": [
    "xor([1,1,6,2])"
   ]
  },
  {
   "cell_type": "code",
   "execution_count": 35,
   "metadata": {},
   "outputs": [],
   "source": [
    "def winnable(numbers: list[int]):\n",
    "    x = xor(numbers)\n",
    "    if x == 0:\n",
    "        return True\n",
    "    options = set(numbers)\n",
    "    outcomes = []\n",
    "    for _opt in options:\n",
    "        b = numbers.copy()\n",
    "        b.remove(_opt)\n",
    "        outcomes.append(winnable(b))\n",
    "    if all(r == True for r in outcomes):\n",
    "        return False\n",
    "    return True"
   ]
  },
  {
   "cell_type": "code",
   "execution_count": 36,
   "metadata": {},
   "outputs": [
    {
     "data": {
      "text/plain": [
       "True"
      ]
     },
     "execution_count": 36,
     "metadata": {},
     "output_type": "execute_result"
    }
   ],
   "source": [
    "winnable([240,122,196,255,135,134,3,219,99,151])"
   ]
  },
  {
   "cell_type": "code",
   "execution_count": 6,
   "metadata": {},
   "outputs": [
    {
     "name": "stdout",
     "output_type": "stream",
     "text": [
      "All tests passed\n"
     ]
    }
   ],
   "source": [
    "test(winnable)"
   ]
  },
  {
   "cell_type": "code",
   "execution_count": null,
   "metadata": {},
   "outputs": [],
   "source": []
  },
  {
   "cell_type": "code",
   "execution_count": null,
   "metadata": {},
   "outputs": [],
   "source": []
  },
  {
   "cell_type": "code",
   "execution_count": null,
   "metadata": {},
   "outputs": [],
   "source": []
  },
  {
   "cell_type": "code",
   "execution_count": 60,
   "metadata": {},
   "outputs": [
    {
     "data": {
      "text/plain": [
       "['11110000',\n",
       " '01111010',\n",
       " '11000100',\n",
       " '11111111',\n",
       " '10000111',\n",
       " '10000110',\n",
       " '00000011',\n",
       " '11011011',\n",
       " '01100011',\n",
       " '10010111']"
      ]
     },
     "execution_count": 60,
     "metadata": {},
     "output_type": "execute_result"
    }
   ],
   "source": [
    "bins = [bin(n)[2:] for n in [240,122,196,255,135,134,3,219,99,151]]\n",
    "m = max(len(b) for b in bins)\n",
    "bins = [f\"{b:0>{m}}\" for b in bins]\n",
    "bins"
   ]
  },
  {
   "cell_type": "code",
   "execution_count": 61,
   "metadata": {},
   "outputs": [],
   "source": [
    "from math import sqrt"
   ]
  },
  {
   "cell_type": "code",
   "execution_count": 62,
   "metadata": {},
   "outputs": [
    {
     "data": {
      "text/plain": [
       "2.23606797749979"
      ]
     },
     "execution_count": 62,
     "metadata": {},
     "output_type": "execute_result"
    }
   ],
   "source": [
    "sqrt(5)"
   ]
  },
  {
   "cell_type": "code",
   "execution_count": 63,
   "metadata": {},
   "outputs": [
    {
     "data": {
      "text/plain": [
       "11"
      ]
     },
     "execution_count": 63,
     "metadata": {},
     "output_type": "execute_result"
    }
   ],
   "source": [
    "5*36 - 13**2"
   ]
  },
  {
   "cell_type": "code",
   "execution_count": null,
   "metadata": {},
   "outputs": [],
   "source": []
  }
 ],
 "metadata": {
  "kernelspec": {
   "display_name": ".venv",
   "language": "python",
   "name": "python3"
  },
  "language_info": {
   "codemirror_mode": {
    "name": "ipython",
    "version": 3
   },
   "file_extension": ".py",
   "mimetype": "text/x-python",
   "name": "python",
   "nbconvert_exporter": "python",
   "pygments_lexer": "ipython3",
   "version": "3.11.1"
  }
 },
 "nbformat": 4,
 "nbformat_minor": 2
}
