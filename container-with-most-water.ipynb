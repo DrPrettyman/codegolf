{
 "cells": [
  {
   "cell_type": "markdown",
   "metadata": {},
   "source": [
    "# Container with most water\n",
    "### Leetcode\n",
    "\n",
    "https://leetcode.com/problems/container-with-most-water/description/"
   ]
  },
  {
   "cell_type": "code",
   "execution_count": 10,
   "metadata": {},
   "outputs": [],
   "source": [
    "# Test cases\n",
    "\n",
    "test_cases = [\n",
    "    dict(\n",
    "\t\theight = [1,8,6,2,5,4,8,3,7],\n",
    "\t\t_answer = 49\n",
    "\t)\n",
    "]\n",
    "\n",
    "def test(f):\n",
    "    for case in test_cases:\n",
    "        assert f(case['height']) == case['_answer']\n",
    "    print('All test cases passed')\n"
   ]
  },
  {
   "cell_type": "code",
   "execution_count": 13,
   "metadata": {},
   "outputs": [
    {
     "name": "stdout",
     "output_type": "stream",
     "text": [
      "All test cases passed\n"
     ]
    }
   ],
   "source": [
    "# Simple brute force solution. Fails on time limit exceeded.\n",
    "\n",
    "def solution_1(height):\n",
    "    max_area = 0\n",
    "    for i in range(len(height)):\n",
    "        for j in range(i+1, len(height)):\n",
    "            max_area = max(max_area, min(height[i], height[j]) * (j-i))\n",
    "    return max_area\n",
    "\n",
    "test(solution_1)"
   ]
  },
  {
   "cell_type": "code",
   "execution_count": 15,
   "metadata": {},
   "outputs": [
    {
     "name": "stdout",
     "output_type": "stream",
     "text": [
      "All test cases passed\n"
     ]
    }
   ],
   "source": [
    "# This works better\n",
    "\n",
    "def solution_2(height):\n",
    "    max_area = 0\n",
    "    left = 0\n",
    "    right = len(height) - 1\n",
    "    while left < right:\n",
    "        max_area = max(max_area, min(height[left], height[right]) * (right-left))\n",
    "        if height[left] < height[right]:\n",
    "            left += 1\n",
    "        else:\n",
    "            right -= 1\n",
    "    return max_area\n",
    "\n",
    "test(solution_2)\t"
   ]
  },
  {
   "cell_type": "code",
   "execution_count": null,
   "metadata": {},
   "outputs": [],
   "source": []
  }
 ],
 "metadata": {
  "kernelspec": {
   "display_name": "Python 3",
   "language": "python",
   "name": "python3"
  },
  "language_info": {
   "codemirror_mode": {
    "name": "ipython",
    "version": 3
   },
   "file_extension": ".py",
   "mimetype": "text/x-python",
   "name": "python",
   "nbconvert_exporter": "python",
   "pygments_lexer": "ipython3",
   "version": "3.11.1"
  }
 },
 "nbformat": 4,
 "nbformat_minor": 2
}
