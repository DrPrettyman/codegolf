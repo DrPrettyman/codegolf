{
 "cells": [
  {
   "cell_type": "markdown",
   "metadata": {
    "collapsed": false,
    "pycharm": {
     "name": "#%% md\n"
    }
   },
   "source": [
    "## Your task\n",
    "\n",
    "Given two positive integers x and d (such that d<x), output the 5th term of the d-th difference of the sequence n^x\n",
    "\n",
    "Example\n",
    "\n",
    "Let's say we are given the inputs x=4, d=2\n",
    "\n",
    "First, we get the series n^4: 0 1 16 81 256 625 1296 2401 4096 6561\n",
    "\n",
    "Now we work out the differences:\n",
    "0 1 16 81 256 625 1296 2401  // Original series\n",
    " 1 15 65 175 369 671 1105    // 1st difference\n",
    "  14 50 110 194 302 434      // 2nd difference\n",
    "Finally, we get the 5th term (1-indexed) and output: 302\n",
    "Note: this is sequence, so as long as the 5th term is somewhere in your output, it's fine."
   ]
  },
  {
   "cell_type": "markdown",
   "metadata": {},
   "source": []
  },
  {
   "cell_type": "code",
   "execution_count": 1,
   "metadata": {
    "collapsed": false,
    "pycharm": {
     "name": "#%%\n"
    }
   },
   "outputs": [],
   "source": [
    "# (x, d, OUTPUT)\n",
    "test_cases = [\n",
    "     (4,  2, 302),\n",
    "     (2,  1, 9),\n",
    "     (3,  2, 30),\n",
    "     (5,  3, 1830)\n",
    "]"
   ]
  },
  {
   "cell_type": "code",
   "execution_count": 2,
   "metadata": {
    "collapsed": false,
    "pycharm": {
     "name": "#%%\n"
    }
   },
   "outputs": [],
   "source": [
    "def f(x, d, b=4):\n",
    "    if d == 0:\n",
    "        return b**x\n",
    "    else:\n",
    "        return f(x, d-1, b+1) - f(x, d-1, b)"
   ]
  },
  {
   "cell_type": "code",
   "execution_count": 3,
   "metadata": {
    "collapsed": false,
    "pycharm": {
     "name": "#%%\n"
    }
   },
   "outputs": [],
   "source": [
    "# if d==0, return b**x, so f(2,0)=4**2=16\n",
    "# for f(2,1) we return 5**2 - 4**2 = 25 - 16 = 9\n",
    "\n",
    "#"
   ]
  },
  {
   "cell_type": "code",
   "execution_count": 4,
   "metadata": {
    "collapsed": false,
    "pycharm": {
     "name": "#%%\n"
    }
   },
   "outputs": [
    {
     "data": {
      "text/plain": [
       "True"
      ]
     },
     "execution_count": 4,
     "metadata": {},
     "output_type": "execute_result"
    }
   ],
   "source": [
    "all(f(c[0], c[1]) == c[2] for c in test_cases)"
   ]
  },
  {
   "cell_type": "code",
   "execution_count": null,
   "metadata": {
    "collapsed": false,
    "pycharm": {
     "name": "#%%\n"
    }
   },
   "outputs": [],
   "source": []
  }
 ],
 "metadata": {
  "kernelspec": {
   "display_name": "Python 3",
   "language": "python",
   "name": "python3"
  },
  "language_info": {
   "codemirror_mode": {
    "name": "ipython",
    "version": 3
   },
   "file_extension": ".py",
   "mimetype": "text/x-python",
   "name": "python",
   "nbconvert_exporter": "python",
   "pygments_lexer": "ipython3",
   "version": "3.11.1"
  }
 },
 "nbformat": 4,
 "nbformat_minor": 0
}
