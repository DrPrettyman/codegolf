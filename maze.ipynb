{
 "cells": [
  {
   "cell_type": "markdown",
   "metadata": {},
   "source": [
    "Not very \"golfed\" but it's a good example of a breadth-first search.\n",
    "\n",
    "This solves the maze problem https://code.golf/maze\n",
    "\n",
    "For a given maze, find the shortest path from Start to End points. Output the path in the maze with dots. For example:\n",
    "\n",
    "```\n",
    "###########       ###########\n",
    "#S#      E#       #S#  ....E#\n",
    "# ### #####       #.###.#####\n",
    "#   #     #   →   #...#.....#\n",
    "### ##### #       ###.#####.#\n",
    "#         #       #  .......#\n",
    "###########       ###########\n",
    "```\n",
    "\n",
    "We use a breadth-first search to find the shortest path.\n",
    "Start by adding the starting position to the queue, with an empty path.\n",
    "Then, while the queue is not empty, remove the first element from the queue.\n",
    "If the element is the goal, return the path.\n",
    "If the element has not been visited, add it to the visited set.\n",
    "Then, add all the connected positions to the queue, with the path updated to include the current position."
   ]
  },
  {
   "cell_type": "code",
   "execution_count": 54,
   "metadata": {},
   "outputs": [],
   "source": [
    "class MazeSolver:\n",
    "\t\"\"\"\n",
    "\tSolves the maze problem https://code.golf/maze\n",
    " \n",
    "\tThe input is a string representing the maze with the following characters:\n",
    "\t# - wall\n",
    "\tS - start\n",
    "\tE - end\n",
    "\t  - empty space\n",
    "\t\"\"\"\n",
    "\tdef __init__(self, maze: str):\t\n",
    "  \t\t# Convert the maze string into a 2D array\n",
    "\t\tself.maze_array = [list(_.strip()) for _ in maze.split(\"\\n\")]\n",
    "  \n",
    "\t\t# solve the maze\n",
    "\t\tself.solution, self.steps = self.bfs()\n",
    "  \n",
    "\tdef init_queue(self) -> list[tuple[tuple[int, int], list[tuple[int, int]]]]:\n",
    "    \t# Get the start position\n",
    "\t\tstart_pos = None\n",
    "\t\tfor y, row in enumerate(self.maze_array):\n",
    "\t\t\tfor x, cell in enumerate(row):\n",
    "\t\t\t\tif cell == \"S\":\n",
    "\t\t\t\t\tstart_pos = (x, y)\n",
    "\t\t\t\t\tbreak\n",
    "\t\t\tif start_pos:\n",
    "\t\t\t\tbreak\n",
    "\t\telse:\n",
    "\t\t\traise ValueError(\"No start position found\")\n",
    "  \n",
    "\t\t# Initialize the queue\n",
    "\t\treturn [(start_pos, [])]\n",
    "\n",
    "\tdef is_goal(self, pos: tuple[int, int]):\n",
    "\t\t\"\"\"\n",
    "\t\tChecks if the given position is the goal.\n",
    "\t\t\"\"\"\n",
    "\t\treturn self.maze_array[pos[0]][pos[1]] == \"E\"\n",
    "\t\t\n",
    "\tdef connected(self, pos: tuple[int, int]):\n",
    "\t\t\"\"\"\n",
    "\t\tReturns the positions that are connected to the given position.\n",
    "\t\t\"\"\"\n",
    "\t\tif self.maze_array[pos[0]][pos[1]] == \"#\":\n",
    "\t\t\traise ValueError(\"Bad space\")\n",
    "\t\tfor dx, dy in [(-1, 0), (1, 0), (0, -1), (0, 1)]:\n",
    "\t\t\tnx, ny = pos[0] + dx, pos[1] + dy\n",
    "\t\t\tif self.maze_array[nx][ny] != \"#\":\n",
    "\t\t\t\tyield (nx, ny)\n",
    "\t\n",
    "\tdef path_to_string(self, path: list[tuple[int, int]]):\n",
    "\t\t\"\"\"\n",
    "\t\tConverts the path (list of x, y coordinates) to a string\n",
    "\t\tby placing \".\" in the maze at each position in the path.\n",
    "\t\t\"\"\"\n",
    "\t\tmaze_array = self.maze_array.copy()\n",
    "\t\tif len(path) > 1:\n",
    "\t\t\tfor x, y in path[1:]:\n",
    "\t\t\t\tmaze_array[x][y] = \".\"\n",
    "\t\treturn \"\\n\".join([\"\".join(_) for _ in maze_array])\n",
    "\t\n",
    "\tdef bfs(self):\n",
    "\t\tvisited: set[tuple[int, int]] = set()\n",
    "\t\tqueue = self.init_queue()\n",
    "\t\twhile queue:\n",
    "\t\t\tpos, path = queue.pop(0)\n",
    "\t\t\tif self.is_goal(pos):\n",
    "\t\t\t\treturn self.path_to_string(path), len(path)\n",
    "\t\t\tif pos in visited:\n",
    "\t\t\t\tcontinue\n",
    "\t\t\tvisited.add(pos)\n",
    "\t\t\tnew_path = path + [pos]\n",
    "\t\t\tqueue.extend((new_pos, new_path) for new_pos in self.connected(pos))\n",
    "   \n",
    "\t\treturn \"No solution\"\n",
    "\n",
    "\n",
    "def solve(maze: str):\n",
    "    solution = MazeSolver(maze)\n",
    "    print(solution.solution)\n",
    "    print(f\"\\nPath length: {solution.steps}\")\n"
   ]
  },
  {
   "cell_type": "code",
   "execution_count": 55,
   "metadata": {},
   "outputs": [],
   "source": [
    "maze= \"\"\"###########\n",
    "#S#      E#\n",
    "# ### #####\n",
    "#   #     #\n",
    "### ##### #\n",
    "#         #\n",
    "###########\"\"\""
   ]
  },
  {
   "cell_type": "code",
   "execution_count": 56,
   "metadata": {},
   "outputs": [
    {
     "name": "stdout",
     "output_type": "stream",
     "text": [
      "###########\n",
      "#S#  ....E#\n",
      "#.###.#####\n",
      "#...#.....#\n",
      "###.#####.#\n",
      "#  .......#\n",
      "###########\n",
      "\n",
      "Path length: 24\n"
     ]
    }
   ],
   "source": [
    "solve(maze)"
   ]
  },
  {
   "cell_type": "code",
   "execution_count": null,
   "metadata": {},
   "outputs": [],
   "source": []
  }
 ],
 "metadata": {
  "kernelspec": {
   "display_name": "Python 3",
   "language": "python",
   "name": "python3"
  },
  "language_info": {
   "codemirror_mode": {
    "name": "ipython",
    "version": 3
   },
   "file_extension": ".py",
   "mimetype": "text/x-python",
   "name": "python",
   "nbconvert_exporter": "python",
   "pygments_lexer": "ipython3",
   "version": "3.11.1"
  }
 },
 "nbformat": 4,
 "nbformat_minor": 2
}
