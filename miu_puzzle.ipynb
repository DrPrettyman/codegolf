{
 "cells": [
  {
   "cell_type": "code",
   "execution_count": 1,
   "id": "522f0aab",
   "metadata": {},
   "outputs": [],
   "source": [
    "import re"
   ]
  },
  {
   "cell_type": "code",
   "execution_count": null,
   "id": "5cd76b9b",
   "metadata": {},
   "outputs": [],
   "source": [
    "def find_all(string, substring):\n",
    "    n = len(substring)\n",
    "    return [i for i in range(len(string)) if string[i:i+n] == substring]"
   ]
  },
  {
   "cell_type": "code",
   "execution_count": 26,
   "id": "ff3c7634",
   "metadata": {},
   "outputs": [
    {
     "data": {
      "text/plain": [
       "[1, 2, 3, 7]"
      ]
     },
     "execution_count": 26,
     "metadata": {},
     "output_type": "execute_result"
    }
   ],
   "source": [
    "find_all(\"MIIIIIUIIIMUUM\", \"III\")"
   ]
  },
  {
   "cell_type": "code",
   "execution_count": 28,
   "id": "a50dbbb1",
   "metadata": {},
   "outputs": [],
   "source": [
    "s = \"MIIIIIUIIIMUUM\""
   ]
  },
  {
   "cell_type": "code",
   "execution_count": 31,
   "id": "727e51a0",
   "metadata": {},
   "outputs": [
    {
     "ename": "TypeError",
     "evalue": "'str' object does not support item assignment",
     "output_type": "error",
     "traceback": [
      "\u001b[31m---------------------------------------------------------------------------\u001b[39m",
      "\u001b[31mTypeError\u001b[39m                                 Traceback (most recent call last)",
      "\u001b[36mCell\u001b[39m\u001b[36m \u001b[39m\u001b[32mIn[31]\u001b[39m\u001b[32m, line 1\u001b[39m\n\u001b[32m----> \u001b[39m\u001b[32m1\u001b[39m \u001b[43ms\u001b[49m\u001b[43m[\u001b[49m\u001b[32;43m1\u001b[39;49m\u001b[43m:\u001b[49m\u001b[32;43m1\u001b[39;49m\u001b[43m+\u001b[49m\u001b[32;43m3\u001b[39;49m\u001b[43m]\u001b[49m = \u001b[33m\"\u001b[39m\u001b[33mU\u001b[39m\u001b[33m\"\u001b[39m\n",
      "\u001b[31mTypeError\u001b[39m: 'str' object does not support item assignment"
     ]
    }
   ],
   "source": [
    "s[1:1+3] = \"U\""
   ]
  },
  {
   "cell_type": "code",
   "execution_count": 34,
   "id": "847dc58b",
   "metadata": {},
   "outputs": [
    {
     "data": {
      "text/plain": [
       "'IIIMUUM'"
      ]
     },
     "execution_count": 34,
     "metadata": {},
     "output_type": "execute_result"
    }
   ],
   "source": [
    "\"MIIIIIUIIIMUUM\"[7:]"
   ]
  },
  {
   "cell_type": "code",
   "execution_count": 36,
   "id": "5f22d89c",
   "metadata": {},
   "outputs": [
    {
     "data": {
      "text/plain": [
       "('MIIIIIU', 'MUUM')"
      ]
     },
     "execution_count": 36,
     "metadata": {},
     "output_type": "execute_result"
    }
   ],
   "source": [
    "s[:7], s[10:]"
   ]
  },
  {
   "cell_type": "code",
   "execution_count": 32,
   "id": "87a2548d",
   "metadata": {},
   "outputs": [
    {
     "name": "stdout",
     "output_type": "stream",
     "text": [
      "[1, 7]\n"
     ]
    }
   ],
   "source": [
    "text = \"MIIIIIUIIIMUUM\"\n",
    "matches = [m.start() for m in re.finditer('III', text)]\n",
    "print(matches)  # [0, 13]"
   ]
  },
  {
   "cell_type": "code",
   "execution_count": 33,
   "id": "86b0cac7",
   "metadata": {},
   "outputs": [
    {
     "ename": "SyntaxError",
     "evalue": "invalid syntax (792193702.py, line 1)",
     "output_type": "error",
     "traceback": [
      "  \u001b[36mCell\u001b[39m\u001b[36m \u001b[39m\u001b[32mIn[33]\u001b[39m\u001b[32m, line 1\u001b[39m\n\u001b[31m    \u001b[39m\u001b[31mre.search(r\"III\", \"MIIIIUIIIMUUM\", flags=re.)\u001b[39m\n                                                ^\n\u001b[31mSyntaxError\u001b[39m\u001b[31m:\u001b[39m invalid syntax\n"
     ]
    }
   ],
   "source": [
    "re.search(r\"III\", \"MIIIIUIIIMUUM\", flags=re.)"
   ]
  },
  {
   "cell_type": "code",
   "execution_count": null,
   "id": "0b963b23",
   "metadata": {},
   "outputs": [],
   "source": [
    "s.i"
   ]
  },
  {
   "cell_type": "code",
   "execution_count": null,
   "id": "c75f380f",
   "metadata": {},
   "outputs": [],
   "source": []
  },
  {
   "cell_type": "code",
   "execution_count": null,
   "id": "d56360e5",
   "metadata": {},
   "outputs": [],
   "source": []
  },
  {
   "cell_type": "code",
   "execution_count": 67,
   "id": "a44c5aa5",
   "metadata": {},
   "outputs": [],
   "source": [
    "def sub_at_index(s: str, a: int, b: int, repl: str):\n",
    "    return s[:a] + repl + s[b:]\n",
    "\n",
    "def str_remove(s: str, a, b):\n",
    "    return s[:a] + s[b:]\n",
    "\n",
    "def rule1(s: str):\n",
    "    if s.endswith(\"I\"):\n",
    "        return {s+\"U\"}\n",
    "    return set()\n",
    "    \n",
    "def rule2(s: str):\n",
    "    if s.startswith(\"M\"):\n",
    "        return {s + s[1:]}\n",
    "    return set()\n",
    "\n",
    "def rule3(s: str):\n",
    "    indices = [i for i in range(len(s)) if s[i:i+3] == \"III\"]\n",
    "    return {sub_at_index(s, i, i+3, \"U\") for i in indices}\n",
    "\n",
    "def rule4(s: str):\n",
    "    indices = [i for i in range(len(s)) if s[i:i+2] == \"UU\"]\n",
    "    return {str_remove(s, i, i+2) for i in indices}\n",
    "\n",
    "def all_rules(s: str):\n",
    "    return rule1(s) | rule2(s) | rule3(s) | rule4(s)\n",
    "        "
   ]
  },
  {
   "cell_type": "code",
   "execution_count": 68,
   "id": "8178c224",
   "metadata": {},
   "outputs": [
    {
     "data": {
      "text/plain": [
       "{'MIIIIUMUMII', 'MIUUMIIIMII', 'MUIUMIIIMII'}"
      ]
     },
     "execution_count": 68,
     "metadata": {},
     "output_type": "execute_result"
    }
   ],
   "source": [
    "rule3(\"MIIIIUMIIIMII\")"
   ]
  },
  {
   "cell_type": "code",
   "execution_count": 69,
   "id": "3102b93d",
   "metadata": {},
   "outputs": [
    {
     "data": {
      "text/plain": [
       "{'MIIUUUM', 'MUUIIUM'}"
      ]
     },
     "execution_count": 69,
     "metadata": {},
     "output_type": "execute_result"
    }
   ],
   "source": [
    "rule4(\"MUUIIUUUM\")"
   ]
  },
  {
   "cell_type": "code",
   "execution_count": 70,
   "id": "64cfef3e",
   "metadata": {},
   "outputs": [],
   "source": [
    "s = \"MI\""
   ]
  },
  {
   "cell_type": "code",
   "execution_count": 97,
   "id": "a43f5995",
   "metadata": {},
   "outputs": [
    {
     "name": "stdout",
     "output_type": "stream",
     "text": [
      "10 : 3986987\n",
      "False\n"
     ]
    }
   ],
   "source": [
    "reserve = set()\n",
    "bag = set([\"MI\"])\n",
    "_it = 0\n",
    "while len(reserve) < 100_000 and \"MU\" not in bag:\n",
    "    new_bag = set()\n",
    "    for s in bag:\n",
    "        new_bag.update(all_rules(s))\n",
    "    reserve.update(bag)\n",
    "    bag = new_bag\n",
    "    _it += 1\n",
    "reserve.update(bag)\n",
    "    \n",
    "print(_it, \":\", len(reserve))\n",
    "print(\"MU\" in reserve)"
   ]
  },
  {
   "cell_type": "code",
   "execution_count": 28,
   "id": "6ae8f398",
   "metadata": {},
   "outputs": [],
   "source": [
    "def sub_at_index(s: str, a: int, b: int, repl: str):\n",
    "    return s[:a] + repl + s[b:]\n",
    "\n",
    "def str_remove(s: str, a, b):\n",
    "    return s[:a] + s[b:]\n",
    "\n",
    "class MIUSystem:\n",
    "    def __init__(self, bag: set[str] | str):\n",
    "        if isinstance(bag, str):\n",
    "            bag = set([bag])\n",
    "        self.todo = bag\n",
    "        self.done = set()\n",
    "        \n",
    "    @property\n",
    "    def bag(self):\n",
    "        return self.todo | self.done\n",
    "    \n",
    "    def __len__(self):\n",
    "        return len(self.bag)\n",
    "    \n",
    "    def __contains__(self, s: str):\n",
    "        return s in self.todo or s in self.done\n",
    "        \n",
    "    def update(self):\n",
    "        new_bag = set()\n",
    "        for s in self.todo:\n",
    "            new_bag.update(self.all_rules(s))\n",
    "        self.done.update(self.todo)\n",
    "        self.todo = new_bag - self.done\n",
    "\n",
    "    @staticmethod\n",
    "    def rule1(s: str):\n",
    "        if s.endswith(\"I\"):\n",
    "            return {s+\"U\"}\n",
    "        return set()\n",
    "    \n",
    "    @staticmethod\n",
    "    def rule2(s: str):\n",
    "        if s.startswith(\"M\"):\n",
    "            return {s + s[1:]}\n",
    "        return set()\n",
    "    \n",
    "    @staticmethod\n",
    "    def rule3(s: str):\n",
    "        indices = [i for i in range(len(s)) if s[i:i+3] == \"III\"]\n",
    "        return {sub_at_index(s, i, i+3, \"U\") for i in indices}\n",
    "\n",
    "    @staticmethod\n",
    "    def rule4(s: str):\n",
    "        indices = [i for i in range(len(s)) if s[i:i+2] == \"UU\"]\n",
    "        return {str_remove(s, i, i+2) for i in indices}\n",
    "\n",
    "    def all_rules(self, s: str):\n",
    "        return self.rule1(s) | self.rule2(s) | self.rule3(s) | self.rule4(s)"
   ]
  },
  {
   "cell_type": "code",
   "execution_count": 29,
   "id": "99e3810e",
   "metadata": {},
   "outputs": [],
   "source": [
    "miu = MIUSystem(\"MI\")\n",
    "\n",
    "lens = {0: len(miu)}\n",
    "for i in range(1, 11):\n",
    "    miu.update()\n",
    "    lens[i] = len(miu)"
   ]
  },
  {
   "cell_type": "code",
   "execution_count": 30,
   "id": "7ca2e115",
   "metadata": {},
   "outputs": [
    {
     "data": {
      "text/plain": [
       "{0: 1,\n",
       " 1: 3,\n",
       " 2: 6,\n",
       " 3: 11,\n",
       " 4: 25,\n",
       " 5: 69,\n",
       " 6: 282,\n",
       " 7: 1730,\n",
       " 8: 15885,\n",
       " 9: 210105,\n",
       " 10: 3986987}"
      ]
     },
     "execution_count": 30,
     "metadata": {},
     "output_type": "execute_result"
    }
   ],
   "source": [
    "lens"
   ]
  },
  {
   "cell_type": "code",
   "execution_count": 32,
   "id": "cf968c04",
   "metadata": {},
   "outputs": [
    {
     "data": {
      "text/plain": [
       "False"
      ]
     },
     "execution_count": 32,
     "metadata": {},
     "output_type": "execute_result"
    }
   ],
   "source": [
    "\"MU\" in miu"
   ]
  },
  {
   "cell_type": "code",
   "execution_count": null,
   "id": "a32b4b5c",
   "metadata": {},
   "outputs": [],
   "source": []
  }
 ],
 "metadata": {
  "kernelspec": {
   "display_name": ".venv",
   "language": "python",
   "name": "python3"
  },
  "language_info": {
   "codemirror_mode": {
    "name": "ipython",
    "version": 3
   },
   "file_extension": ".py",
   "mimetype": "text/x-python",
   "name": "python",
   "nbconvert_exporter": "python",
   "pygments_lexer": "ipython3",
   "version": "3.11.1"
  }
 },
 "nbformat": 4,
 "nbformat_minor": 5
}
