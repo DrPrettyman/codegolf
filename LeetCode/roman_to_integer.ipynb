{
 "cells": [
  {
   "cell_type": "markdown",
   "id": "2d569b73",
   "metadata": {},
   "source": [
    "# 13. Roman to Integer\n",
    "\n",
    "Roman numerals are represented by seven different symbols: I, V, X, L, C, D and M.\n",
    "\n",
    "Symbol  |    Value\n",
    "--------|-----------\n",
    "I       |     1\n",
    "V       |     5\n",
    "X       |     10\n",
    "L       |     50\n",
    "C       |     100\n",
    "D       |     500\n",
    "M       |     1000\n",
    "\n",
    "For example, 2 is written as II in Roman numeral, just two ones added together. 12 is written as XII, which is simply X + II. The number 27 is written as XXVII, which is XX + V + II.\n",
    "\n",
    "Roman numerals are usually written largest to smallest from left to right. However, the numeral for four is not IIII. Instead, the number four is written as IV. Because the one is before the five we subtract it making four. The same principle applies to the number nine, which is written as IX. There are six instances where subtraction is used:\n",
    "\n",
    "- I can be placed before V (5) and X (10) to make 4 and 9. \n",
    "- X can be placed before L (50) and C (100) to make 40 and 90. \n",
    "- C can be placed before D (500) and M (1000) to make 400 and 900.\n",
    "\n",
    "Given a roman numeral, convert it to an integer.\n",
    "\n"
   ]
  },
  {
   "cell_type": "code",
   "execution_count": 1,
   "id": "4a31aa13",
   "metadata": {},
   "outputs": [],
   "source": [
    "from test_cases import Test\n",
    "\n",
    "test = Test(\n",
    "    ({\"s\": \"III\"}, 3),\n",
    "    ({\"s\": \"LVIII\"}, 58),\n",
    "    ({\"s\": \"MCMXCIV\"}, 1994)\n",
    ")"
   ]
  },
  {
   "cell_type": "code",
   "execution_count": 2,
   "id": "be6e40aa",
   "metadata": {},
   "outputs": [],
   "source": [
    "lookup = {\"D\": 500, \"L\": 50, \"V\": 5}\n",
    "def roman_to_int(s):\n",
    "    n = 0\n",
    "    m = len(s) - 1\n",
    "    for i, c in enumerate(s):\n",
    "        if c == \"M\":\n",
    "            n += 1_000\n",
    "        elif c == \"C\":\n",
    "            if i < m and s[i+1] in \"DM\":\n",
    "                n -= 100\n",
    "            else:\n",
    "                n += 100\n",
    "        elif c == \"X\":\n",
    "            if i < m and s[i+1] in \"LC\":\n",
    "                n -= 10\n",
    "            else:\n",
    "                n += 10\n",
    "        elif c == \"I\":\n",
    "            if i < m and s[i+1] in \"VX\":\n",
    "                n -= 1\n",
    "            else:\n",
    "                n += 1\n",
    "        else:\n",
    "            n += lookup[c]\n",
    "    return n"
   ]
  },
  {
   "cell_type": "code",
   "execution_count": 3,
   "id": "23a4bcd4",
   "metadata": {},
   "outputs": [
    {
     "name": "stdout",
     "output_type": "stream",
     "text": [
      "All tests passed\n"
     ]
    }
   ],
   "source": [
    "test(roman_to_int)"
   ]
  }
 ],
 "metadata": {
  "kernelspec": {
   "display_name": ".venv",
   "language": "python",
   "name": "python3"
  },
  "language_info": {
   "codemirror_mode": {
    "name": "ipython",
    "version": 3
   },
   "file_extension": ".py",
   "mimetype": "text/x-python",
   "name": "python",
   "nbconvert_exporter": "python",
   "pygments_lexer": "ipython3",
   "version": "3.11.1"
  }
 },
 "nbformat": 4,
 "nbformat_minor": 5
}
