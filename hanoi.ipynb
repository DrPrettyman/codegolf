{
 "cells": [
  {
   "cell_type": "code",
   "execution_count": 125,
   "id": "6fd8e0af",
   "metadata": {},
   "outputs": [],
   "source": [
    "import copy\n",
    "\n",
    "class Tower:\n",
    "    def __init__(self, n_discs: int = 5):\n",
    "        self.n_discs = n_discs\n",
    "        _l = list(range(1, n_discs + 1))\n",
    "        self.towers = [_l[::-1], [], []]\n",
    "        \n",
    "    def repr_disc(self, n):\n",
    "        s = \" \"*(self.n_discs - n + 2)\n",
    "        return s+\"▄\"*n+\"█\"+\"▄\"*n+s\n",
    "        \n",
    "    def __repr__(self):\n",
    "        _towers = copy.deepcopy(self.towers)\n",
    "        for _t in _towers:\n",
    "            _t.extend([0]*(self.n_discs - len(_t)))\n",
    "        _strs = [[self.repr_disc(n) for n in _t] for _t in _towers]\n",
    "        _s = \"\"\n",
    "        for _r in range(self.n_discs-1, -1, -1):\n",
    "            _s += _strs[0][_r] + _strs[1][_r] + _strs[2][_r] + '\\n'\n",
    "        return _s\n",
    "        \n",
    "    def _move(self, i, j):\n",
    "        self.towers[j].append(self.towers[i].pop())\n",
    "        \n",
    "    def move(self, i, j) -> bool:\n",
    "        if len(self.towers[i]) == 0:\n",
    "            return False\n",
    "        \n",
    "        if len(self.towers[j]) == 0:\n",
    "            self._move(i, j)\n",
    "            return True\n",
    "        \n",
    "        if self.towers[i][-1] < self.towers[j][-1]:\n",
    "            self._move(i, j)\n",
    "            return True\n",
    "        \n",
    "        return False"
   ]
  },
  {
   "cell_type": "code",
   "execution_count": 126,
   "id": "d831239f",
   "metadata": {},
   "outputs": [],
   "source": [
    "t = Tower(5)"
   ]
  },
  {
   "cell_type": "code",
   "execution_count": 127,
   "id": "aa4bbc4b",
   "metadata": {},
   "outputs": [
    {
     "name": "stdout",
     "output_type": "stream",
     "text": [
      "      ▄█▄             █              █       \n",
      "     ▄▄█▄▄            █              █       \n",
      "    ▄▄▄█▄▄▄           █              █       \n",
      "   ▄▄▄▄█▄▄▄▄          █              █       \n",
      "  ▄▄▄▄▄█▄▄▄▄▄         █              █       \n",
      "\n"
     ]
    }
   ],
   "source": [
    "print(t)"
   ]
  },
  {
   "cell_type": "code",
   "execution_count": 128,
   "id": "33abbeff",
   "metadata": {},
   "outputs": [
    {
     "name": "stdout",
     "output_type": "stream",
     "text": [
      "       █              █              █       \n",
      "     ▄▄█▄▄            █              █       \n",
      "    ▄▄▄█▄▄▄           █              █       \n",
      "   ▄▄▄▄█▄▄▄▄          █              █       \n",
      "  ▄▄▄▄▄█▄▄▄▄▄        ▄█▄             █       \n",
      "\n"
     ]
    }
   ],
   "source": [
    "t.move(0, 1)\n",
    "print(t)"
   ]
  },
  {
   "cell_type": "code",
   "execution_count": null,
   "id": "4e9be6bf",
   "metadata": {},
   "outputs": [],
   "source": []
  }
 ],
 "metadata": {
  "kernelspec": {
   "display_name": "Python 3",
   "language": "python",
   "name": "python3"
  },
  "language_info": {
   "codemirror_mode": {
    "name": "ipython",
    "version": 3
   },
   "file_extension": ".py",
   "mimetype": "text/x-python",
   "name": "python",
   "nbconvert_exporter": "python",
   "pygments_lexer": "ipython3",
   "version": "3.10.0"
  }
 },
 "nbformat": 4,
 "nbformat_minor": 5
}
