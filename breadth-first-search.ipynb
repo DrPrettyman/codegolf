{
 "cells": [
  {
   "cell_type": "markdown",
   "metadata": {},
   "source": [
    "Not very \"golfed\" but it's a good example of a breadth-first search.\n",
    "\n",
    "This solves the maze problem https://code.golf/maze\n",
    "\n",
    "For a given maze, find the shortest path from Start to End points. Output the path in the maze with dots. For example:\n",
    "\n",
    "```\n",
    "###########       ###########\n",
    "#S#      E#       #S#  ....E#\n",
    "# ### #####       #.###.#####\n",
    "#   #     #   →   #...#.....#\n",
    "### ##### #       ###.#####.#\n",
    "#         #       #  .......#\n",
    "###########       ###########\n",
    "```"
   ]
  },
  {
   "cell_type": "code",
   "execution_count": 103,
   "metadata": {},
   "outputs": [],
   "source": [
    "class MazeSolver:\n",
    "\t\"\"\"\n",
    "\tSolves the maze problem https://code.golf/maze\n",
    " \n",
    "\tThe input is a string representing the maze with the following characters:\n",
    "\t# - wall\n",
    "\tS - start\n",
    "\tE - end\n",
    "\t  - empty space\n",
    "\t\"\"\"\n",
    "\tdef __init__(self, maze: str):\n",
    "\t\tself.maze = maze\n",
    "\t\t\n",
    "  \t\t# Convert the maze string into a 2D array\n",
    "\t\tself.maze_array = [list(_.strip()) for _ in maze.split(\"\\n\")]\n",
    "  \n",
    "\t\t# Get the start position\n",
    "\t\tn = len(self.maze_array[0]) # width of the maze\n",
    "\t\ts_pos = \"\".join([\"\".join(_) for _ in self.maze_array]).find(\"S\") # absolute position of the start\n",
    "\t\tself.sx, self.sy = s_pos//n, s_pos%n # x, y coordinates of the start\n",
    "  \n",
    "\t\t# solve the maze\n",
    "\t\tself.solution = self.bfs()\n",
    "\n",
    "\tdef __str__(self):\n",
    "\t\treturn self.solution\n",
    "  \n",
    "\tdef is_goal(self, x: int, y: int):\n",
    "\t\t\"\"\"\n",
    "\t\tChecks if the given position is the goal.\n",
    "\t\t\"\"\"\n",
    "\t\treturn self.maze_array[x][y] == \"E\"\n",
    "\t\t\n",
    "\tdef connected(self, x: int, y: int):\n",
    "\t\t\"\"\"\n",
    "\t\tReturns the positions that are connected to the given position.\n",
    "\t\t\"\"\"\n",
    "\t\tif self.maze_array[x][y] == \"#\":\n",
    "\t\t\traise ValueError(\"Bad space\")\n",
    "\t\tfor dx, dy in [(-1, 0), (1, 0), (0, -1), (0, 1)]:\n",
    "\t\t\tnx, ny = x + dx, y + dy\n",
    "\t\t\tif self.maze_array[nx][ny] != \"#\":\n",
    "\t\t\t\tyield (nx, ny)\n",
    "\t\n",
    "\tdef path_to_string(self, path: list[tuple[int, int]]):\n",
    "\t\t\"\"\"\n",
    "\t\tConverts the path (list of x, y coordinates) to a string\n",
    "\t\tby placing \".\" in the maze at each position in the path.\n",
    "\t\t\"\"\"\n",
    "\t\tmaze_array = self.maze_array.copy()\n",
    "\t\tfor x, y in path:\n",
    "\t\t\tmaze_array[x][y] = \".\"\n",
    "\t\tmaze_array[self.sx][self.sy] = \"S\"\n",
    "\t\treturn \"\\n\".join([\"\".join(_) for _ in maze_array])\n",
    "\t\n",
    "\tdef bfs(self):\n",
    "\t\tvisited: set[tuple[int, int]] = set()\n",
    "\t\tqueue: list[tuple[int, int, list[tuple[int, int]]]] = [(self.sx, self.sy, [])]\n",
    "\t\twhile queue:\n",
    "\t\t\tx, y, path = queue.pop(0)\n",
    "\t\t\tif self.is_goal(x, y):\n",
    "\t\t\t\treturn self.path_to_string(path)\n",
    "\t\t\tif (x, y) in visited:\n",
    "\t\t\t\tcontinue\n",
    "\t\t\tvisited.add((x, y))\n",
    "\t\t\tnew_path = path + [(x, y)]\n",
    "\t\t\tqueue.extend((nx, ny, new_path) for nx, ny in self.connected(x, y))\n",
    "   \n",
    "\t\treturn \"No solution\"\n"
   ]
  },
  {
   "cell_type": "code",
   "execution_count": 104,
   "metadata": {},
   "outputs": [],
   "source": [
    "maze= \"\"\"###########\n",
    "#S#      E#\n",
    "# ### #####\n",
    "#   #     #\n",
    "### ##### #\n",
    "#         #\n",
    "###########\"\"\""
   ]
  },
  {
   "cell_type": "code",
   "execution_count": 105,
   "metadata": {},
   "outputs": [
    {
     "name": "stdout",
     "output_type": "stream",
     "text": [
      "###########\n",
      "#S#  ....E#\n",
      "#.###.#####\n",
      "#...#.....#\n",
      "###.#####.#\n",
      "#  .......#\n",
      "###########\n"
     ]
    }
   ],
   "source": [
    "print(MazeSolver(maze))"
   ]
  },
  {
   "cell_type": "code",
   "execution_count": null,
   "metadata": {},
   "outputs": [],
   "source": []
  }
 ],
 "metadata": {
  "kernelspec": {
   "display_name": "Python 3",
   "language": "python",
   "name": "python3"
  },
  "language_info": {
   "codemirror_mode": {
    "name": "ipython",
    "version": 3
   },
   "file_extension": ".py",
   "mimetype": "text/x-python",
   "name": "python",
   "nbconvert_exporter": "python",
   "pygments_lexer": "ipython3",
   "version": "3.11.1"
  }
 },
 "nbformat": 4,
 "nbformat_minor": 2
}
