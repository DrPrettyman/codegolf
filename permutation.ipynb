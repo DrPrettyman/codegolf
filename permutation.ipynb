{
 "cells": [
  {
   "cell_type": "code",
   "id": "initial_id",
   "metadata": {
    "collapsed": true,
    "ExecuteTime": {
     "end_time": "2024-11-13T11:28:35.775961Z",
     "start_time": "2024-11-13T11:28:35.605539Z"
    }
   },
   "source": [
    "from linecache import cache\n",
    "from string import digits\n",
    "\n",
    "from sympy import symbols\n",
    "from twisted.python.failure import count\n",
    "\n",
    "\n",
    "class Solution:\n",
    "    def nextPermutation(self, nums: list[int]) -> None:\n",
    "        \"\"\"\n",
    "        Do not return anything, modify nums in-place instead.\n",
    "        \"\"\"\n",
    "        "
   ],
   "outputs": [],
   "execution_count": 63
  },
  {
   "metadata": {
    "ExecuteTime": {
     "end_time": "2024-11-13T08:44:00.164846Z",
     "start_time": "2024-11-13T08:44:00.161741Z"
    }
   },
   "cell_type": "code",
   "source": "nums = [4, 25, 16]",
   "id": "24fc39584227e1c",
   "outputs": [],
   "execution_count": 7
  },
  {
   "metadata": {
    "ExecuteTime": {
     "end_time": "2024-11-13T08:44:03.228898Z",
     "start_time": "2024-11-13T08:44:03.226414Z"
    }
   },
   "cell_type": "code",
   "source": [
    "n0 = nums[2]\n",
    "sorted(nums).index(n0)"
   ],
   "id": "91665200c1740812",
   "outputs": [
    {
     "data": {
      "text/plain": [
       "1"
      ]
     },
     "execution_count": 9,
     "metadata": {},
     "output_type": "execute_result"
    }
   ],
   "execution_count": 9
  },
  {
   "metadata": {
    "ExecuteTime": {
     "end_time": "2024-11-13T08:56:11.529402Z",
     "start_time": "2024-11-13T08:56:11.525176Z"
    }
   },
   "cell_type": "code",
   "source": [
    "def increment(lst: list[int]) -> list[int]:\n",
    "    n0 = lst[0]\n",
    "    if n0 == max(lst):\n",
    "        return lst\n",
    "    lst_sorted = sorted(lst)\n",
    "    i = lst_sorted.index(n0)\n",
    "    n1 = lst_sorted.pop(i+1)\n",
    "    return [n1] + lst_sorted\n",
    "\n",
    "def next(lst: list[int]) -> list[int]:\n",
    "    for i in range(1, len(lst)+1):\n",
    "        end_bit = lst[-i:]\n",
    "        inc = increment(end_bit)\n",
    "        print(end_bit, \" -> \", inc)\n",
    "        if inc != end_bit:\n",
    "            lst[-i:] = inc\n",
    "            break\n",
    "    else:\n",
    "        lst[:] = sorted(lst)"
   ],
   "id": "7db612cd79982e25",
   "outputs": [],
   "execution_count": 58
  },
  {
   "metadata": {
    "ExecuteTime": {
     "end_time": "2024-11-13T08:56:11.865009Z",
     "start_time": "2024-11-13T08:56:11.863053Z"
    }
   },
   "cell_type": "code",
   "source": [
    "nums = [4,3,2,1]\n",
    "next(nums)"
   ],
   "id": "8041c456e4bacbf6",
   "outputs": [
    {
     "name": "stdout",
     "output_type": "stream",
     "text": [
      "[1]  ->  [1]\n",
      "[2, 1]  ->  [2, 1]\n",
      "[3, 2, 1]  ->  [3, 2, 1]\n",
      "[4, 3, 2, 1]  ->  [4, 3, 2, 1]\n"
     ]
    }
   ],
   "execution_count": 59
  },
  {
   "metadata": {
    "ExecuteTime": {
     "end_time": "2024-11-13T08:56:12.571717Z",
     "start_time": "2024-11-13T08:56:12.568671Z"
    }
   },
   "cell_type": "code",
   "source": "nums",
   "id": "c02df5b740c7a599",
   "outputs": [
    {
     "data": {
      "text/plain": [
       "[1, 2, 3, 4]"
      ]
     },
     "execution_count": 60,
     "metadata": {},
     "output_type": "execute_result"
    }
   ],
   "execution_count": 60
  },
  {
   "metadata": {
    "ExecuteTime": {
     "end_time": "2024-11-13T08:51:59.119629Z",
     "start_time": "2024-11-13T08:51:59.116362Z"
    }
   },
   "cell_type": "code",
   "source": "nums[-0:]",
   "id": "95b3ad4a1a791f91",
   "outputs": [
    {
     "data": {
      "text/plain": [
       "[4, 16, 25]"
      ]
     },
     "execution_count": 30,
     "metadata": {},
     "output_type": "execute_result"
    }
   ],
   "execution_count": 30
  },
  {
   "metadata": {
    "ExecuteTime": {
     "end_time": "2024-11-13T08:46:50.435021Z",
     "start_time": "2024-11-13T08:46:50.432419Z"
    }
   },
   "cell_type": "code",
   "source": [
    "nums = [4, 16, 25]\n",
    "increment(nums)"
   ],
   "id": "64f75e30f45be071",
   "outputs": [
    {
     "data": {
      "text/plain": [
       "[16, 4, 25]"
      ]
     },
     "execution_count": 16,
     "metadata": {},
     "output_type": "execute_result"
    }
   ],
   "execution_count": 16
  },
  {
   "metadata": {
    "ExecuteTime": {
     "end_time": "2024-11-13T08:48:52.976967Z",
     "start_time": "2024-11-13T08:48:52.973633Z"
    }
   },
   "cell_type": "code",
   "source": "nums[-1:]",
   "id": "a69624e4e35fc8f1",
   "outputs": [
    {
     "data": {
      "text/plain": [
       "[25]"
      ]
     },
     "execution_count": 21,
     "metadata": {},
     "output_type": "execute_result"
    }
   ],
   "execution_count": 21
  },
  {
   "metadata": {},
   "cell_type": "code",
   "outputs": [],
   "execution_count": null,
   "source": "",
   "id": "b1fe0cad0e8305a8"
  },
  {
   "metadata": {
    "ExecuteTime": {
     "end_time": "2024-11-13T11:35:40.064840Z",
     "start_time": "2024-11-13T11:35:40.062003Z"
    }
   },
   "cell_type": "code",
   "source": [
    "def expand(a,b,c,d):\n",
    "    alpha = a*c\n",
    "    beta = a*d+b*c\n",
    "    gamma = b*d\n",
    "    \n",
    "    if alpha == 0:\n",
    "        s_alpha = \"\"\n",
    "    elif alpha == 1:\n",
    "        s_alpha = \"x^2\"\n",
    "    elif alpha == -1:\n",
    "        s_alpha = \"-x^2\"\n",
    "    else:\n",
    "        s_alpha = f\"{alpha}x^2\"\n",
    "    \n",
    "    if beta == 1:\n",
    "        s_beta = \" + x\"\n",
    "    elif beta == -1:\n",
    "        s_beta = \" - x\"\n",
    "    elif beta == 0:\n",
    "        s_beta = \"\"\n",
    "    elif beta < 0:\n",
    "        s_beta = f\" - {abs(beta)}x\"\n",
    "    else:\n",
    "        s_beta = f\" + {abs(beta)}x\"\n",
    "        \n",
    "    if gamma == 0:\n",
    "        s_gamma = \"\"\n",
    "    elif gamma > 0:\n",
    "        s_gamma = f\" + {abs(gamma)}\"\n",
    "    elif gamma < 0:\n",
    "        s_gamma = f\" - {abs(gamma)}\"\n",
    "    \n",
    "    print(f\"{s_alpha}{s_beta}{s_gamma}\")"
   ],
   "id": "50154c5a5384a504",
   "outputs": [],
   "execution_count": 64
  },
  {
   "metadata": {
    "ExecuteTime": {
     "end_time": "2024-11-13T11:36:04.832235Z",
     "start_time": "2024-11-13T11:36:04.829972Z"
    }
   },
   "cell_type": "code",
   "source": "expand(-1,2,3,4)",
   "id": "a511713def841463",
   "outputs": [
    {
     "name": "stdout",
     "output_type": "stream",
     "text": [
      "-3x^2 + 2x + 8\n"
     ]
    }
   ],
   "execution_count": 67
  },
  {
   "metadata": {},
   "cell_type": "code",
   "outputs": [],
   "execution_count": null,
   "source": "",
   "id": "2a8c4359fcbf5016"
  },
  {
   "metadata": {
    "ExecuteTime": {
     "end_time": "2024-11-13T12:29:08.673112Z",
     "start_time": "2024-11-13T12:29:08.670004Z"
    }
   },
   "cell_type": "code",
   "source": "points = [[1,1],[3,2],[5,3],[4,1],[2,3],[1,4]]",
   "id": "601755a46c31b968",
   "outputs": [],
   "execution_count": 85
  },
  {
   "metadata": {
    "ExecuteTime": {
     "end_time": "2024-11-13T12:29:09.170422Z",
     "start_time": "2024-11-13T12:29:09.167535Z"
    }
   },
   "cell_type": "code",
   "source": [
    "class Line:\n",
    "    def __init__(self, x0: tuple[int, int], x1: tuple[int, int]):\n",
    "        self.dy = x0[1] - x1[1]\n",
    "        self.dx = x1[0] - x0[0]\n",
    "        self.c = - (self.dx*x0[1] + self.dy*x0[0])\n",
    "        \n",
    "    def __repr__(self):\n",
    "        return f\"{self.dx}y + {self.dy}x + {self.c} = 0\"\n",
    "        \n",
    "    def online(self, point: tuple[int, int]):\n",
    "        if self.dx*point[1] + self.dy*point[0] + self.c == 0:\n",
    "            return True\n",
    "        return False"
   ],
   "id": "3f3a34ff01de15f5",
   "outputs": [],
   "execution_count": 86
  },
  {
   "metadata": {
    "ExecuteTime": {
     "end_time": "2024-11-13T12:29:26.111517Z",
     "start_time": "2024-11-13T12:29:26.108621Z"
    }
   },
   "cell_type": "code",
   "source": [
    "indices = set(range(len(points)))\n",
    "counts = dict()\n",
    "for i, p0 in enumerate(points):\n",
    "    for j, p1 in enumerate(points):\n",
    "        if p0 == p1:\n",
    "            continue\n",
    "            \n",
    "        line = Line(p0, p1)\n",
    "        _count = 2\n",
    "        for k in indices-{i, j}:\n",
    "            if line.online(points[k]):\n",
    "                _count += 1\n",
    "        counts[(i,j)] = _count"
   ],
   "id": "c058b8c22efa74ac",
   "outputs": [],
   "execution_count": 91
  },
  {
   "metadata": {
    "ExecuteTime": {
     "end_time": "2024-11-13T12:29:26.553028Z",
     "start_time": "2024-11-13T12:29:26.550227Z"
    }
   },
   "cell_type": "code",
   "source": "counts",
   "id": "86335ce037c783fc",
   "outputs": [
    {
     "data": {
      "text/plain": [
       "{(0, 1): 3,\n",
       " (0, 2): 3,\n",
       " (0, 3): 2,\n",
       " (0, 4): 2,\n",
       " (0, 5): 2,\n",
       " (1, 0): 3,\n",
       " (1, 2): 3,\n",
       " (1, 3): 4,\n",
       " (1, 4): 4,\n",
       " (1, 5): 4,\n",
       " (2, 0): 3,\n",
       " (2, 1): 3,\n",
       " (2, 3): 2,\n",
       " (2, 4): 2,\n",
       " (2, 5): 2,\n",
       " (3, 0): 2,\n",
       " (3, 1): 4,\n",
       " (3, 2): 2,\n",
       " (3, 4): 4,\n",
       " (3, 5): 4,\n",
       " (4, 0): 2,\n",
       " (4, 1): 4,\n",
       " (4, 2): 2,\n",
       " (4, 3): 4,\n",
       " (4, 5): 4,\n",
       " (5, 0): 2,\n",
       " (5, 1): 4,\n",
       " (5, 2): 2,\n",
       " (5, 3): 4,\n",
       " (5, 4): 4}"
      ]
     },
     "execution_count": 92,
     "metadata": {},
     "output_type": "execute_result"
    }
   ],
   "execution_count": 92
  },
  {
   "metadata": {
    "ExecuteTime": {
     "end_time": "2024-11-13T12:29:29.816234Z",
     "start_time": "2024-11-13T12:29:29.814023Z"
    }
   },
   "cell_type": "code",
   "source": "max(counts.values())",
   "id": "eefc1972f081c1bc",
   "outputs": [
    {
     "data": {
      "text/plain": [
       "4"
      ]
     },
     "execution_count": 93,
     "metadata": {},
     "output_type": "execute_result"
    }
   ],
   "execution_count": 93
  },
  {
   "metadata": {
    "ExecuteTime": {
     "end_time": "2024-11-13T12:41:06.771877Z",
     "start_time": "2024-11-13T12:41:06.770063Z"
    }
   },
   "cell_type": "code",
   "source": "s = \"(1+(4+5+2)-3)+(6+8)\"",
   "id": "bf5e40f19f3755dd",
   "outputs": [],
   "execution_count": 99
  },
  {
   "metadata": {
    "ExecuteTime": {
     "end_time": "2024-11-13T12:40:40.524751Z",
     "start_time": "2024-11-13T12:40:40.521191Z"
    }
   },
   "cell_type": "code",
   "source": "s.count(\"(\") - s.count(\")\")",
   "id": "ef4b0fce7d24becd",
   "outputs": [
    {
     "data": {
      "text/plain": [
       "0"
      ]
     },
     "execution_count": 98,
     "metadata": {},
     "output_type": "execute_result"
    }
   ],
   "execution_count": 98
  },
  {
   "metadata": {
    "ExecuteTime": {
     "end_time": "2024-11-13T13:55:23.625469Z",
     "start_time": "2024-11-13T13:55:23.620562Z"
    }
   },
   "cell_type": "code",
   "source": [
    "digits = \"0123456789\"\n",
    "def split_exp(s):\n",
    "    t = s.replace(\" \", \"\") + \" \"\n",
    "    \n",
    "    g = []\n",
    "    \n",
    "    i = 0\n",
    "    while i < len(t):\n",
    "        if t[i] == \"(\":\n",
    "            bras = 1\n",
    "            cache = \"\"\n",
    "            i += 1\n",
    "            while bras != 0:\n",
    "                cache += t[i]\n",
    "                if t[i] == \")\":\n",
    "                    bras -= 1\n",
    "                elif t[i] == \"(\":\n",
    "                    bras += 1\n",
    "                i += 1\n",
    "            g.append(cache[:-1])\n",
    "            \n",
    "        if t[i] in \"+-\":\n",
    "            g.append(t[i])\n",
    "            \n",
    "        if t[i] in digits:\n",
    "            cache = \"\"\n",
    "            while True:\n",
    "                if t[i] in digits:\n",
    "                    cache += t[i]\n",
    "                    i+=1\n",
    "                else:\n",
    "                    i-=1\n",
    "                    break\n",
    "                \n",
    "            g.append(cache)\n",
    "                \n",
    "        i+=1\n",
    "        \n",
    "    return g"
   ],
   "id": "71bc655b6ed0fd5",
   "outputs": [],
   "execution_count": 187
  },
  {
   "metadata": {
    "ExecuteTime": {
     "end_time": "2024-11-13T13:55:23.906299Z",
     "start_time": "2024-11-13T13:55:23.903011Z"
    }
   },
   "cell_type": "code",
   "source": "split_exp(\"(-1+(4+5+2)-3)+(6+8)\")",
   "id": "f76c9941e07c9d58",
   "outputs": [
    {
     "data": {
      "text/plain": [
       "['-1+(4+5+2)-3', '+', '6+8']"
      ]
     },
     "execution_count": 188,
     "metadata": {},
     "output_type": "execute_result"
    }
   ],
   "execution_count": 188
  },
  {
   "metadata": {
    "ExecuteTime": {
     "end_time": "2024-11-13T13:51:52.626742Z",
     "start_time": "2024-11-13T13:51:52.624547Z"
    }
   },
   "cell_type": "code",
   "source": "split_exp('-1+(4+5+2)-3')",
   "id": "befc9bc0cf483082",
   "outputs": [
    {
     "data": {
      "text/plain": [
       "['-', '1', '+', '4+5+2', '-', '3']"
      ]
     },
     "execution_count": 180,
     "metadata": {},
     "output_type": "execute_result"
    }
   ],
   "execution_count": 180
  },
  {
   "metadata": {
    "ExecuteTime": {
     "end_time": "2024-11-13T13:51:53.006225Z",
     "start_time": "2024-11-13T13:51:53.003793Z"
    }
   },
   "cell_type": "code",
   "source": "split_exp('6+8')",
   "id": "6dceba7cc71daccd",
   "outputs": [
    {
     "data": {
      "text/plain": [
       "['6', '+', '8']"
      ]
     },
     "execution_count": 181,
     "metadata": {},
     "output_type": "execute_result"
    }
   ],
   "execution_count": 181
  },
  {
   "metadata": {
    "ExecuteTime": {
     "end_time": "2024-11-13T14:01:43.689363Z",
     "start_time": "2024-11-13T14:01:43.686422Z"
    }
   },
   "cell_type": "code",
   "source": [
    "def reduced(s):\n",
    "    if len(s) == 1:\n",
    "        return True\n",
    "    if \"(\" in s or \")\" in s:\n",
    "        return False\n",
    "    if all(_ in digits for _ in s):\n",
    "        return True\n",
    "    return False\n",
    "\n",
    "def evaluate_sum(g):\n",
    "    h = [\"+\"] + split_exp(g)\n",
    "    arr = []\n",
    "    for index, item in enumerate(h[1:]):\n",
    "        if item in \"+-\":\n",
    "            continue\n",
    "        if h[index-1] == \"-\":\n",
    "            arr.append(int(\"-\"+item))\n",
    "        else:\n",
    "            arr.append(int(item))\n",
    "    return sum(arr)"
   ],
   "id": "7973d749caef54fd",
   "outputs": [],
   "execution_count": 193
  },
  {
   "metadata": {
    "ExecuteTime": {
     "end_time": "2024-11-13T14:01:52.783116Z",
     "start_time": "2024-11-13T14:01:52.780892Z"
    }
   },
   "cell_type": "code",
   "source": [
    "g = \"6+8\"\n",
    "evaluate_sum(g)"
   ],
   "id": "36471ac840b906e3",
   "outputs": [
    {
     "data": {
      "text/plain": [
       "14"
      ]
     },
     "execution_count": 195,
     "metadata": {},
     "output_type": "execute_result"
    }
   ],
   "execution_count": 195
  },
  {
   "metadata": {
    "ExecuteTime": {
     "end_time": "2024-11-13T14:01:54.075925Z",
     "start_time": "2024-11-13T14:01:54.071307Z"
    }
   },
   "cell_type": "code",
   "source": [
    "g = split_exp(\"(-1+(4+5+2)-3)+(6+8)\")\n",
    "\n",
    "sums = []\n",
    "\n",
    "for expression in g:\n",
    "    if reduced(expression):\n",
    "        sums.append(evaluate_sum(expression))\n",
    "    else:\n",
    "        "
   ],
   "id": "13951e3623bbb7cc",
   "outputs": [
    {
     "ename": "SyntaxError",
     "evalue": "incomplete input (2444851583.py, line 9)",
     "output_type": "error",
     "traceback": [
      "\u001B[0;36m  Cell \u001B[0;32mIn[196], line 9\u001B[0;36m\u001B[0m\n\u001B[0;31m    \u001B[0m\n\u001B[0m    ^\u001B[0m\n\u001B[0;31mSyntaxError\u001B[0m\u001B[0;31m:\u001B[0m incomplete input\n"
     ]
    }
   ],
   "execution_count": 196
  },
  {
   "metadata": {
    "ExecuteTime": {
     "end_time": "2024-11-13T14:03:00.556454Z",
     "start_time": "2024-11-13T14:03:00.554629Z"
    }
   },
   "cell_type": "code",
   "source": [
    "def sum_expression(expression):\n",
    "    print(expression)\n",
    "    if reduced(expression):\n",
    "        return evaluate_sum(expression)\n",
    "    return sum([sum_expression(_) for _ in split_exp(expression)])"
   ],
   "id": "302547b1369ee2e8",
   "outputs": [],
   "execution_count": 201
  },
  {
   "metadata": {
    "ExecuteTime": {
     "end_time": "2024-11-13T14:03:00.984844Z",
     "start_time": "2024-11-13T14:03:00.982331Z"
    }
   },
   "cell_type": "code",
   "source": "sum_expression(\"(-1+(4+5+2)-3)+(6+8)\")",
   "id": "14bcc02f655b2773",
   "outputs": [
    {
     "name": "stdout",
     "output_type": "stream",
     "text": [
      "(-1+(4+5+2)-3)+(6+8)\n",
      "-1+(4+5+2)-3\n",
      "-\n",
      "1\n",
      "+\n",
      "4+5+2\n",
      "4\n",
      "+\n",
      "5\n",
      "+\n",
      "2\n",
      "-\n",
      "3\n",
      "+\n",
      "6+8\n",
      "6\n",
      "+\n",
      "8\n"
     ]
    },
    {
     "data": {
      "text/plain": [
       "29"
      ]
     },
     "execution_count": 202,
     "metadata": {},
     "output_type": "execute_result"
    }
   ],
   "execution_count": 202
  },
  {
   "metadata": {
    "ExecuteTime": {
     "end_time": "2024-11-13T14:02:05.271713Z",
     "start_time": "2024-11-13T14:02:05.267452Z"
    }
   },
   "cell_type": "code",
   "source": "(-1+(4+5+2)-3)+(6+8)",
   "id": "cdd70e6f3ece475f",
   "outputs": [
    {
     "data": {
      "text/plain": [
       "21"
      ]
     },
     "execution_count": 199,
     "metadata": {},
     "output_type": "execute_result"
    }
   ],
   "execution_count": 199
  },
  {
   "metadata": {},
   "cell_type": "code",
   "outputs": [],
   "execution_count": null,
   "source": "",
   "id": "aeca2b6468fbf55a"
  }
 ],
 "metadata": {
  "kernelspec": {
   "display_name": "Python 3",
   "language": "python",
   "name": "python3"
  },
  "language_info": {
   "codemirror_mode": {
    "name": "ipython",
    "version": 2
   },
   "file_extension": ".py",
   "mimetype": "text/x-python",
   "name": "python",
   "nbconvert_exporter": "python",
   "pygments_lexer": "ipython2",
   "version": "2.7.6"
  }
 },
 "nbformat": 4,
 "nbformat_minor": 5
}
